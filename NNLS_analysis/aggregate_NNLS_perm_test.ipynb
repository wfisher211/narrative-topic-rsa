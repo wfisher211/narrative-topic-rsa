{
 "cells": [
  {
   "cell_type": "markdown",
   "metadata": {},
   "source": [
    "# Imports"
   ]
  },
  {
   "cell_type": "code",
   "execution_count": 13,
   "metadata": {},
   "outputs": [],
   "source": [
    "# %% ─────────────────────────────────────────────\n",
    "# 0) Imports & global config\n",
    "# ------------------------------------------------\n",
    "import os, re, glob\n",
    "from pathlib import Path\n",
    "import numpy as np, pandas as pd, nibabel as nib\n",
    "from nilearn import datasets, image\n",
    "from scipy.optimize import nnls\n",
    "from tqdm.notebook import tqdm\n"
   ]
  },
  {
   "cell_type": "code",
   "execution_count": 14,
   "metadata": {},
   "outputs": [],
   "source": [
    "np.random.seed(42)"
   ]
  },
  {
   "cell_type": "markdown",
   "metadata": {},
   "source": [
    "# Parameters"
   ]
  },
  {
   "cell_type": "code",
   "execution_count": 15,
   "metadata": {},
   "outputs": [],
   "source": [
    "# ---- stories to pool ---------------------------------------------------\n",
    "STIMS = [ \"slumlordreach\", \"pieman\", \"black\", \"forgot\", \"reachforstars\", \"notthefallintact\"]                 # [\"slumlordreach\", \"pieman\", \"black\", \"forgot\", \"reachforstars\", \"notthefallintact\"]\n",
    "\n",
    "# ---- trait models ------------------------------------------------------\n",
    "TRAIT_SETS = {\n",
    "    \"all_13\": [\n",
    "        \"Open-minded\",\"feeling Affectionate\",\"Attentive\",\"Assertive\",\n",
    "        \"feeling Gloomy\",\"feeling Peaceful\",\"Agreeable\",\"Judging\",\n",
    "        \"feeling Angry\",\"feeling Bewildered\",\"Impulsive\",\n",
    "        \"Self-disciplined\",\"Contemplating\"\n",
    "    ],\n",
    "    \"mental_8\": [\n",
    "        \"feeling Affectionate\",\"feeling Gloomy\",\"feeling Peaceful\",\n",
    "        \"feeling Angry\",\"feeling Bewildered\",\"Judging\",\n",
    "        \"Contemplating\",\"Attentive\"\n",
    "    ],\n",
    "    \"personality_5\": [\n",
    "        \"Open-minded\",\"Agreeable\",\"Assertive\",\n",
    "        \"Self-disciplined\",\"Impulsive\"\n",
    "    ],\n",
    "    \"trait_9\": [\n",
    "        \"Open-minded\",\"feeling Affectionate\",\"Attentive\",\"Assertive\",\n",
    "        \"Agreeable\",\"Judging\",\"feeling Angry\",\"Self-disciplined\",\"Contemplating\"\n",
    "    ]\n",
    "}\n",
    "# select which trait model to use here:\n",
    "model_key = \"all_13\"               # options: all_13, mental_8, personality_5, trait_9 \n",
    "traits    = TRAIT_SETS[model_key]\n",
    "TRAIT_SAVE = [t.replace(\" \",\"_\").replace(\"-\",\"_\") for t in traits]\n",
    "\n",
    "# ---- misc hyper-params -------------------------------------------------\n",
    "root_dir  = Path(\"/Volumes/Passport/fmriprep\")\n",
    "deriv_dir = root_dir / \"derivatives\"\n",
    "shift_window      = 20\n",
    "smoothing_setting = \"_no_smoothing\"     # options: \" \" or \"_no_smoothing\"\n",
    "n_perm            = 100\n",
    "PARCEL_OF_INTEREST = 68"
   ]
  },
  {
   "cell_type": "code",
   "execution_count": 16,
   "metadata": {},
   "outputs": [],
   "source": [
    "# Expected # subject-run CSVs that should exist after NNLS per-parcel analysis\n",
    "EXPECTED_CSV_COUNTS = {\n",
    "    \"slumlordreach\":   17,\n",
    "    \"pieman\":          75,\n",
    "    \"black\":           46,\n",
    "    \"forgot\":          46,\n",
    "    \"reachforstars\":   17,\n",
    "    \"notthefallintact\":54,\n",
    "}"
   ]
  },
  {
   "cell_type": "code",
   "execution_count": null,
   "metadata": {},
   "outputs": [
    {
     "name": "stdout",
     "output_type": "stream",
     "text": [
      "pooled CSV shape → (51000, 23)\n"
     ]
    },
    {
     "data": {
      "application/vnd.jupyter.widget-view+json": {
       "model_id": "aa0c412646fb4f8ab8f0797e586108c2",
       "version_major": 2,
       "version_minor": 0
      },
      "text/plain": [
       "slumlordreach: caching RDMs:   0%|          | 0/1 [00:00<?, ?it/s]"
      ]
     },
     "metadata": {},
     "output_type": "display_data"
    },
    {
     "data": {
      "application/vnd.jupyter.widget-view+json": {
       "model_id": "c94eb66cd10f4f94a3758343367bd163",
       "version_major": 2,
       "version_minor": 0
      },
      "text/plain": [
       "slumlordreach: caching RDMs:   0%|          | 0/1 [00:00<?, ?it/s]"
      ]
     },
     "metadata": {},
     "output_type": "display_data"
    },
    {
     "data": {
      "application/vnd.jupyter.widget-view+json": {
       "model_id": "7f4106488e6f40b599af3f3386b1e8a3",
       "version_major": 2,
       "version_minor": 0
      },
      "text/plain": [
       "slumlordreach: caching RDMs:   0%|          | 0/1 [00:00<?, ?it/s]"
      ]
     },
     "metadata": {},
     "output_type": "display_data"
    },
    {
     "data": {
      "application/vnd.jupyter.widget-view+json": {
       "model_id": "4560cc66043944ee944340b0d9e9b4e5",
       "version_major": 2,
       "version_minor": 0
      },
      "text/plain": [
       "slumlordreach: caching RDMs:   0%|          | 0/1 [00:00<?, ?it/s]"
      ]
     },
     "metadata": {},
     "output_type": "display_data"
    },
    {
     "data": {
      "application/vnd.jupyter.widget-view+json": {
       "model_id": "8e0e71ab90494d10aa1a7f45d1fc9d31",
       "version_major": 2,
       "version_minor": 0
      },
      "text/plain": [
       "slumlordreach: caching RDMs:   0%|          | 0/1 [00:00<?, ?it/s]"
      ]
     },
     "metadata": {},
     "output_type": "display_data"
    },
    {
     "data": {
      "application/vnd.jupyter.widget-view+json": {
       "model_id": "79c770ee27664617aa8b666ee1591526",
       "version_major": 2,
       "version_minor": 0
      },
      "text/plain": [
       "slumlordreach: caching RDMs:   0%|          | 0/1 [00:00<?, ?it/s]"
      ]
     },
     "metadata": {},
     "output_type": "display_data"
    },
    {
     "data": {
      "application/vnd.jupyter.widget-view+json": {
       "model_id": "4d088cf82adb4607ae87257844a0f5d3",
       "version_major": 2,
       "version_minor": 0
      },
      "text/plain": [
       "slumlordreach: caching RDMs:   0%|          | 0/1 [00:00<?, ?it/s]"
      ]
     },
     "metadata": {},
     "output_type": "display_data"
    },
    {
     "data": {
      "application/vnd.jupyter.widget-view+json": {
       "model_id": "ad9db1878c6b4af3bd79df5ee77a293a",
       "version_major": 2,
       "version_minor": 0
      },
      "text/plain": [
       "slumlordreach: caching RDMs:   0%|          | 0/1 [00:00<?, ?it/s]"
      ]
     },
     "metadata": {},
     "output_type": "display_data"
    },
    {
     "data": {
      "application/vnd.jupyter.widget-view+json": {
       "model_id": "05767b6f281c4790a6afe6aa8b1ffeab",
       "version_major": 2,
       "version_minor": 0
      },
      "text/plain": [
       "slumlordreach: caching RDMs:   0%|          | 0/1 [00:00<?, ?it/s]"
      ]
     },
     "metadata": {},
     "output_type": "display_data"
    },
    {
     "data": {
      "application/vnd.jupyter.widget-view+json": {
       "model_id": "1532ed5d351a4b5594c7bd63ecdfaa94",
       "version_major": 2,
       "version_minor": 0
      },
      "text/plain": [
       "slumlordreach: caching RDMs:   0%|          | 0/1 [00:00<?, ?it/s]"
      ]
     },
     "metadata": {},
     "output_type": "display_data"
    },
    {
     "data": {
      "application/vnd.jupyter.widget-view+json": {
       "model_id": "48c77c4e04fd4cdb923521a508170834",
       "version_major": 2,
       "version_minor": 0
      },
      "text/plain": [
       "slumlordreach: caching RDMs:   0%|          | 0/1 [00:00<?, ?it/s]"
      ]
     },
     "metadata": {},
     "output_type": "display_data"
    },
    {
     "data": {
      "application/vnd.jupyter.widget-view+json": {
       "model_id": "63138b81c02e4c3fa3cf6eecb0dbbb7a",
       "version_major": 2,
       "version_minor": 0
      },
      "text/plain": [
       "slumlordreach: caching RDMs:   0%|          | 0/1 [00:00<?, ?it/s]"
      ]
     },
     "metadata": {},
     "output_type": "display_data"
    },
    {
     "data": {
      "application/vnd.jupyter.widget-view+json": {
       "model_id": "2aa2d4099ebc405391bf232e27c6576a",
       "version_major": 2,
       "version_minor": 0
      },
      "text/plain": [
       "slumlordreach: caching RDMs:   0%|          | 0/1 [00:00<?, ?it/s]"
      ]
     },
     "metadata": {},
     "output_type": "display_data"
    },
    {
     "data": {
      "application/vnd.jupyter.widget-view+json": {
       "model_id": "66a352d3afda4b98b43bb2aa8f65c12b",
       "version_major": 2,
       "version_minor": 0
      },
      "text/plain": [
       "slumlordreach: caching RDMs:   0%|          | 0/1 [00:00<?, ?it/s]"
      ]
     },
     "metadata": {},
     "output_type": "display_data"
    },
    {
     "data": {
      "application/vnd.jupyter.widget-view+json": {
       "model_id": "ada010214c05442e82511c9129bcb1db",
       "version_major": 2,
       "version_minor": 0
      },
      "text/plain": [
       "slumlordreach: caching RDMs:   0%|          | 0/1 [00:00<?, ?it/s]"
      ]
     },
     "metadata": {},
     "output_type": "display_data"
    },
    {
     "data": {
      "application/vnd.jupyter.widget-view+json": {
       "model_id": "49f29082548544dcb41fc7acfea63f94",
       "version_major": 2,
       "version_minor": 0
      },
      "text/plain": [
       "slumlordreach: caching RDMs:   0%|          | 0/1 [00:00<?, ?it/s]"
      ]
     },
     "metadata": {},
     "output_type": "display_data"
    },
    {
     "data": {
      "application/vnd.jupyter.widget-view+json": {
       "model_id": "67d96e99372a4334876a1c4873f194d1",
       "version_major": 2,
       "version_minor": 0
      },
      "text/plain": [
       "slumlordreach: caching RDMs:   0%|          | 0/1 [00:00<?, ?it/s]"
      ]
     },
     "metadata": {},
     "output_type": "display_data"
    },
    {
     "data": {
      "application/vnd.jupyter.widget-view+json": {
       "model_id": "10089cd4032b4d3bb42e83b73f62c88f",
       "version_major": 2,
       "version_minor": 0
      },
      "text/plain": [
       "pieman: caching RDMs:   0%|          | 0/1 [00:00<?, ?it/s]"
      ]
     },
     "metadata": {},
     "output_type": "display_data"
    },
    {
     "data": {
      "application/vnd.jupyter.widget-view+json": {
       "model_id": "ea66a48926764085a1e179b4adcf7172",
       "version_major": 2,
       "version_minor": 0
      },
      "text/plain": [
       "pieman: caching RDMs:   0%|          | 0/1 [00:00<?, ?it/s]"
      ]
     },
     "metadata": {},
     "output_type": "display_data"
    },
    {
     "data": {
      "application/vnd.jupyter.widget-view+json": {
       "model_id": "9fd206a0548f42a8b34e9b0489208038",
       "version_major": 2,
       "version_minor": 0
      },
      "text/plain": [
       "pieman: caching RDMs:   0%|          | 0/1 [00:00<?, ?it/s]"
      ]
     },
     "metadata": {},
     "output_type": "display_data"
    },
    {
     "data": {
      "application/vnd.jupyter.widget-view+json": {
       "model_id": "815c3f24b4cf4f6bb0f4c15f4cd00176",
       "version_major": 2,
       "version_minor": 0
      },
      "text/plain": [
       "pieman: caching RDMs:   0%|          | 0/1 [00:00<?, ?it/s]"
      ]
     },
     "metadata": {},
     "output_type": "display_data"
    },
    {
     "data": {
      "application/vnd.jupyter.widget-view+json": {
       "model_id": "4ecada921ae244cb960476c05e160a42",
       "version_major": 2,
       "version_minor": 0
      },
      "text/plain": [
       "pieman: caching RDMs:   0%|          | 0/1 [00:00<?, ?it/s]"
      ]
     },
     "metadata": {},
     "output_type": "display_data"
    },
    {
     "data": {
      "application/vnd.jupyter.widget-view+json": {
       "model_id": "fba424d0a77c4069aa447b8cf04918e6",
       "version_major": 2,
       "version_minor": 0
      },
      "text/plain": [
       "pieman: caching RDMs:   0%|          | 0/1 [00:00<?, ?it/s]"
      ]
     },
     "metadata": {},
     "output_type": "display_data"
    },
    {
     "data": {
      "application/vnd.jupyter.widget-view+json": {
       "model_id": "53c1e0c2ad604bc5a2b641699608e712",
       "version_major": 2,
       "version_minor": 0
      },
      "text/plain": [
       "pieman: caching RDMs:   0%|          | 0/1 [00:00<?, ?it/s]"
      ]
     },
     "metadata": {},
     "output_type": "display_data"
    },
    {
     "data": {
      "application/vnd.jupyter.widget-view+json": {
       "model_id": "bfc90d6eac6546da8acf55da68f91c6f",
       "version_major": 2,
       "version_minor": 0
      },
      "text/plain": [
       "pieman: caching RDMs:   0%|          | 0/1 [00:00<?, ?it/s]"
      ]
     },
     "metadata": {},
     "output_type": "display_data"
    },
    {
     "data": {
      "application/vnd.jupyter.widget-view+json": {
       "model_id": "dde6899876dc4cf8a7d70bd378ae82c3",
       "version_major": 2,
       "version_minor": 0
      },
      "text/plain": [
       "pieman: caching RDMs:   0%|          | 0/1 [00:00<?, ?it/s]"
      ]
     },
     "metadata": {},
     "output_type": "display_data"
    },
    {
     "data": {
      "application/vnd.jupyter.widget-view+json": {
       "model_id": "ef2ed2b5fe84441992be1555607a1fe1",
       "version_major": 2,
       "version_minor": 0
      },
      "text/plain": [
       "pieman: caching RDMs:   0%|          | 0/1 [00:00<?, ?it/s]"
      ]
     },
     "metadata": {},
     "output_type": "display_data"
    },
    {
     "data": {
      "application/vnd.jupyter.widget-view+json": {
       "model_id": "c3f7f306bfe6476d83a53387342ac0bb",
       "version_major": 2,
       "version_minor": 0
      },
      "text/plain": [
       "pieman: caching RDMs:   0%|          | 0/1 [00:00<?, ?it/s]"
      ]
     },
     "metadata": {},
     "output_type": "display_data"
    },
    {
     "data": {
      "application/vnd.jupyter.widget-view+json": {
       "model_id": "200c4d319a2449b1af7b5b64e47fc407",
       "version_major": 2,
       "version_minor": 0
      },
      "text/plain": [
       "pieman: caching RDMs:   0%|          | 0/1 [00:00<?, ?it/s]"
      ]
     },
     "metadata": {},
     "output_type": "display_data"
    },
    {
     "data": {
      "application/vnd.jupyter.widget-view+json": {
       "model_id": "55e4ae081a504677b0958f52a9a4edbb",
       "version_major": 2,
       "version_minor": 0
      },
      "text/plain": [
       "pieman: caching RDMs:   0%|          | 0/1 [00:00<?, ?it/s]"
      ]
     },
     "metadata": {},
     "output_type": "display_data"
    },
    {
     "data": {
      "application/vnd.jupyter.widget-view+json": {
       "model_id": "bf087f03ffb5483a950bca36de465d2a",
       "version_major": 2,
       "version_minor": 0
      },
      "text/plain": [
       "pieman: caching RDMs:   0%|          | 0/1 [00:00<?, ?it/s]"
      ]
     },
     "metadata": {},
     "output_type": "display_data"
    },
    {
     "data": {
      "application/vnd.jupyter.widget-view+json": {
       "model_id": "c1fe37d1ffef4733b44c531edef2d60a",
       "version_major": 2,
       "version_minor": 0
      },
      "text/plain": [
       "pieman: caching RDMs:   0%|          | 0/1 [00:00<?, ?it/s]"
      ]
     },
     "metadata": {},
     "output_type": "display_data"
    },
    {
     "data": {
      "application/vnd.jupyter.widget-view+json": {
       "model_id": "865b624554694e98ba5cc0c41ede329c",
       "version_major": 2,
       "version_minor": 0
      },
      "text/plain": [
       "pieman: caching RDMs:   0%|          | 0/1 [00:00<?, ?it/s]"
      ]
     },
     "metadata": {},
     "output_type": "display_data"
    },
    {
     "data": {
      "application/vnd.jupyter.widget-view+json": {
       "model_id": "89e4dcce1a7c4cd78fdfd9d4ed1017ba",
       "version_major": 2,
       "version_minor": 0
      },
      "text/plain": [
       "pieman: caching RDMs:   0%|          | 0/1 [00:00<?, ?it/s]"
      ]
     },
     "metadata": {},
     "output_type": "display_data"
    },
    {
     "data": {
      "application/vnd.jupyter.widget-view+json": {
       "model_id": "bb5389919d7640feaa92bfc2a5d7e363",
       "version_major": 2,
       "version_minor": 0
      },
      "text/plain": [
       "pieman: caching RDMs:   0%|          | 0/1 [00:00<?, ?it/s]"
      ]
     },
     "metadata": {},
     "output_type": "display_data"
    },
    {
     "data": {
      "application/vnd.jupyter.widget-view+json": {
       "model_id": "ac781193b82c43ac9c08d6d09bc4c2e1",
       "version_major": 2,
       "version_minor": 0
      },
      "text/plain": [
       "pieman: caching RDMs:   0%|          | 0/1 [00:00<?, ?it/s]"
      ]
     },
     "metadata": {},
     "output_type": "display_data"
    },
    {
     "data": {
      "application/vnd.jupyter.widget-view+json": {
       "model_id": "36d52439acf54d07b879a6f8211112aa",
       "version_major": 2,
       "version_minor": 0
      },
      "text/plain": [
       "pieman: caching RDMs:   0%|          | 0/1 [00:00<?, ?it/s]"
      ]
     },
     "metadata": {},
     "output_type": "display_data"
    },
    {
     "data": {
      "application/vnd.jupyter.widget-view+json": {
       "model_id": "049aacac0bda424d8aad260dd967b9b8",
       "version_major": 2,
       "version_minor": 0
      },
      "text/plain": [
       "pieman: caching RDMs:   0%|          | 0/1 [00:00<?, ?it/s]"
      ]
     },
     "metadata": {},
     "output_type": "display_data"
    },
    {
     "data": {
      "application/vnd.jupyter.widget-view+json": {
       "model_id": "cc78d8aedd2145e3ae5957a8486c9385",
       "version_major": 2,
       "version_minor": 0
      },
      "text/plain": [
       "pieman: caching RDMs:   0%|          | 0/1 [00:00<?, ?it/s]"
      ]
     },
     "metadata": {},
     "output_type": "display_data"
    },
    {
     "data": {
      "application/vnd.jupyter.widget-view+json": {
       "model_id": "e766f28f2fce46c9b64933d7746d0b85",
       "version_major": 2,
       "version_minor": 0
      },
      "text/plain": [
       "pieman: caching RDMs:   0%|          | 0/1 [00:00<?, ?it/s]"
      ]
     },
     "metadata": {},
     "output_type": "display_data"
    },
    {
     "data": {
      "application/vnd.jupyter.widget-view+json": {
       "model_id": "f64b89e2087c47fcbcc2b7004163e48e",
       "version_major": 2,
       "version_minor": 0
      },
      "text/plain": [
       "pieman: caching RDMs:   0%|          | 0/1 [00:00<?, ?it/s]"
      ]
     },
     "metadata": {},
     "output_type": "display_data"
    },
    {
     "data": {
      "application/vnd.jupyter.widget-view+json": {
       "model_id": "5495717270934e31b20cfb685d8ad53d",
       "version_major": 2,
       "version_minor": 0
      },
      "text/plain": [
       "pieman: caching RDMs:   0%|          | 0/1 [00:00<?, ?it/s]"
      ]
     },
     "metadata": {},
     "output_type": "display_data"
    },
    {
     "data": {
      "application/vnd.jupyter.widget-view+json": {
       "model_id": "69338fec3eae4333b3bba665f6d4069f",
       "version_major": 2,
       "version_minor": 0
      },
      "text/plain": [
       "pieman: caching RDMs:   0%|          | 0/1 [00:00<?, ?it/s]"
      ]
     },
     "metadata": {},
     "output_type": "display_data"
    },
    {
     "data": {
      "application/vnd.jupyter.widget-view+json": {
       "model_id": "a9f7f00cf4844fa9a0c3450a1f4e4025",
       "version_major": 2,
       "version_minor": 0
      },
      "text/plain": [
       "pieman: caching RDMs:   0%|          | 0/1 [00:00<?, ?it/s]"
      ]
     },
     "metadata": {},
     "output_type": "display_data"
    },
    {
     "data": {
      "application/vnd.jupyter.widget-view+json": {
       "model_id": "3cc068d3dd22447ab0dcafaa551dd2c3",
       "version_major": 2,
       "version_minor": 0
      },
      "text/plain": [
       "pieman: caching RDMs:   0%|          | 0/1 [00:00<?, ?it/s]"
      ]
     },
     "metadata": {},
     "output_type": "display_data"
    },
    {
     "data": {
      "application/vnd.jupyter.widget-view+json": {
       "model_id": "f1a3202985df4bf6849710acbb0356a1",
       "version_major": 2,
       "version_minor": 0
      },
      "text/plain": [
       "pieman: caching RDMs:   0%|          | 0/1 [00:00<?, ?it/s]"
      ]
     },
     "metadata": {},
     "output_type": "display_data"
    },
    {
     "data": {
      "application/vnd.jupyter.widget-view+json": {
       "model_id": "7977cdce159d4966a1600c677b07635a",
       "version_major": 2,
       "version_minor": 0
      },
      "text/plain": [
       "pieman: caching RDMs:   0%|          | 0/1 [00:00<?, ?it/s]"
      ]
     },
     "metadata": {},
     "output_type": "display_data"
    },
    {
     "data": {
      "application/vnd.jupyter.widget-view+json": {
       "model_id": "1696d9849d3042d5add21ef1f6b93e4b",
       "version_major": 2,
       "version_minor": 0
      },
      "text/plain": [
       "pieman: caching RDMs:   0%|          | 0/1 [00:00<?, ?it/s]"
      ]
     },
     "metadata": {},
     "output_type": "display_data"
    },
    {
     "data": {
      "application/vnd.jupyter.widget-view+json": {
       "model_id": "da84c87dcbd943888ef143f99a6eee59",
       "version_major": 2,
       "version_minor": 0
      },
      "text/plain": [
       "pieman: caching RDMs:   0%|          | 0/1 [00:00<?, ?it/s]"
      ]
     },
     "metadata": {},
     "output_type": "display_data"
    },
    {
     "data": {
      "application/vnd.jupyter.widget-view+json": {
       "model_id": "fe9dbba7eea14bdbb616807f2471a13e",
       "version_major": 2,
       "version_minor": 0
      },
      "text/plain": [
       "pieman: caching RDMs:   0%|          | 0/1 [00:00<?, ?it/s]"
      ]
     },
     "metadata": {},
     "output_type": "display_data"
    },
    {
     "data": {
      "application/vnd.jupyter.widget-view+json": {
       "model_id": "95856890ff394a529d3d2d93b65cf254",
       "version_major": 2,
       "version_minor": 0
      },
      "text/plain": [
       "pieman: caching RDMs:   0%|          | 0/1 [00:00<?, ?it/s]"
      ]
     },
     "metadata": {},
     "output_type": "display_data"
    },
    {
     "data": {
      "application/vnd.jupyter.widget-view+json": {
       "model_id": "64b92c4ac090467391fd86891d6597a5",
       "version_major": 2,
       "version_minor": 0
      },
      "text/plain": [
       "pieman: caching RDMs:   0%|          | 0/1 [00:00<?, ?it/s]"
      ]
     },
     "metadata": {},
     "output_type": "display_data"
    },
    {
     "data": {
      "application/vnd.jupyter.widget-view+json": {
       "model_id": "7be01b70b0fa42678476c1dbaeb1affd",
       "version_major": 2,
       "version_minor": 0
      },
      "text/plain": [
       "pieman: caching RDMs:   0%|          | 0/1 [00:00<?, ?it/s]"
      ]
     },
     "metadata": {},
     "output_type": "display_data"
    },
    {
     "data": {
      "application/vnd.jupyter.widget-view+json": {
       "model_id": "b9720a182d884bfba54450614c8fc75d",
       "version_major": 2,
       "version_minor": 0
      },
      "text/plain": [
       "pieman: caching RDMs:   0%|          | 0/1 [00:00<?, ?it/s]"
      ]
     },
     "metadata": {},
     "output_type": "display_data"
    },
    {
     "data": {
      "application/vnd.jupyter.widget-view+json": {
       "model_id": "2d8d8d31e50c4d4282aaca738e5d6f18",
       "version_major": 2,
       "version_minor": 0
      },
      "text/plain": [
       "pieman: caching RDMs:   0%|          | 0/1 [00:00<?, ?it/s]"
      ]
     },
     "metadata": {},
     "output_type": "display_data"
    },
    {
     "data": {
      "application/vnd.jupyter.widget-view+json": {
       "model_id": "8f64f87a7f004d308268fbe76943c9ff",
       "version_major": 2,
       "version_minor": 0
      },
      "text/plain": [
       "pieman: caching RDMs:   0%|          | 0/1 [00:00<?, ?it/s]"
      ]
     },
     "metadata": {},
     "output_type": "display_data"
    },
    {
     "data": {
      "application/vnd.jupyter.widget-view+json": {
       "model_id": "25eb96149abb4c1f86ad1aa9e7c6f684",
       "version_major": 2,
       "version_minor": 0
      },
      "text/plain": [
       "pieman: caching RDMs:   0%|          | 0/1 [00:00<?, ?it/s]"
      ]
     },
     "metadata": {},
     "output_type": "display_data"
    },
    {
     "data": {
      "application/vnd.jupyter.widget-view+json": {
       "model_id": "eaf6c64423e74128b54d3b24323536d9",
       "version_major": 2,
       "version_minor": 0
      },
      "text/plain": [
       "pieman: caching RDMs:   0%|          | 0/1 [00:00<?, ?it/s]"
      ]
     },
     "metadata": {},
     "output_type": "display_data"
    },
    {
     "data": {
      "application/vnd.jupyter.widget-view+json": {
       "model_id": "7d6a23db24374ff89f169f2f35119207",
       "version_major": 2,
       "version_minor": 0
      },
      "text/plain": [
       "pieman: caching RDMs:   0%|          | 0/1 [00:00<?, ?it/s]"
      ]
     },
     "metadata": {},
     "output_type": "display_data"
    },
    {
     "data": {
      "application/vnd.jupyter.widget-view+json": {
       "model_id": "f5eefa89b4a94bc2a8ff3dd216d7be7f",
       "version_major": 2,
       "version_minor": 0
      },
      "text/plain": [
       "pieman: caching RDMs:   0%|          | 0/1 [00:00<?, ?it/s]"
      ]
     },
     "metadata": {},
     "output_type": "display_data"
    },
    {
     "data": {
      "application/vnd.jupyter.widget-view+json": {
       "model_id": "d12116e13b224d3f9a722d90b7104c72",
       "version_major": 2,
       "version_minor": 0
      },
      "text/plain": [
       "pieman: caching RDMs:   0%|          | 0/1 [00:00<?, ?it/s]"
      ]
     },
     "metadata": {},
     "output_type": "display_data"
    },
    {
     "data": {
      "application/vnd.jupyter.widget-view+json": {
       "model_id": "9dbe47bc2d454448bee590f199e917bf",
       "version_major": 2,
       "version_minor": 0
      },
      "text/plain": [
       "pieman: caching RDMs:   0%|          | 0/1 [00:00<?, ?it/s]"
      ]
     },
     "metadata": {},
     "output_type": "display_data"
    },
    {
     "data": {
      "application/vnd.jupyter.widget-view+json": {
       "model_id": "2e077cbceee84332b9d3f0535da6caa9",
       "version_major": 2,
       "version_minor": 0
      },
      "text/plain": [
       "pieman: caching RDMs:   0%|          | 0/1 [00:00<?, ?it/s]"
      ]
     },
     "metadata": {},
     "output_type": "display_data"
    },
    {
     "data": {
      "application/vnd.jupyter.widget-view+json": {
       "model_id": "32bae712a6ca4b7cb8af29575ed2dd24",
       "version_major": 2,
       "version_minor": 0
      },
      "text/plain": [
       "pieman: caching RDMs:   0%|          | 0/1 [00:00<?, ?it/s]"
      ]
     },
     "metadata": {},
     "output_type": "display_data"
    },
    {
     "data": {
      "application/vnd.jupyter.widget-view+json": {
       "model_id": "5dea1f2d057e4cd09fef9d2c1f25c06e",
       "version_major": 2,
       "version_minor": 0
      },
      "text/plain": [
       "pieman: caching RDMs:   0%|          | 0/1 [00:00<?, ?it/s]"
      ]
     },
     "metadata": {},
     "output_type": "display_data"
    },
    {
     "data": {
      "application/vnd.jupyter.widget-view+json": {
       "model_id": "511f874273a344eeb3d634aee523270c",
       "version_major": 2,
       "version_minor": 0
      },
      "text/plain": [
       "pieman: caching RDMs:   0%|          | 0/1 [00:00<?, ?it/s]"
      ]
     },
     "metadata": {},
     "output_type": "display_data"
    },
    {
     "data": {
      "application/vnd.jupyter.widget-view+json": {
       "model_id": "bb0bff7983414cc3b5e55d46f105f0a8",
       "version_major": 2,
       "version_minor": 0
      },
      "text/plain": [
       "pieman: caching RDMs:   0%|          | 0/1 [00:00<?, ?it/s]"
      ]
     },
     "metadata": {},
     "output_type": "display_data"
    },
    {
     "data": {
      "application/vnd.jupyter.widget-view+json": {
       "model_id": "d0c3d282cf504346b7b18ed8c3dc5cb5",
       "version_major": 2,
       "version_minor": 0
      },
      "text/plain": [
       "pieman: caching RDMs:   0%|          | 0/1 [00:00<?, ?it/s]"
      ]
     },
     "metadata": {},
     "output_type": "display_data"
    },
    {
     "data": {
      "application/vnd.jupyter.widget-view+json": {
       "model_id": "d995e8feb9824d65b553759a9445fd0f",
       "version_major": 2,
       "version_minor": 0
      },
      "text/plain": [
       "pieman: caching RDMs:   0%|          | 0/1 [00:00<?, ?it/s]"
      ]
     },
     "metadata": {},
     "output_type": "display_data"
    },
    {
     "data": {
      "application/vnd.jupyter.widget-view+json": {
       "model_id": "e01a172ec7ed4066b07d6e090ea8b216",
       "version_major": 2,
       "version_minor": 0
      },
      "text/plain": [
       "pieman: caching RDMs:   0%|          | 0/1 [00:00<?, ?it/s]"
      ]
     },
     "metadata": {},
     "output_type": "display_data"
    },
    {
     "data": {
      "application/vnd.jupyter.widget-view+json": {
       "model_id": "5532ffcf76fc44d19fee1601e92e543c",
       "version_major": 2,
       "version_minor": 0
      },
      "text/plain": [
       "pieman: caching RDMs:   0%|          | 0/1 [00:00<?, ?it/s]"
      ]
     },
     "metadata": {},
     "output_type": "display_data"
    },
    {
     "data": {
      "application/vnd.jupyter.widget-view+json": {
       "model_id": "1099e7721de74bb5a5d773c103022a5c",
       "version_major": 2,
       "version_minor": 0
      },
      "text/plain": [
       "pieman: caching RDMs:   0%|          | 0/1 [00:00<?, ?it/s]"
      ]
     },
     "metadata": {},
     "output_type": "display_data"
    },
    {
     "data": {
      "application/vnd.jupyter.widget-view+json": {
       "model_id": "60b3cf9a283547b382abe4ab5b7dc349",
       "version_major": 2,
       "version_minor": 0
      },
      "text/plain": [
       "pieman: caching RDMs:   0%|          | 0/1 [00:00<?, ?it/s]"
      ]
     },
     "metadata": {},
     "output_type": "display_data"
    },
    {
     "data": {
      "application/vnd.jupyter.widget-view+json": {
       "model_id": "0b86019840fe42edbc573a8f55dc3f80",
       "version_major": 2,
       "version_minor": 0
      },
      "text/plain": [
       "pieman: caching RDMs:   0%|          | 0/1 [00:00<?, ?it/s]"
      ]
     },
     "metadata": {},
     "output_type": "display_data"
    },
    {
     "data": {
      "application/vnd.jupyter.widget-view+json": {
       "model_id": "359ec2abd8f749dfa974298def483f15",
       "version_major": 2,
       "version_minor": 0
      },
      "text/plain": [
       "pieman: caching RDMs:   0%|          | 0/1 [00:00<?, ?it/s]"
      ]
     },
     "metadata": {},
     "output_type": "display_data"
    },
    {
     "data": {
      "application/vnd.jupyter.widget-view+json": {
       "model_id": "88811179161848b48c930a64ec854e4d",
       "version_major": 2,
       "version_minor": 0
      },
      "text/plain": [
       "pieman: caching RDMs:   0%|          | 0/1 [00:00<?, ?it/s]"
      ]
     },
     "metadata": {},
     "output_type": "display_data"
    },
    {
     "data": {
      "application/vnd.jupyter.widget-view+json": {
       "model_id": "6e43da4a0f0c4d9fb0dd16d143ebd91c",
       "version_major": 2,
       "version_minor": 0
      },
      "text/plain": [
       "pieman: caching RDMs:   0%|          | 0/1 [00:00<?, ?it/s]"
      ]
     },
     "metadata": {},
     "output_type": "display_data"
    },
    {
     "data": {
      "application/vnd.jupyter.widget-view+json": {
       "model_id": "f38e448ea86f4a8aa3d28a7bb1e9abb8",
       "version_major": 2,
       "version_minor": 0
      },
      "text/plain": [
       "pieman: caching RDMs:   0%|          | 0/1 [00:00<?, ?it/s]"
      ]
     },
     "metadata": {},
     "output_type": "display_data"
    },
    {
     "data": {
      "application/vnd.jupyter.widget-view+json": {
       "model_id": "bf614b25644c448abee2bfb21012d5b1",
       "version_major": 2,
       "version_minor": 0
      },
      "text/plain": [
       "pieman: caching RDMs:   0%|          | 0/1 [00:00<?, ?it/s]"
      ]
     },
     "metadata": {},
     "output_type": "display_data"
    },
    {
     "data": {
      "application/vnd.jupyter.widget-view+json": {
       "model_id": "401946746000488ab17779087caea620",
       "version_major": 2,
       "version_minor": 0
      },
      "text/plain": [
       "pieman: caching RDMs:   0%|          | 0/1 [00:00<?, ?it/s]"
      ]
     },
     "metadata": {},
     "output_type": "display_data"
    },
    {
     "data": {
      "application/vnd.jupyter.widget-view+json": {
       "model_id": "3f49d5844d76425c833aa8b355a8ea97",
       "version_major": 2,
       "version_minor": 0
      },
      "text/plain": [
       "pieman: caching RDMs:   0%|          | 0/1 [00:00<?, ?it/s]"
      ]
     },
     "metadata": {},
     "output_type": "display_data"
    },
    {
     "data": {
      "application/vnd.jupyter.widget-view+json": {
       "model_id": "947c7d31c0bd4614863bb3b98c5e16de",
       "version_major": 2,
       "version_minor": 0
      },
      "text/plain": [
       "pieman: caching RDMs:   0%|          | 0/1 [00:00<?, ?it/s]"
      ]
     },
     "metadata": {},
     "output_type": "display_data"
    },
    {
     "data": {
      "application/vnd.jupyter.widget-view+json": {
       "model_id": "7182e2f7678d44a29c5fcde7cdcc1ff9",
       "version_major": 2,
       "version_minor": 0
      },
      "text/plain": [
       "pieman: caching RDMs:   0%|          | 0/1 [00:00<?, ?it/s]"
      ]
     },
     "metadata": {},
     "output_type": "display_data"
    },
    {
     "data": {
      "application/vnd.jupyter.widget-view+json": {
       "model_id": "b3450a5464844f63947ace3c7c0b0a04",
       "version_major": 2,
       "version_minor": 0
      },
      "text/plain": [
       "pieman: caching RDMs:   0%|          | 0/1 [00:00<?, ?it/s]"
      ]
     },
     "metadata": {},
     "output_type": "display_data"
    },
    {
     "data": {
      "application/vnd.jupyter.widget-view+json": {
       "model_id": "1e2437d68318476aa3224abcc8c0214f",
       "version_major": 2,
       "version_minor": 0
      },
      "text/plain": [
       "pieman: caching RDMs:   0%|          | 0/1 [00:00<?, ?it/s]"
      ]
     },
     "metadata": {},
     "output_type": "display_data"
    },
    {
     "data": {
      "application/vnd.jupyter.widget-view+json": {
       "model_id": "a9a5e4d0698e49dcbb7c1b3e6f77f7b6",
       "version_major": 2,
       "version_minor": 0
      },
      "text/plain": [
       "pieman: caching RDMs:   0%|          | 0/1 [00:00<?, ?it/s]"
      ]
     },
     "metadata": {},
     "output_type": "display_data"
    },
    {
     "data": {
      "application/vnd.jupyter.widget-view+json": {
       "model_id": "1eb73983b524417e81e30b24de90140a",
       "version_major": 2,
       "version_minor": 0
      },
      "text/plain": [
       "pieman: caching RDMs:   0%|          | 0/1 [00:00<?, ?it/s]"
      ]
     },
     "metadata": {},
     "output_type": "display_data"
    },
    {
     "data": {
      "application/vnd.jupyter.widget-view+json": {
       "model_id": "6345860b45fd4802be55cf1615724666",
       "version_major": 2,
       "version_minor": 0
      },
      "text/plain": [
       "pieman: caching RDMs:   0%|          | 0/1 [00:00<?, ?it/s]"
      ]
     },
     "metadata": {},
     "output_type": "display_data"
    },
    {
     "data": {
      "application/vnd.jupyter.widget-view+json": {
       "model_id": "50e78d82eb2c4661b16be15f53736342",
       "version_major": 2,
       "version_minor": 0
      },
      "text/plain": [
       "pieman: caching RDMs:   0%|          | 0/1 [00:00<?, ?it/s]"
      ]
     },
     "metadata": {},
     "output_type": "display_data"
    },
    {
     "data": {
      "application/vnd.jupyter.widget-view+json": {
       "model_id": "7dc2847d5b28412497ab557f5f978c89",
       "version_major": 2,
       "version_minor": 0
      },
      "text/plain": [
       "pieman: caching RDMs:   0%|          | 0/1 [00:00<?, ?it/s]"
      ]
     },
     "metadata": {},
     "output_type": "display_data"
    },
    {
     "data": {
      "application/vnd.jupyter.widget-view+json": {
       "model_id": "e3c22299d8164f1998223202c659e278",
       "version_major": 2,
       "version_minor": 0
      },
      "text/plain": [
       "pieman: caching RDMs:   0%|          | 0/1 [00:00<?, ?it/s]"
      ]
     },
     "metadata": {},
     "output_type": "display_data"
    },
    {
     "data": {
      "application/vnd.jupyter.widget-view+json": {
       "model_id": "401b6672b58742a396fcb8404f50bb5d",
       "version_major": 2,
       "version_minor": 0
      },
      "text/plain": [
       "pieman: caching RDMs:   0%|          | 0/1 [00:00<?, ?it/s]"
      ]
     },
     "metadata": {},
     "output_type": "display_data"
    },
    {
     "data": {
      "application/vnd.jupyter.widget-view+json": {
       "model_id": "b6c581ce6f7244f088e6773df18f75ca",
       "version_major": 2,
       "version_minor": 0
      },
      "text/plain": [
       "black: caching RDMs:   0%|          | 0/1 [00:00<?, ?it/s]"
      ]
     },
     "metadata": {},
     "output_type": "display_data"
    },
    {
     "data": {
      "application/vnd.jupyter.widget-view+json": {
       "model_id": "39a39b486750474ab53516117fcaa307",
       "version_major": 2,
       "version_minor": 0
      },
      "text/plain": [
       "black: caching RDMs:   0%|          | 0/1 [00:00<?, ?it/s]"
      ]
     },
     "metadata": {},
     "output_type": "display_data"
    },
    {
     "data": {
      "application/vnd.jupyter.widget-view+json": {
       "model_id": "2ebf154b523e49f99912f6ff8f192439",
       "version_major": 2,
       "version_minor": 0
      },
      "text/plain": [
       "black: caching RDMs:   0%|          | 0/1 [00:00<?, ?it/s]"
      ]
     },
     "metadata": {},
     "output_type": "display_data"
    },
    {
     "data": {
      "application/vnd.jupyter.widget-view+json": {
       "model_id": "bd2fc15bc8f844bc88b0e184e81a6bd7",
       "version_major": 2,
       "version_minor": 0
      },
      "text/plain": [
       "black: caching RDMs:   0%|          | 0/1 [00:00<?, ?it/s]"
      ]
     },
     "metadata": {},
     "output_type": "display_data"
    },
    {
     "data": {
      "application/vnd.jupyter.widget-view+json": {
       "model_id": "a5452226803c4090aa371e2388e7f717",
       "version_major": 2,
       "version_minor": 0
      },
      "text/plain": [
       "black: caching RDMs:   0%|          | 0/1 [00:00<?, ?it/s]"
      ]
     },
     "metadata": {},
     "output_type": "display_data"
    },
    {
     "data": {
      "application/vnd.jupyter.widget-view+json": {
       "model_id": "9d22180bed7c40778fcc7005c0423fda",
       "version_major": 2,
       "version_minor": 0
      },
      "text/plain": [
       "black: caching RDMs:   0%|          | 0/1 [00:00<?, ?it/s]"
      ]
     },
     "metadata": {},
     "output_type": "display_data"
    },
    {
     "data": {
      "application/vnd.jupyter.widget-view+json": {
       "model_id": "4619ee373a03427c92aad689e5b55136",
       "version_major": 2,
       "version_minor": 0
      },
      "text/plain": [
       "black: caching RDMs:   0%|          | 0/1 [00:00<?, ?it/s]"
      ]
     },
     "metadata": {},
     "output_type": "display_data"
    },
    {
     "data": {
      "application/vnd.jupyter.widget-view+json": {
       "model_id": "bd398141d9ed4bd4a5e92fd0ea3c60ec",
       "version_major": 2,
       "version_minor": 0
      },
      "text/plain": [
       "black: caching RDMs:   0%|          | 0/1 [00:00<?, ?it/s]"
      ]
     },
     "metadata": {},
     "output_type": "display_data"
    },
    {
     "data": {
      "application/vnd.jupyter.widget-view+json": {
       "model_id": "2ed70786d7bc4a7f8e51359c1232f44c",
       "version_major": 2,
       "version_minor": 0
      },
      "text/plain": [
       "black: caching RDMs:   0%|          | 0/1 [00:00<?, ?it/s]"
      ]
     },
     "metadata": {},
     "output_type": "display_data"
    },
    {
     "data": {
      "application/vnd.jupyter.widget-view+json": {
       "model_id": "202f846f99524b9d8aa4f005790f3fa1",
       "version_major": 2,
       "version_minor": 0
      },
      "text/plain": [
       "black: caching RDMs:   0%|          | 0/1 [00:00<?, ?it/s]"
      ]
     },
     "metadata": {},
     "output_type": "display_data"
    },
    {
     "data": {
      "application/vnd.jupyter.widget-view+json": {
       "model_id": "67badf16be3b4e63be9eacdebb3b15cf",
       "version_major": 2,
       "version_minor": 0
      },
      "text/plain": [
       "black: caching RDMs:   0%|          | 0/1 [00:00<?, ?it/s]"
      ]
     },
     "metadata": {},
     "output_type": "display_data"
    },
    {
     "data": {
      "application/vnd.jupyter.widget-view+json": {
       "model_id": "49e01715739248818f7cd3ba38bcfdaa",
       "version_major": 2,
       "version_minor": 0
      },
      "text/plain": [
       "black: caching RDMs:   0%|          | 0/1 [00:00<?, ?it/s]"
      ]
     },
     "metadata": {},
     "output_type": "display_data"
    },
    {
     "data": {
      "application/vnd.jupyter.widget-view+json": {
       "model_id": "2287555b3dcd40af929a9ac93f072cc8",
       "version_major": 2,
       "version_minor": 0
      },
      "text/plain": [
       "black: caching RDMs:   0%|          | 0/1 [00:00<?, ?it/s]"
      ]
     },
     "metadata": {},
     "output_type": "display_data"
    },
    {
     "data": {
      "application/vnd.jupyter.widget-view+json": {
       "model_id": "891d0346de7b43b1804e4c2366c9e72e",
       "version_major": 2,
       "version_minor": 0
      },
      "text/plain": [
       "black: caching RDMs:   0%|          | 0/1 [00:00<?, ?it/s]"
      ]
     },
     "metadata": {},
     "output_type": "display_data"
    },
    {
     "data": {
      "application/vnd.jupyter.widget-view+json": {
       "model_id": "c0ed3a688a0b4d24b7ee89fa2a5b8874",
       "version_major": 2,
       "version_minor": 0
      },
      "text/plain": [
       "black: caching RDMs:   0%|          | 0/1 [00:00<?, ?it/s]"
      ]
     },
     "metadata": {},
     "output_type": "display_data"
    },
    {
     "data": {
      "application/vnd.jupyter.widget-view+json": {
       "model_id": "eae9265e000141b1b49838f01f17770c",
       "version_major": 2,
       "version_minor": 0
      },
      "text/plain": [
       "black: caching RDMs:   0%|          | 0/1 [00:00<?, ?it/s]"
      ]
     },
     "metadata": {},
     "output_type": "display_data"
    },
    {
     "data": {
      "application/vnd.jupyter.widget-view+json": {
       "model_id": "6786cabc70e24752aee27a94d9cfbe3a",
       "version_major": 2,
       "version_minor": 0
      },
      "text/plain": [
       "black: caching RDMs:   0%|          | 0/1 [00:00<?, ?it/s]"
      ]
     },
     "metadata": {},
     "output_type": "display_data"
    },
    {
     "data": {
      "application/vnd.jupyter.widget-view+json": {
       "model_id": "434c167b9db54f3abe34566c2b5ff9ac",
       "version_major": 2,
       "version_minor": 0
      },
      "text/plain": [
       "black: caching RDMs:   0%|          | 0/1 [00:00<?, ?it/s]"
      ]
     },
     "metadata": {},
     "output_type": "display_data"
    },
    {
     "data": {
      "application/vnd.jupyter.widget-view+json": {
       "model_id": "f0e56c8c03c7438184fb97db75d2d154",
       "version_major": 2,
       "version_minor": 0
      },
      "text/plain": [
       "black: caching RDMs:   0%|          | 0/1 [00:00<?, ?it/s]"
      ]
     },
     "metadata": {},
     "output_type": "display_data"
    },
    {
     "data": {
      "application/vnd.jupyter.widget-view+json": {
       "model_id": "6c1220febec44b9db080580370ab75dc",
       "version_major": 2,
       "version_minor": 0
      },
      "text/plain": [
       "black: caching RDMs:   0%|          | 0/1 [00:00<?, ?it/s]"
      ]
     },
     "metadata": {},
     "output_type": "display_data"
    },
    {
     "data": {
      "application/vnd.jupyter.widget-view+json": {
       "model_id": "bde6727d8c45494684ee2e1c4fe98080",
       "version_major": 2,
       "version_minor": 0
      },
      "text/plain": [
       "black: caching RDMs:   0%|          | 0/1 [00:00<?, ?it/s]"
      ]
     },
     "metadata": {},
     "output_type": "display_data"
    },
    {
     "data": {
      "application/vnd.jupyter.widget-view+json": {
       "model_id": "fc231cd0dd8e4e15addf21474cb42d5f",
       "version_major": 2,
       "version_minor": 0
      },
      "text/plain": [
       "black: caching RDMs:   0%|          | 0/1 [00:00<?, ?it/s]"
      ]
     },
     "metadata": {},
     "output_type": "display_data"
    },
    {
     "data": {
      "application/vnd.jupyter.widget-view+json": {
       "model_id": "e05360527c07465b88d699d428ce3a3b",
       "version_major": 2,
       "version_minor": 0
      },
      "text/plain": [
       "black: caching RDMs:   0%|          | 0/1 [00:00<?, ?it/s]"
      ]
     },
     "metadata": {},
     "output_type": "display_data"
    },
    {
     "data": {
      "application/vnd.jupyter.widget-view+json": {
       "model_id": "2893a6b7b4234e6493c58d9e851aff23",
       "version_major": 2,
       "version_minor": 0
      },
      "text/plain": [
       "black: caching RDMs:   0%|          | 0/1 [00:00<?, ?it/s]"
      ]
     },
     "metadata": {},
     "output_type": "display_data"
    },
    {
     "data": {
      "application/vnd.jupyter.widget-view+json": {
       "model_id": "65ebf9d7cffe47b6a4fe5b6a0e7049bb",
       "version_major": 2,
       "version_minor": 0
      },
      "text/plain": [
       "black: caching RDMs:   0%|          | 0/1 [00:00<?, ?it/s]"
      ]
     },
     "metadata": {},
     "output_type": "display_data"
    },
    {
     "data": {
      "application/vnd.jupyter.widget-view+json": {
       "model_id": "ec17ce01c4524692ac7bc6c68a86b64b",
       "version_major": 2,
       "version_minor": 0
      },
      "text/plain": [
       "black: caching RDMs:   0%|          | 0/1 [00:00<?, ?it/s]"
      ]
     },
     "metadata": {},
     "output_type": "display_data"
    },
    {
     "data": {
      "application/vnd.jupyter.widget-view+json": {
       "model_id": "c607690681ed49a791e028b5e205a2d9",
       "version_major": 2,
       "version_minor": 0
      },
      "text/plain": [
       "black: caching RDMs:   0%|          | 0/1 [00:00<?, ?it/s]"
      ]
     },
     "metadata": {},
     "output_type": "display_data"
    },
    {
     "data": {
      "application/vnd.jupyter.widget-view+json": {
       "model_id": "5b0c7c4b0ec5466e84736628451aea0a",
       "version_major": 2,
       "version_minor": 0
      },
      "text/plain": [
       "black: caching RDMs:   0%|          | 0/1 [00:00<?, ?it/s]"
      ]
     },
     "metadata": {},
     "output_type": "display_data"
    },
    {
     "data": {
      "application/vnd.jupyter.widget-view+json": {
       "model_id": "0a471810e5ff400588e4e9cd94426187",
       "version_major": 2,
       "version_minor": 0
      },
      "text/plain": [
       "black: caching RDMs:   0%|          | 0/1 [00:00<?, ?it/s]"
      ]
     },
     "metadata": {},
     "output_type": "display_data"
    },
    {
     "data": {
      "application/vnd.jupyter.widget-view+json": {
       "model_id": "ba4e9ad9c6084585961ea3e44a794d68",
       "version_major": 2,
       "version_minor": 0
      },
      "text/plain": [
       "black: caching RDMs:   0%|          | 0/1 [00:00<?, ?it/s]"
      ]
     },
     "metadata": {},
     "output_type": "display_data"
    },
    {
     "data": {
      "application/vnd.jupyter.widget-view+json": {
       "model_id": "30410b89a42d447d9f888f615eafc958",
       "version_major": 2,
       "version_minor": 0
      },
      "text/plain": [
       "black: caching RDMs:   0%|          | 0/1 [00:00<?, ?it/s]"
      ]
     },
     "metadata": {},
     "output_type": "display_data"
    },
    {
     "data": {
      "application/vnd.jupyter.widget-view+json": {
       "model_id": "d185e117ba254d3387f48afcb2a23fe9",
       "version_major": 2,
       "version_minor": 0
      },
      "text/plain": [
       "black: caching RDMs:   0%|          | 0/1 [00:00<?, ?it/s]"
      ]
     },
     "metadata": {},
     "output_type": "display_data"
    },
    {
     "data": {
      "application/vnd.jupyter.widget-view+json": {
       "model_id": "a32783d052ac4a608a9ed53509f42ca8",
       "version_major": 2,
       "version_minor": 0
      },
      "text/plain": [
       "black: caching RDMs:   0%|          | 0/1 [00:00<?, ?it/s]"
      ]
     },
     "metadata": {},
     "output_type": "display_data"
    },
    {
     "data": {
      "application/vnd.jupyter.widget-view+json": {
       "model_id": "4147824f925b4dc388e28bf5ae36ba27",
       "version_major": 2,
       "version_minor": 0
      },
      "text/plain": [
       "black: caching RDMs:   0%|          | 0/1 [00:00<?, ?it/s]"
      ]
     },
     "metadata": {},
     "output_type": "display_data"
    },
    {
     "data": {
      "application/vnd.jupyter.widget-view+json": {
       "model_id": "12261d49ff944585a31c6f422a7eb630",
       "version_major": 2,
       "version_minor": 0
      },
      "text/plain": [
       "black: caching RDMs:   0%|          | 0/1 [00:00<?, ?it/s]"
      ]
     },
     "metadata": {},
     "output_type": "display_data"
    },
    {
     "data": {
      "application/vnd.jupyter.widget-view+json": {
       "model_id": "b177a2b513bc4d1a80baee05d10119ec",
       "version_major": 2,
       "version_minor": 0
      },
      "text/plain": [
       "black: caching RDMs:   0%|          | 0/1 [00:00<?, ?it/s]"
      ]
     },
     "metadata": {},
     "output_type": "display_data"
    },
    {
     "data": {
      "application/vnd.jupyter.widget-view+json": {
       "model_id": "b787398cf1c34d6888665409831bb5e1",
       "version_major": 2,
       "version_minor": 0
      },
      "text/plain": [
       "black: caching RDMs:   0%|          | 0/1 [00:00<?, ?it/s]"
      ]
     },
     "metadata": {},
     "output_type": "display_data"
    },
    {
     "data": {
      "application/vnd.jupyter.widget-view+json": {
       "model_id": "2a787cc8f0b74845a8bb44f720229859",
       "version_major": 2,
       "version_minor": 0
      },
      "text/plain": [
       "black: caching RDMs:   0%|          | 0/1 [00:00<?, ?it/s]"
      ]
     },
     "metadata": {},
     "output_type": "display_data"
    },
    {
     "data": {
      "application/vnd.jupyter.widget-view+json": {
       "model_id": "f34ac7cd4c544bddaed624b40ecc0539",
       "version_major": 2,
       "version_minor": 0
      },
      "text/plain": [
       "black: caching RDMs:   0%|          | 0/1 [00:00<?, ?it/s]"
      ]
     },
     "metadata": {},
     "output_type": "display_data"
    },
    {
     "data": {
      "application/vnd.jupyter.widget-view+json": {
       "model_id": "4e67ae5b86c04f47bc4f2057cb65363d",
       "version_major": 2,
       "version_minor": 0
      },
      "text/plain": [
       "black: caching RDMs:   0%|          | 0/1 [00:00<?, ?it/s]"
      ]
     },
     "metadata": {},
     "output_type": "display_data"
    },
    {
     "data": {
      "application/vnd.jupyter.widget-view+json": {
       "model_id": "7ed33326361948ea839db96fa79785cc",
       "version_major": 2,
       "version_minor": 0
      },
      "text/plain": [
       "black: caching RDMs:   0%|          | 0/1 [00:00<?, ?it/s]"
      ]
     },
     "metadata": {},
     "output_type": "display_data"
    },
    {
     "data": {
      "application/vnd.jupyter.widget-view+json": {
       "model_id": "66a61c8eb16746999a1cd37ad51e2a4d",
       "version_major": 2,
       "version_minor": 0
      },
      "text/plain": [
       "black: caching RDMs:   0%|          | 0/1 [00:00<?, ?it/s]"
      ]
     },
     "metadata": {},
     "output_type": "display_data"
    },
    {
     "data": {
      "application/vnd.jupyter.widget-view+json": {
       "model_id": "6621e0c044cb4c40a379faa4ba06ae41",
       "version_major": 2,
       "version_minor": 0
      },
      "text/plain": [
       "black: caching RDMs:   0%|          | 0/1 [00:00<?, ?it/s]"
      ]
     },
     "metadata": {},
     "output_type": "display_data"
    },
    {
     "data": {
      "application/vnd.jupyter.widget-view+json": {
       "model_id": "4864cd10ffae4523a54f93e5eb7b0eb4",
       "version_major": 2,
       "version_minor": 0
      },
      "text/plain": [
       "black: caching RDMs:   0%|          | 0/1 [00:00<?, ?it/s]"
      ]
     },
     "metadata": {},
     "output_type": "display_data"
    },
    {
     "data": {
      "application/vnd.jupyter.widget-view+json": {
       "model_id": "bb649631591c4df487cb0ae7ebe09108",
       "version_major": 2,
       "version_minor": 0
      },
      "text/plain": [
       "black: caching RDMs:   0%|          | 0/1 [00:00<?, ?it/s]"
      ]
     },
     "metadata": {},
     "output_type": "display_data"
    },
    {
     "data": {
      "application/vnd.jupyter.widget-view+json": {
       "model_id": "f96e811dd6d64fe4acc68ad218dec9b4",
       "version_major": 2,
       "version_minor": 0
      },
      "text/plain": [
       "black: caching RDMs:   0%|          | 0/1 [00:00<?, ?it/s]"
      ]
     },
     "metadata": {},
     "output_type": "display_data"
    },
    {
     "data": {
      "application/vnd.jupyter.widget-view+json": {
       "model_id": "c4d7f9ae30af492e93449ed0dfc40d58",
       "version_major": 2,
       "version_minor": 0
      },
      "text/plain": [
       "forgot: caching RDMs:   0%|          | 0/1 [00:00<?, ?it/s]"
      ]
     },
     "metadata": {},
     "output_type": "display_data"
    },
    {
     "data": {
      "application/vnd.jupyter.widget-view+json": {
       "model_id": "0bfe84f0197d4d13a4026826c1f15795",
       "version_major": 2,
       "version_minor": 0
      },
      "text/plain": [
       "forgot: caching RDMs:   0%|          | 0/1 [00:00<?, ?it/s]"
      ]
     },
     "metadata": {},
     "output_type": "display_data"
    },
    {
     "data": {
      "application/vnd.jupyter.widget-view+json": {
       "model_id": "82801a0439914a58bee64515e9972865",
       "version_major": 2,
       "version_minor": 0
      },
      "text/plain": [
       "forgot: caching RDMs:   0%|          | 0/1 [00:00<?, ?it/s]"
      ]
     },
     "metadata": {},
     "output_type": "display_data"
    },
    {
     "data": {
      "application/vnd.jupyter.widget-view+json": {
       "model_id": "36192347b8a5441c987da032707d78fa",
       "version_major": 2,
       "version_minor": 0
      },
      "text/plain": [
       "forgot: caching RDMs:   0%|          | 0/1 [00:00<?, ?it/s]"
      ]
     },
     "metadata": {},
     "output_type": "display_data"
    },
    {
     "data": {
      "application/vnd.jupyter.widget-view+json": {
       "model_id": "99a128a7cc174dc584bb4e1b79509d05",
       "version_major": 2,
       "version_minor": 0
      },
      "text/plain": [
       "forgot: caching RDMs:   0%|          | 0/1 [00:00<?, ?it/s]"
      ]
     },
     "metadata": {},
     "output_type": "display_data"
    },
    {
     "data": {
      "application/vnd.jupyter.widget-view+json": {
       "model_id": "ab358a39651f43b5b8f153904184db9c",
       "version_major": 2,
       "version_minor": 0
      },
      "text/plain": [
       "forgot: caching RDMs:   0%|          | 0/1 [00:00<?, ?it/s]"
      ]
     },
     "metadata": {},
     "output_type": "display_data"
    },
    {
     "data": {
      "application/vnd.jupyter.widget-view+json": {
       "model_id": "78629d4e6ff74521ac34ddde07ee501c",
       "version_major": 2,
       "version_minor": 0
      },
      "text/plain": [
       "forgot: caching RDMs:   0%|          | 0/1 [00:00<?, ?it/s]"
      ]
     },
     "metadata": {},
     "output_type": "display_data"
    },
    {
     "data": {
      "application/vnd.jupyter.widget-view+json": {
       "model_id": "8fb918ea21f444ee8300858e82744dca",
       "version_major": 2,
       "version_minor": 0
      },
      "text/plain": [
       "forgot: caching RDMs:   0%|          | 0/1 [00:00<?, ?it/s]"
      ]
     },
     "metadata": {},
     "output_type": "display_data"
    },
    {
     "data": {
      "application/vnd.jupyter.widget-view+json": {
       "model_id": "b67f569a910c4cb58ee4e32d1ab9890f",
       "version_major": 2,
       "version_minor": 0
      },
      "text/plain": [
       "forgot: caching RDMs:   0%|          | 0/1 [00:00<?, ?it/s]"
      ]
     },
     "metadata": {},
     "output_type": "display_data"
    },
    {
     "data": {
      "application/vnd.jupyter.widget-view+json": {
       "model_id": "7aa4d95b0cb64ac4aef3d258d7ddb310",
       "version_major": 2,
       "version_minor": 0
      },
      "text/plain": [
       "forgot: caching RDMs:   0%|          | 0/1 [00:00<?, ?it/s]"
      ]
     },
     "metadata": {},
     "output_type": "display_data"
    },
    {
     "data": {
      "application/vnd.jupyter.widget-view+json": {
       "model_id": "c404aeda5d8c4a7eb39928c706917228",
       "version_major": 2,
       "version_minor": 0
      },
      "text/plain": [
       "forgot: caching RDMs:   0%|          | 0/1 [00:00<?, ?it/s]"
      ]
     },
     "metadata": {},
     "output_type": "display_data"
    },
    {
     "data": {
      "application/vnd.jupyter.widget-view+json": {
       "model_id": "2d567a47c6a042cca7b7a1fed3380505",
       "version_major": 2,
       "version_minor": 0
      },
      "text/plain": [
       "forgot: caching RDMs:   0%|          | 0/1 [00:00<?, ?it/s]"
      ]
     },
     "metadata": {},
     "output_type": "display_data"
    },
    {
     "data": {
      "application/vnd.jupyter.widget-view+json": {
       "model_id": "3962caf6f8e74a6eb555c2b4d26a92b9",
       "version_major": 2,
       "version_minor": 0
      },
      "text/plain": [
       "forgot: caching RDMs:   0%|          | 0/1 [00:00<?, ?it/s]"
      ]
     },
     "metadata": {},
     "output_type": "display_data"
    },
    {
     "data": {
      "application/vnd.jupyter.widget-view+json": {
       "model_id": "de76af53d1cc4d389a191215d7e02434",
       "version_major": 2,
       "version_minor": 0
      },
      "text/plain": [
       "forgot: caching RDMs:   0%|          | 0/1 [00:00<?, ?it/s]"
      ]
     },
     "metadata": {},
     "output_type": "display_data"
    },
    {
     "data": {
      "application/vnd.jupyter.widget-view+json": {
       "model_id": "29c7933249fa428ca9c1cbe61eca3e0a",
       "version_major": 2,
       "version_minor": 0
      },
      "text/plain": [
       "forgot: caching RDMs:   0%|          | 0/1 [00:00<?, ?it/s]"
      ]
     },
     "metadata": {},
     "output_type": "display_data"
    },
    {
     "data": {
      "application/vnd.jupyter.widget-view+json": {
       "model_id": "5ddffe45f45846a787e6fd758d86298a",
       "version_major": 2,
       "version_minor": 0
      },
      "text/plain": [
       "forgot: caching RDMs:   0%|          | 0/1 [00:00<?, ?it/s]"
      ]
     },
     "metadata": {},
     "output_type": "display_data"
    },
    {
     "data": {
      "application/vnd.jupyter.widget-view+json": {
       "model_id": "6aa402e0501f4f72ace668362a18b10a",
       "version_major": 2,
       "version_minor": 0
      },
      "text/plain": [
       "forgot: caching RDMs:   0%|          | 0/1 [00:00<?, ?it/s]"
      ]
     },
     "metadata": {},
     "output_type": "display_data"
    },
    {
     "data": {
      "application/vnd.jupyter.widget-view+json": {
       "model_id": "f362ae607c7247e7b72e9d08350acc45",
       "version_major": 2,
       "version_minor": 0
      },
      "text/plain": [
       "forgot: caching RDMs:   0%|          | 0/1 [00:00<?, ?it/s]"
      ]
     },
     "metadata": {},
     "output_type": "display_data"
    },
    {
     "data": {
      "application/vnd.jupyter.widget-view+json": {
       "model_id": "3516bc72f31445fe940531effbaabd89",
       "version_major": 2,
       "version_minor": 0
      },
      "text/plain": [
       "forgot: caching RDMs:   0%|          | 0/1 [00:00<?, ?it/s]"
      ]
     },
     "metadata": {},
     "output_type": "display_data"
    },
    {
     "data": {
      "application/vnd.jupyter.widget-view+json": {
       "model_id": "6f69c62c53a4417e943fae1c02c7a41b",
       "version_major": 2,
       "version_minor": 0
      },
      "text/plain": [
       "forgot: caching RDMs:   0%|          | 0/1 [00:00<?, ?it/s]"
      ]
     },
     "metadata": {},
     "output_type": "display_data"
    },
    {
     "data": {
      "application/vnd.jupyter.widget-view+json": {
       "model_id": "93ecc0bcc8b948aab39881b7b0b58cae",
       "version_major": 2,
       "version_minor": 0
      },
      "text/plain": [
       "forgot: caching RDMs:   0%|          | 0/1 [00:00<?, ?it/s]"
      ]
     },
     "metadata": {},
     "output_type": "display_data"
    },
    {
     "data": {
      "application/vnd.jupyter.widget-view+json": {
       "model_id": "7fb57d3b867846faba12d5733fddfa00",
       "version_major": 2,
       "version_minor": 0
      },
      "text/plain": [
       "forgot: caching RDMs:   0%|          | 0/1 [00:00<?, ?it/s]"
      ]
     },
     "metadata": {},
     "output_type": "display_data"
    },
    {
     "data": {
      "application/vnd.jupyter.widget-view+json": {
       "model_id": "f66c84515dc14ee7a792e834cd75035a",
       "version_major": 2,
       "version_minor": 0
      },
      "text/plain": [
       "forgot: caching RDMs:   0%|          | 0/1 [00:00<?, ?it/s]"
      ]
     },
     "metadata": {},
     "output_type": "display_data"
    },
    {
     "data": {
      "application/vnd.jupyter.widget-view+json": {
       "model_id": "ca5a2f298c7b48759ef3a2d0e4b49a74",
       "version_major": 2,
       "version_minor": 0
      },
      "text/plain": [
       "forgot: caching RDMs:   0%|          | 0/1 [00:00<?, ?it/s]"
      ]
     },
     "metadata": {},
     "output_type": "display_data"
    },
    {
     "data": {
      "application/vnd.jupyter.widget-view+json": {
       "model_id": "9d38b3bc2df24175bbce0dae57a84561",
       "version_major": 2,
       "version_minor": 0
      },
      "text/plain": [
       "forgot: caching RDMs:   0%|          | 0/1 [00:00<?, ?it/s]"
      ]
     },
     "metadata": {},
     "output_type": "display_data"
    },
    {
     "data": {
      "application/vnd.jupyter.widget-view+json": {
       "model_id": "ff5595dc2fbe41d59afb2e052866902f",
       "version_major": 2,
       "version_minor": 0
      },
      "text/plain": [
       "forgot: caching RDMs:   0%|          | 0/1 [00:00<?, ?it/s]"
      ]
     },
     "metadata": {},
     "output_type": "display_data"
    },
    {
     "data": {
      "application/vnd.jupyter.widget-view+json": {
       "model_id": "9f85b252e50640f6b3f51ba3b2c3e7be",
       "version_major": 2,
       "version_minor": 0
      },
      "text/plain": [
       "forgot: caching RDMs:   0%|          | 0/1 [00:00<?, ?it/s]"
      ]
     },
     "metadata": {},
     "output_type": "display_data"
    },
    {
     "data": {
      "application/vnd.jupyter.widget-view+json": {
       "model_id": "4db1be59f7cf4bd6b476e1d554ba9e80",
       "version_major": 2,
       "version_minor": 0
      },
      "text/plain": [
       "forgot: caching RDMs:   0%|          | 0/1 [00:00<?, ?it/s]"
      ]
     },
     "metadata": {},
     "output_type": "display_data"
    },
    {
     "data": {
      "application/vnd.jupyter.widget-view+json": {
       "model_id": "e1ede14c2f7b4bd2b41737387e9950cc",
       "version_major": 2,
       "version_minor": 0
      },
      "text/plain": [
       "forgot: caching RDMs:   0%|          | 0/1 [00:00<?, ?it/s]"
      ]
     },
     "metadata": {},
     "output_type": "display_data"
    },
    {
     "data": {
      "application/vnd.jupyter.widget-view+json": {
       "model_id": "d1082cf32ad7495080272669fc28cc60",
       "version_major": 2,
       "version_minor": 0
      },
      "text/plain": [
       "forgot: caching RDMs:   0%|          | 0/1 [00:00<?, ?it/s]"
      ]
     },
     "metadata": {},
     "output_type": "display_data"
    },
    {
     "data": {
      "application/vnd.jupyter.widget-view+json": {
       "model_id": "dc4f8d8b76f34fea81d446ca9dce3c2d",
       "version_major": 2,
       "version_minor": 0
      },
      "text/plain": [
       "forgot: caching RDMs:   0%|          | 0/1 [00:00<?, ?it/s]"
      ]
     },
     "metadata": {},
     "output_type": "display_data"
    },
    {
     "data": {
      "application/vnd.jupyter.widget-view+json": {
       "model_id": "1e1e0e9bdd724148b8aca75b06221752",
       "version_major": 2,
       "version_minor": 0
      },
      "text/plain": [
       "forgot: caching RDMs:   0%|          | 0/1 [00:00<?, ?it/s]"
      ]
     },
     "metadata": {},
     "output_type": "display_data"
    },
    {
     "data": {
      "application/vnd.jupyter.widget-view+json": {
       "model_id": "32f58d59cce4475091d380a712d754c9",
       "version_major": 2,
       "version_minor": 0
      },
      "text/plain": [
       "forgot: caching RDMs:   0%|          | 0/1 [00:00<?, ?it/s]"
      ]
     },
     "metadata": {},
     "output_type": "display_data"
    },
    {
     "data": {
      "application/vnd.jupyter.widget-view+json": {
       "model_id": "911f484200b346899d3b2ea4f1063fa9",
       "version_major": 2,
       "version_minor": 0
      },
      "text/plain": [
       "forgot: caching RDMs:   0%|          | 0/1 [00:00<?, ?it/s]"
      ]
     },
     "metadata": {},
     "output_type": "display_data"
    },
    {
     "data": {
      "application/vnd.jupyter.widget-view+json": {
       "model_id": "9b09534ee29f467d96c76e362ea72737",
       "version_major": 2,
       "version_minor": 0
      },
      "text/plain": [
       "forgot: caching RDMs:   0%|          | 0/1 [00:00<?, ?it/s]"
      ]
     },
     "metadata": {},
     "output_type": "display_data"
    },
    {
     "data": {
      "application/vnd.jupyter.widget-view+json": {
       "model_id": "d2e76bdbf74649ca8b25b33217f49f9e",
       "version_major": 2,
       "version_minor": 0
      },
      "text/plain": [
       "forgot: caching RDMs:   0%|          | 0/1 [00:00<?, ?it/s]"
      ]
     },
     "metadata": {},
     "output_type": "display_data"
    },
    {
     "data": {
      "application/vnd.jupyter.widget-view+json": {
       "model_id": "8b15bc5cc9f84476a34c7cdef47f96ac",
       "version_major": 2,
       "version_minor": 0
      },
      "text/plain": [
       "forgot: caching RDMs:   0%|          | 0/1 [00:00<?, ?it/s]"
      ]
     },
     "metadata": {},
     "output_type": "display_data"
    },
    {
     "data": {
      "application/vnd.jupyter.widget-view+json": {
       "model_id": "6ecf681f1db34822b7f65a8d5d806531",
       "version_major": 2,
       "version_minor": 0
      },
      "text/plain": [
       "forgot: caching RDMs:   0%|          | 0/1 [00:00<?, ?it/s]"
      ]
     },
     "metadata": {},
     "output_type": "display_data"
    },
    {
     "data": {
      "application/vnd.jupyter.widget-view+json": {
       "model_id": "b8ec7ee742334b21b9281a67d6acc363",
       "version_major": 2,
       "version_minor": 0
      },
      "text/plain": [
       "forgot: caching RDMs:   0%|          | 0/1 [00:00<?, ?it/s]"
      ]
     },
     "metadata": {},
     "output_type": "display_data"
    },
    {
     "data": {
      "application/vnd.jupyter.widget-view+json": {
       "model_id": "cebad6baf7714ced9408a8b1c53cfccb",
       "version_major": 2,
       "version_minor": 0
      },
      "text/plain": [
       "forgot: caching RDMs:   0%|          | 0/1 [00:00<?, ?it/s]"
      ]
     },
     "metadata": {},
     "output_type": "display_data"
    },
    {
     "data": {
      "application/vnd.jupyter.widget-view+json": {
       "model_id": "b39aad5b3fc54e3c8b3a6550abd139dc",
       "version_major": 2,
       "version_minor": 0
      },
      "text/plain": [
       "forgot: caching RDMs:   0%|          | 0/1 [00:00<?, ?it/s]"
      ]
     },
     "metadata": {},
     "output_type": "display_data"
    },
    {
     "data": {
      "application/vnd.jupyter.widget-view+json": {
       "model_id": "c04b3fa1091c4053a467081759a7ad2a",
       "version_major": 2,
       "version_minor": 0
      },
      "text/plain": [
       "forgot: caching RDMs:   0%|          | 0/1 [00:00<?, ?it/s]"
      ]
     },
     "metadata": {},
     "output_type": "display_data"
    },
    {
     "data": {
      "application/vnd.jupyter.widget-view+json": {
       "model_id": "ee8a9a2217cb4eea8061b37f33c8a938",
       "version_major": 2,
       "version_minor": 0
      },
      "text/plain": [
       "forgot: caching RDMs:   0%|          | 0/1 [00:00<?, ?it/s]"
      ]
     },
     "metadata": {},
     "output_type": "display_data"
    },
    {
     "data": {
      "application/vnd.jupyter.widget-view+json": {
       "model_id": "71aa4a6a63524f168fd386b966d9757b",
       "version_major": 2,
       "version_minor": 0
      },
      "text/plain": [
       "forgot: caching RDMs:   0%|          | 0/1 [00:00<?, ?it/s]"
      ]
     },
     "metadata": {},
     "output_type": "display_data"
    },
    {
     "data": {
      "application/vnd.jupyter.widget-view+json": {
       "model_id": "1de391f9b55d4164a0b3ae01fa72e3ca",
       "version_major": 2,
       "version_minor": 0
      },
      "text/plain": [
       "forgot: caching RDMs:   0%|          | 0/1 [00:00<?, ?it/s]"
      ]
     },
     "metadata": {},
     "output_type": "display_data"
    },
    {
     "data": {
      "application/vnd.jupyter.widget-view+json": {
       "model_id": "65659e7daa574fbb962101d1e3015738",
       "version_major": 2,
       "version_minor": 0
      },
      "text/plain": [
       "forgot: caching RDMs:   0%|          | 0/1 [00:00<?, ?it/s]"
      ]
     },
     "metadata": {},
     "output_type": "display_data"
    },
    {
     "data": {
      "application/vnd.jupyter.widget-view+json": {
       "model_id": "d3425a1e704b435bb2e202dc6e88cad4",
       "version_major": 2,
       "version_minor": 0
      },
      "text/plain": [
       "reachforstars: caching RDMs:   0%|          | 0/1 [00:00<?, ?it/s]"
      ]
     },
     "metadata": {},
     "output_type": "display_data"
    },
    {
     "data": {
      "application/vnd.jupyter.widget-view+json": {
       "model_id": "1feef4ad1a2041c79ce5a529c1e47366",
       "version_major": 2,
       "version_minor": 0
      },
      "text/plain": [
       "reachforstars: caching RDMs:   0%|          | 0/1 [00:00<?, ?it/s]"
      ]
     },
     "metadata": {},
     "output_type": "display_data"
    },
    {
     "data": {
      "application/vnd.jupyter.widget-view+json": {
       "model_id": "5bddd17ed7074c39ac964cea2d50ff01",
       "version_major": 2,
       "version_minor": 0
      },
      "text/plain": [
       "reachforstars: caching RDMs:   0%|          | 0/1 [00:00<?, ?it/s]"
      ]
     },
     "metadata": {},
     "output_type": "display_data"
    },
    {
     "data": {
      "application/vnd.jupyter.widget-view+json": {
       "model_id": "62fda97f60254b958df463f4507c847d",
       "version_major": 2,
       "version_minor": 0
      },
      "text/plain": [
       "reachforstars: caching RDMs:   0%|          | 0/1 [00:00<?, ?it/s]"
      ]
     },
     "metadata": {},
     "output_type": "display_data"
    },
    {
     "data": {
      "application/vnd.jupyter.widget-view+json": {
       "model_id": "32e42158f90848ad8aea755f0580abe7",
       "version_major": 2,
       "version_minor": 0
      },
      "text/plain": [
       "reachforstars: caching RDMs:   0%|          | 0/1 [00:00<?, ?it/s]"
      ]
     },
     "metadata": {},
     "output_type": "display_data"
    },
    {
     "data": {
      "application/vnd.jupyter.widget-view+json": {
       "model_id": "8683786eb06a499ea3124292356792e7",
       "version_major": 2,
       "version_minor": 0
      },
      "text/plain": [
       "reachforstars: caching RDMs:   0%|          | 0/1 [00:00<?, ?it/s]"
      ]
     },
     "metadata": {},
     "output_type": "display_data"
    },
    {
     "data": {
      "application/vnd.jupyter.widget-view+json": {
       "model_id": "90fcb2aa543f4324b1ecf565493ba5ac",
       "version_major": 2,
       "version_minor": 0
      },
      "text/plain": [
       "reachforstars: caching RDMs:   0%|          | 0/1 [00:00<?, ?it/s]"
      ]
     },
     "metadata": {},
     "output_type": "display_data"
    },
    {
     "data": {
      "application/vnd.jupyter.widget-view+json": {
       "model_id": "597e87717e57440f8c09fd510cd66c92",
       "version_major": 2,
       "version_minor": 0
      },
      "text/plain": [
       "reachforstars: caching RDMs:   0%|          | 0/1 [00:00<?, ?it/s]"
      ]
     },
     "metadata": {},
     "output_type": "display_data"
    },
    {
     "data": {
      "application/vnd.jupyter.widget-view+json": {
       "model_id": "3ecc060874ab47aca9b4164fff166622",
       "version_major": 2,
       "version_minor": 0
      },
      "text/plain": [
       "reachforstars: caching RDMs:   0%|          | 0/1 [00:00<?, ?it/s]"
      ]
     },
     "metadata": {},
     "output_type": "display_data"
    },
    {
     "data": {
      "application/vnd.jupyter.widget-view+json": {
       "model_id": "4d0ef485fb6c4e5683d0a295783e84ec",
       "version_major": 2,
       "version_minor": 0
      },
      "text/plain": [
       "reachforstars: caching RDMs:   0%|          | 0/1 [00:00<?, ?it/s]"
      ]
     },
     "metadata": {},
     "output_type": "display_data"
    },
    {
     "data": {
      "application/vnd.jupyter.widget-view+json": {
       "model_id": "66c9e9eacd634777a063bd1412b59d91",
       "version_major": 2,
       "version_minor": 0
      },
      "text/plain": [
       "reachforstars: caching RDMs:   0%|          | 0/1 [00:00<?, ?it/s]"
      ]
     },
     "metadata": {},
     "output_type": "display_data"
    },
    {
     "data": {
      "application/vnd.jupyter.widget-view+json": {
       "model_id": "8ab83958311a4543a06ee3ae22e2222f",
       "version_major": 2,
       "version_minor": 0
      },
      "text/plain": [
       "reachforstars: caching RDMs:   0%|          | 0/1 [00:00<?, ?it/s]"
      ]
     },
     "metadata": {},
     "output_type": "display_data"
    },
    {
     "data": {
      "application/vnd.jupyter.widget-view+json": {
       "model_id": "b64d6d21c9814fbd863c3b1ef7fbba3e",
       "version_major": 2,
       "version_minor": 0
      },
      "text/plain": [
       "reachforstars: caching RDMs:   0%|          | 0/1 [00:00<?, ?it/s]"
      ]
     },
     "metadata": {},
     "output_type": "display_data"
    },
    {
     "data": {
      "application/vnd.jupyter.widget-view+json": {
       "model_id": "6e8a069038494bf3b7d62baf8cf8c7c0",
       "version_major": 2,
       "version_minor": 0
      },
      "text/plain": [
       "reachforstars: caching RDMs:   0%|          | 0/1 [00:00<?, ?it/s]"
      ]
     },
     "metadata": {},
     "output_type": "display_data"
    },
    {
     "data": {
      "application/vnd.jupyter.widget-view+json": {
       "model_id": "7eb2723d9c9141cd980df6a9edece0cd",
       "version_major": 2,
       "version_minor": 0
      },
      "text/plain": [
       "reachforstars: caching RDMs:   0%|          | 0/1 [00:00<?, ?it/s]"
      ]
     },
     "metadata": {},
     "output_type": "display_data"
    },
    {
     "data": {
      "application/vnd.jupyter.widget-view+json": {
       "model_id": "baf8127860264d829f3b0d9bac60f650",
       "version_major": 2,
       "version_minor": 0
      },
      "text/plain": [
       "reachforstars: caching RDMs:   0%|          | 0/1 [00:00<?, ?it/s]"
      ]
     },
     "metadata": {},
     "output_type": "display_data"
    },
    {
     "data": {
      "application/vnd.jupyter.widget-view+json": {
       "model_id": "df5e05a3991b46dbb8bed0e83cbad997",
       "version_major": 2,
       "version_minor": 0
      },
      "text/plain": [
       "reachforstars: caching RDMs:   0%|          | 0/1 [00:00<?, ?it/s]"
      ]
     },
     "metadata": {},
     "output_type": "display_data"
    },
    {
     "data": {
      "application/vnd.jupyter.widget-view+json": {
       "model_id": "33844a35742c466783494453d44135c3",
       "version_major": 2,
       "version_minor": 0
      },
      "text/plain": [
       "notthefallintact: caching RDMs:   0%|          | 0/1 [00:00<?, ?it/s]"
      ]
     },
     "metadata": {},
     "output_type": "display_data"
    },
    {
     "data": {
      "application/vnd.jupyter.widget-view+json": {
       "model_id": "4210c3ed16ea4295b263865d0c31e7b6",
       "version_major": 2,
       "version_minor": 0
      },
      "text/plain": [
       "notthefallintact: caching RDMs:   0%|          | 0/1 [00:00<?, ?it/s]"
      ]
     },
     "metadata": {},
     "output_type": "display_data"
    },
    {
     "data": {
      "application/vnd.jupyter.widget-view+json": {
       "model_id": "da0991ab90ed4ac494c367249a430454",
       "version_major": 2,
       "version_minor": 0
      },
      "text/plain": [
       "notthefallintact: caching RDMs:   0%|          | 0/1 [00:00<?, ?it/s]"
      ]
     },
     "metadata": {},
     "output_type": "display_data"
    },
    {
     "data": {
      "application/vnd.jupyter.widget-view+json": {
       "model_id": "dba88692d82f47ab9044992b5c218e17",
       "version_major": 2,
       "version_minor": 0
      },
      "text/plain": [
       "notthefallintact: caching RDMs:   0%|          | 0/1 [00:00<?, ?it/s]"
      ]
     },
     "metadata": {},
     "output_type": "display_data"
    },
    {
     "data": {
      "application/vnd.jupyter.widget-view+json": {
       "model_id": "4fa5c975097c449fb30a53269fea7b36",
       "version_major": 2,
       "version_minor": 0
      },
      "text/plain": [
       "notthefallintact: caching RDMs:   0%|          | 0/1 [00:00<?, ?it/s]"
      ]
     },
     "metadata": {},
     "output_type": "display_data"
    },
    {
     "data": {
      "application/vnd.jupyter.widget-view+json": {
       "model_id": "02e30d18c928478e921f6ebdc6c76613",
       "version_major": 2,
       "version_minor": 0
      },
      "text/plain": [
       "notthefallintact: caching RDMs:   0%|          | 0/1 [00:00<?, ?it/s]"
      ]
     },
     "metadata": {},
     "output_type": "display_data"
    },
    {
     "data": {
      "application/vnd.jupyter.widget-view+json": {
       "model_id": "222da3fa7b984b7ea4b874ecbc06da34",
       "version_major": 2,
       "version_minor": 0
      },
      "text/plain": [
       "notthefallintact: caching RDMs:   0%|          | 0/1 [00:00<?, ?it/s]"
      ]
     },
     "metadata": {},
     "output_type": "display_data"
    },
    {
     "data": {
      "application/vnd.jupyter.widget-view+json": {
       "model_id": "57e933d878164f09aefb1f03ea5a9944",
       "version_major": 2,
       "version_minor": 0
      },
      "text/plain": [
       "notthefallintact: caching RDMs:   0%|          | 0/1 [00:00<?, ?it/s]"
      ]
     },
     "metadata": {},
     "output_type": "display_data"
    },
    {
     "data": {
      "application/vnd.jupyter.widget-view+json": {
       "model_id": "87168171310345e88f54fee959dcf0cb",
       "version_major": 2,
       "version_minor": 0
      },
      "text/plain": [
       "notthefallintact: caching RDMs:   0%|          | 0/1 [00:00<?, ?it/s]"
      ]
     },
     "metadata": {},
     "output_type": "display_data"
    },
    {
     "data": {
      "application/vnd.jupyter.widget-view+json": {
       "model_id": "c30459461c274148a429cc58eeb7137f",
       "version_major": 2,
       "version_minor": 0
      },
      "text/plain": [
       "notthefallintact: caching RDMs:   0%|          | 0/1 [00:00<?, ?it/s]"
      ]
     },
     "metadata": {},
     "output_type": "display_data"
    },
    {
     "data": {
      "application/vnd.jupyter.widget-view+json": {
       "model_id": "48135293a69b4cc7afe6702d3bf6a2a8",
       "version_major": 2,
       "version_minor": 0
      },
      "text/plain": [
       "notthefallintact: caching RDMs:   0%|          | 0/1 [00:00<?, ?it/s]"
      ]
     },
     "metadata": {},
     "output_type": "display_data"
    },
    {
     "data": {
      "application/vnd.jupyter.widget-view+json": {
       "model_id": "17b42161efed4601b561ec048afa49aa",
       "version_major": 2,
       "version_minor": 0
      },
      "text/plain": [
       "notthefallintact: caching RDMs:   0%|          | 0/1 [00:00<?, ?it/s]"
      ]
     },
     "metadata": {},
     "output_type": "display_data"
    },
    {
     "data": {
      "application/vnd.jupyter.widget-view+json": {
       "model_id": "1630260b3d3b4e91a5215545760d3e65",
       "version_major": 2,
       "version_minor": 0
      },
      "text/plain": [
       "notthefallintact: caching RDMs:   0%|          | 0/1 [00:00<?, ?it/s]"
      ]
     },
     "metadata": {},
     "output_type": "display_data"
    },
    {
     "data": {
      "application/vnd.jupyter.widget-view+json": {
       "model_id": "40ea407ea87649d992787a369779c0a3",
       "version_major": 2,
       "version_minor": 0
      },
      "text/plain": [
       "notthefallintact: caching RDMs:   0%|          | 0/1 [00:00<?, ?it/s]"
      ]
     },
     "metadata": {},
     "output_type": "display_data"
    },
    {
     "data": {
      "application/vnd.jupyter.widget-view+json": {
       "model_id": "9fdd4f750b97412d9bfa06cffe422aad",
       "version_major": 2,
       "version_minor": 0
      },
      "text/plain": [
       "notthefallintact: caching RDMs:   0%|          | 0/1 [00:00<?, ?it/s]"
      ]
     },
     "metadata": {},
     "output_type": "display_data"
    },
    {
     "data": {
      "application/vnd.jupyter.widget-view+json": {
       "model_id": "15b45c22230448218c6d2b1e38b94d6f",
       "version_major": 2,
       "version_minor": 0
      },
      "text/plain": [
       "notthefallintact: caching RDMs:   0%|          | 0/1 [00:00<?, ?it/s]"
      ]
     },
     "metadata": {},
     "output_type": "display_data"
    },
    {
     "data": {
      "application/vnd.jupyter.widget-view+json": {
       "model_id": "8a33d34763a145058c7ec33a59a8fcd6",
       "version_major": 2,
       "version_minor": 0
      },
      "text/plain": [
       "notthefallintact: caching RDMs:   0%|          | 0/1 [00:00<?, ?it/s]"
      ]
     },
     "metadata": {},
     "output_type": "display_data"
    },
    {
     "data": {
      "application/vnd.jupyter.widget-view+json": {
       "model_id": "2617e2ab8c1b4532998fec704cd3b3ac",
       "version_major": 2,
       "version_minor": 0
      },
      "text/plain": [
       "notthefallintact: caching RDMs:   0%|          | 0/1 [00:00<?, ?it/s]"
      ]
     },
     "metadata": {},
     "output_type": "display_data"
    },
    {
     "data": {
      "application/vnd.jupyter.widget-view+json": {
       "model_id": "58a2a15f193f422c96798402c3c54d31",
       "version_major": 2,
       "version_minor": 0
      },
      "text/plain": [
       "notthefallintact: caching RDMs:   0%|          | 0/1 [00:00<?, ?it/s]"
      ]
     },
     "metadata": {},
     "output_type": "display_data"
    },
    {
     "data": {
      "application/vnd.jupyter.widget-view+json": {
       "model_id": "aa111ce5e1d94f92bba728bb36ad7265",
       "version_major": 2,
       "version_minor": 0
      },
      "text/plain": [
       "notthefallintact: caching RDMs:   0%|          | 0/1 [00:00<?, ?it/s]"
      ]
     },
     "metadata": {},
     "output_type": "display_data"
    },
    {
     "data": {
      "application/vnd.jupyter.widget-view+json": {
       "model_id": "5d1d4c6cb1d24302b58fbdeb4a2ad982",
       "version_major": 2,
       "version_minor": 0
      },
      "text/plain": [
       "notthefallintact: caching RDMs:   0%|          | 0/1 [00:00<?, ?it/s]"
      ]
     },
     "metadata": {},
     "output_type": "display_data"
    },
    {
     "data": {
      "application/vnd.jupyter.widget-view+json": {
       "model_id": "235d245e0cce419395e7ca58b32864aa",
       "version_major": 2,
       "version_minor": 0
      },
      "text/plain": [
       "notthefallintact: caching RDMs:   0%|          | 0/1 [00:00<?, ?it/s]"
      ]
     },
     "metadata": {},
     "output_type": "display_data"
    },
    {
     "data": {
      "application/vnd.jupyter.widget-view+json": {
       "model_id": "f3cc82d5e95645b08d6db194a64a8ee1",
       "version_major": 2,
       "version_minor": 0
      },
      "text/plain": [
       "notthefallintact: caching RDMs:   0%|          | 0/1 [00:00<?, ?it/s]"
      ]
     },
     "metadata": {},
     "output_type": "display_data"
    },
    {
     "data": {
      "application/vnd.jupyter.widget-view+json": {
       "model_id": "6564a5d4bd09462d819723952899b8eb",
       "version_major": 2,
       "version_minor": 0
      },
      "text/plain": [
       "notthefallintact: caching RDMs:   0%|          | 0/1 [00:00<?, ?it/s]"
      ]
     },
     "metadata": {},
     "output_type": "display_data"
    },
    {
     "data": {
      "application/vnd.jupyter.widget-view+json": {
       "model_id": "870a00753f36425f8bd41dd0d770f22e",
       "version_major": 2,
       "version_minor": 0
      },
      "text/plain": [
       "notthefallintact: caching RDMs:   0%|          | 0/1 [00:00<?, ?it/s]"
      ]
     },
     "metadata": {},
     "output_type": "display_data"
    },
    {
     "data": {
      "application/vnd.jupyter.widget-view+json": {
       "model_id": "cf05840f82864b719d519a929a30bcd4",
       "version_major": 2,
       "version_minor": 0
      },
      "text/plain": [
       "notthefallintact: caching RDMs:   0%|          | 0/1 [00:00<?, ?it/s]"
      ]
     },
     "metadata": {},
     "output_type": "display_data"
    },
    {
     "data": {
      "application/vnd.jupyter.widget-view+json": {
       "model_id": "f031251a653c48ec83ca27824ee62e6a",
       "version_major": 2,
       "version_minor": 0
      },
      "text/plain": [
       "notthefallintact: caching RDMs:   0%|          | 0/1 [00:00<?, ?it/s]"
      ]
     },
     "metadata": {},
     "output_type": "display_data"
    },
    {
     "data": {
      "application/vnd.jupyter.widget-view+json": {
       "model_id": "f086e9871e6d4e2e96372cbf67e7fbee",
       "version_major": 2,
       "version_minor": 0
      },
      "text/plain": [
       "notthefallintact: caching RDMs:   0%|          | 0/1 [00:00<?, ?it/s]"
      ]
     },
     "metadata": {},
     "output_type": "display_data"
    },
    {
     "data": {
      "application/vnd.jupyter.widget-view+json": {
       "model_id": "ae52b22b29c745cda110401d7659ba5b",
       "version_major": 2,
       "version_minor": 0
      },
      "text/plain": [
       "notthefallintact: caching RDMs:   0%|          | 0/1 [00:00<?, ?it/s]"
      ]
     },
     "metadata": {},
     "output_type": "display_data"
    },
    {
     "data": {
      "application/vnd.jupyter.widget-view+json": {
       "model_id": "fa87e31755674d609bda9af9de0c76e8",
       "version_major": 2,
       "version_minor": 0
      },
      "text/plain": [
       "notthefallintact: caching RDMs:   0%|          | 0/1 [00:00<?, ?it/s]"
      ]
     },
     "metadata": {},
     "output_type": "display_data"
    },
    {
     "data": {
      "application/vnd.jupyter.widget-view+json": {
       "model_id": "7677df4246c040e0a1539f16a18088c8",
       "version_major": 2,
       "version_minor": 0
      },
      "text/plain": [
       "notthefallintact: caching RDMs:   0%|          | 0/1 [00:00<?, ?it/s]"
      ]
     },
     "metadata": {},
     "output_type": "display_data"
    },
    {
     "data": {
      "application/vnd.jupyter.widget-view+json": {
       "model_id": "d9bc8db096c1401883e98a6f6c62f780",
       "version_major": 2,
       "version_minor": 0
      },
      "text/plain": [
       "notthefallintact: caching RDMs:   0%|          | 0/1 [00:00<?, ?it/s]"
      ]
     },
     "metadata": {},
     "output_type": "display_data"
    },
    {
     "data": {
      "application/vnd.jupyter.widget-view+json": {
       "model_id": "e8c3b0200dd1417aa32756a1fc055fab",
       "version_major": 2,
       "version_minor": 0
      },
      "text/plain": [
       "notthefallintact: caching RDMs:   0%|          | 0/1 [00:00<?, ?it/s]"
      ]
     },
     "metadata": {},
     "output_type": "display_data"
    },
    {
     "data": {
      "application/vnd.jupyter.widget-view+json": {
       "model_id": "a57b034aa95b46bcb4c0dbaa8e7106f5",
       "version_major": 2,
       "version_minor": 0
      },
      "text/plain": [
       "notthefallintact: caching RDMs:   0%|          | 0/1 [00:00<?, ?it/s]"
      ]
     },
     "metadata": {},
     "output_type": "display_data"
    },
    {
     "data": {
      "application/vnd.jupyter.widget-view+json": {
       "model_id": "e1abf7dfeeda4b0f87cd493a242f8b26",
       "version_major": 2,
       "version_minor": 0
      },
      "text/plain": [
       "notthefallintact: caching RDMs:   0%|          | 0/1 [00:00<?, ?it/s]"
      ]
     },
     "metadata": {},
     "output_type": "display_data"
    },
    {
     "data": {
      "application/vnd.jupyter.widget-view+json": {
       "model_id": "136b699a555b476996589f8ddd5fb4dc",
       "version_major": 2,
       "version_minor": 0
      },
      "text/plain": [
       "notthefallintact: caching RDMs:   0%|          | 0/1 [00:00<?, ?it/s]"
      ]
     },
     "metadata": {},
     "output_type": "display_data"
    },
    {
     "data": {
      "application/vnd.jupyter.widget-view+json": {
       "model_id": "ae1a5a31253447c3aa95d1ada4ce91f3",
       "version_major": 2,
       "version_minor": 0
      },
      "text/plain": [
       "notthefallintact: caching RDMs:   0%|          | 0/1 [00:00<?, ?it/s]"
      ]
     },
     "metadata": {},
     "output_type": "display_data"
    },
    {
     "data": {
      "application/vnd.jupyter.widget-view+json": {
       "model_id": "1210eb8fd8c84cce933e61a15841e060",
       "version_major": 2,
       "version_minor": 0
      },
      "text/plain": [
       "notthefallintact: caching RDMs:   0%|          | 0/1 [00:00<?, ?it/s]"
      ]
     },
     "metadata": {},
     "output_type": "display_data"
    },
    {
     "data": {
      "application/vnd.jupyter.widget-view+json": {
       "model_id": "43899a0d0f6f482ead9884211ecf9878",
       "version_major": 2,
       "version_minor": 0
      },
      "text/plain": [
       "notthefallintact: caching RDMs:   0%|          | 0/1 [00:00<?, ?it/s]"
      ]
     },
     "metadata": {},
     "output_type": "display_data"
    },
    {
     "data": {
      "application/vnd.jupyter.widget-view+json": {
       "model_id": "cce1af38f9314b44a87bcba3a010cc90",
       "version_major": 2,
       "version_minor": 0
      },
      "text/plain": [
       "notthefallintact: caching RDMs:   0%|          | 0/1 [00:00<?, ?it/s]"
      ]
     },
     "metadata": {},
     "output_type": "display_data"
    },
    {
     "data": {
      "application/vnd.jupyter.widget-view+json": {
       "model_id": "c054c576685e46f9bf108e33e7c3efe9",
       "version_major": 2,
       "version_minor": 0
      },
      "text/plain": [
       "notthefallintact: caching RDMs:   0%|          | 0/1 [00:00<?, ?it/s]"
      ]
     },
     "metadata": {},
     "output_type": "display_data"
    },
    {
     "data": {
      "application/vnd.jupyter.widget-view+json": {
       "model_id": "11737402b3b245a3b84390a4cb06b59b",
       "version_major": 2,
       "version_minor": 0
      },
      "text/plain": [
       "notthefallintact: caching RDMs:   0%|          | 0/1 [00:00<?, ?it/s]"
      ]
     },
     "metadata": {},
     "output_type": "display_data"
    },
    {
     "data": {
      "application/vnd.jupyter.widget-view+json": {
       "model_id": "e8bfe77c32fe4387b83e1bf105d0deb9",
       "version_major": 2,
       "version_minor": 0
      },
      "text/plain": [
       "notthefallintact: caching RDMs:   0%|          | 0/1 [00:00<?, ?it/s]"
      ]
     },
     "metadata": {},
     "output_type": "display_data"
    },
    {
     "data": {
      "application/vnd.jupyter.widget-view+json": {
       "model_id": "b5fd55a18db04bbf90017701dea39986",
       "version_major": 2,
       "version_minor": 0
      },
      "text/plain": [
       "notthefallintact: caching RDMs:   0%|          | 0/1 [00:00<?, ?it/s]"
      ]
     },
     "metadata": {},
     "output_type": "display_data"
    },
    {
     "data": {
      "application/vnd.jupyter.widget-view+json": {
       "model_id": "a9d43da375884d9889aa1a167a8a9981",
       "version_major": 2,
       "version_minor": 0
      },
      "text/plain": [
       "notthefallintact: caching RDMs:   0%|          | 0/1 [00:00<?, ?it/s]"
      ]
     },
     "metadata": {},
     "output_type": "display_data"
    },
    {
     "data": {
      "application/vnd.jupyter.widget-view+json": {
       "model_id": "239259329d0d470fa0dbb8b8f814df81",
       "version_major": 2,
       "version_minor": 0
      },
      "text/plain": [
       "notthefallintact: caching RDMs:   0%|          | 0/1 [00:00<?, ?it/s]"
      ]
     },
     "metadata": {},
     "output_type": "display_data"
    },
    {
     "data": {
      "application/vnd.jupyter.widget-view+json": {
       "model_id": "5a7915d00ae94d0a8a5e473b659d71ea",
       "version_major": 2,
       "version_minor": 0
      },
      "text/plain": [
       "notthefallintact: caching RDMs:   0%|          | 0/1 [00:00<?, ?it/s]"
      ]
     },
     "metadata": {},
     "output_type": "display_data"
    },
    {
     "data": {
      "application/vnd.jupyter.widget-view+json": {
       "model_id": "25c8311b91e54d12b8c3a9b720bb3efe",
       "version_major": 2,
       "version_minor": 0
      },
      "text/plain": [
       "notthefallintact: caching RDMs:   0%|          | 0/1 [00:00<?, ?it/s]"
      ]
     },
     "metadata": {},
     "output_type": "display_data"
    },
    {
     "data": {
      "application/vnd.jupyter.widget-view+json": {
       "model_id": "37392b13dcc641ec8821eb1a69a10944",
       "version_major": 2,
       "version_minor": 0
      },
      "text/plain": [
       "notthefallintact: caching RDMs:   0%|          | 0/1 [00:00<?, ?it/s]"
      ]
     },
     "metadata": {},
     "output_type": "display_data"
    },
    {
     "data": {
      "application/vnd.jupyter.widget-view+json": {
       "model_id": "5bce8c61b92e41c7b2727d8dab5bd3a3",
       "version_major": 2,
       "version_minor": 0
      },
      "text/plain": [
       "notthefallintact: caching RDMs:   0%|          | 0/1 [00:00<?, ?it/s]"
      ]
     },
     "metadata": {},
     "output_type": "display_data"
    },
    {
     "data": {
      "application/vnd.jupyter.widget-view+json": {
       "model_id": "b41f7a130ca64146bfd2a284ed205704",
       "version_major": 2,
       "version_minor": 0
      },
      "text/plain": [
       "notthefallintact: caching RDMs:   0%|          | 0/1 [00:00<?, ?it/s]"
      ]
     },
     "metadata": {},
     "output_type": "display_data"
    },
    {
     "data": {
      "application/vnd.jupyter.widget-view+json": {
       "model_id": "39087a92204245e582f8fa3aa46da29e",
       "version_major": 2,
       "version_minor": 0
      },
      "text/plain": [
       "notthefallintact: caching RDMs:   0%|          | 0/1 [00:00<?, ?it/s]"
      ]
     },
     "metadata": {},
     "output_type": "display_data"
    },
    {
     "data": {
      "application/vnd.jupyter.widget-view+json": {
       "model_id": "1edf27a31ab3445199c9a8daf6996616",
       "version_major": 2,
       "version_minor": 0
      },
      "text/plain": [
       "notthefallintact: caching RDMs:   0%|          | 0/1 [00:00<?, ?it/s]"
      ]
     },
     "metadata": {},
     "output_type": "display_data"
    },
    {
     "data": {
      "application/vnd.jupyter.widget-view+json": {
       "model_id": "16456d25c6db47fcac4050c445744b80",
       "version_major": 2,
       "version_minor": 0
      },
      "text/plain": [
       "notthefallintact: caching RDMs:   0%|          | 0/1 [00:00<?, ?it/s]"
      ]
     },
     "metadata": {},
     "output_type": "display_data"
    },
    {
     "name": "stdout",
     "output_type": "stream",
     "text": [
      "cached RDMs → 51000\n"
     ]
    },
    {
     "data": {
      "application/vnd.jupyter.widget-view+json": {
       "model_id": "e30a19714ed64b8d81a2ec27ca1d2d90",
       "version_major": 2,
       "version_minor": 0
      },
      "text/plain": [
       "permutations:   0%|          | 0/100 [00:00<?, ?it/s]"
      ]
     },
     "metadata": {},
     "output_type": "display_data"
    },
    {
     "name": "stdout",
     "output_type": "stream",
     "text": [
      "CSV → /Volumes/Passport/fmriprep/derivatives/RSA_stats/ALL_STIMS/perm_test_neural_shift/ALLSTIMS_perm_test_all_13_allks_no_smoothing.csv\n"
     ]
    }
   ],
   "source": [
    "\n",
    "# %% ─────────────────────────────────────────────\n",
    "# 1) Gather all subject-level CSVs across stories\n",
    "# ------------------------------------------------\n",
    "df_list = []\n",
    "for stim in STIMS:\n",
    "    csvs = glob.glob(str(\n",
    "        deriv_dir / \"RSA_stats\" / stim / \"multi_regression\" / \"subject_results\" /\n",
    "        f\"*_{stim}_multi_parcel_RSA_NNLS_{model_key}{smoothing_setting}.csv\"\n",
    "    ))\n",
    "    \n",
    "    # ── single-line hard checks ────────────────────────────────\n",
    "    assert stim in EXPECTED_CSV_COUNTS, f\"No expected count set for '{stim}'\"\n",
    "    assert len(csvs) == EXPECTED_CSV_COUNTS[stim], \\\n",
    "           f\"[{stim}] expected {EXPECTED_CSV_COUNTS[stim]} CSVs, found {len(csvs)}\"\n",
    "\n",
    "    for fn in csvs:\n",
    "        df = pd.read_csv(fn)\n",
    "        df[\"stim\"]    = stim\n",
    "        df[\"subject\"] = df[\"subject\"] + \"_\" + stim            # unique ID\n",
    "        df[\"unit\"]    = df[\"subject\"] + \"_\" + df[\"run\"].astype(str)\n",
    "        df_list.append(df)\n",
    "\n",
    "all_df = pd.concat(df_list, ignore_index=True)\n",
    "print(\"pooled CSV shape →\", all_df.shape)\n",
    "\n",
    "# %% ─────────────────────────────────────────────\n",
    "# 2) Cache neural RDMs for ALL stims\n",
    "# ------------------------------------------------\n",
    "n_rois = 200\n",
    "schaefer = datasets.fetch_atlas_schaefer_2018(\n",
    "              n_rois=n_rois, yeo_networks=17, resolution_mm=2)\n",
    "atlas_raw = nib.load(schaefer[\"maps\"])\n",
    "labels    = np.insert(\n",
    "               [l.replace(b\"17Networks_\", b\"\").decode(\"utf-8\")\n",
    "                for l in schaefer[\"labels\"]],\n",
    "               0, \"Background\")\n",
    "\n",
    "neural_cache = {}\n",
    "atlas_img    = None      \n",
    "\n",
    "for stim in STIMS:\n",
    "    cleaned_root = deriv_dir / f\"{stim}_cleaned\"\n",
    "    subs = sorted(\n",
    "    s for s in os.listdir(cleaned_root) if s.startswith(\"sub-\")\n",
    ")\n",
    "    for sub in subs:\n",
    "        func = cleaned_root / sub / \"func\"\n",
    "        bolds = glob.glob(str(func / f\"{sub}_task-{stim}_run-*_*cleaned*.nii.gz\"))\n",
    "        bolds += glob.glob(str(func / f\"{sub}_task-{stim}_cleaned_desc-masked_bold.nii.gz\"))\n",
    "\n",
    "        for bf in tqdm(bolds, desc=f\"{stim}: caching RDMs\", leave=False):\n",
    "            run = re.search(r\"_run-(\\d+)_\", os.path.basename(bf))\n",
    "            run = run.group(1) if run else \"NA\"\n",
    "            sub_id = f\"{sub}_{stim}\"\n",
    "\n",
    "            img = nib.load(bf)\n",
    "        \n",
    "            # ── resample Schaefer atlas to this BOLD image every time ──\n",
    "            atlas_res = image.resample_to_img(atlas_raw, img, interpolation=\"nearest\")\n",
    "            atlas_dat = atlas_res.get_fdata().astype(int)\n",
    "\n",
    "        # keep the first resampled atlas so we can write NIfTI outputs later\n",
    "            if atlas_img is None:\n",
    "                atlas_img = atlas_res\n",
    "            \n",
    "            bold_dat  = img.get_fdata()\n",
    "\n",
    "            for pid in range(1, n_rois + 1):\n",
    "                mask = atlas_dat == pid\n",
    "                if not mask.any():\n",
    "                    continue\n",
    "                rdm = 1.0 - np.corrcoef(bold_dat[mask, :].T)\n",
    "                neural_cache[(sub_id, run, pid)] = rdm.astype(np.float32)\n",
    "\n",
    "print(\"cached RDMs →\", len(neural_cache))\n",
    "\n",
    "# %% ─────────────────────────────────────────────\n",
    "# 3) Load ALL behaviour RDMs once\n",
    "# ------------------------------------------------\n",
    "behav_rdms = {}\n",
    "for stim in STIMS:\n",
    "    for trait, save in zip(traits, TRAIT_SAVE):\n",
    "        behav_rdms[(stim, trait)] = np.load(\n",
    "            deriv_dir / \"RDMs_behavior\" /\n",
    "            f\"{stim}_{save}_RDM{smoothing_setting}.npy\"\n",
    "        )\n",
    "\n",
    "# get lower-triangular indices for vectorizing RDMs\n",
    "vec_idx = np.tril_indices(behav_rdms[(STIMS[0], traits[0])].shape[0], k=-1)\n",
    "def vec(mat): return mat[vec_idx]\n",
    "\n",
    "# %% ─────────────────────────────────────────────\n",
    "# 4) Compute observed sₖ per parcel\n",
    "# ------------------------------------------------\n",
    "trait_cols = TRAIT_SAVE\n",
    "for k in range(1, len(trait_cols)+1):\n",
    "    all_df[f\"s{k}\"] = (np.sort(all_df[trait_cols].values, 1)[:, ::-1][:, :k].sum(1))\n",
    "observed = {k : all_df.groupby(\"parcel_num\")[f\"s{k}\"].mean()\n",
    "            for k in range(1, len(trait_cols)+1)}\n",
    "\n",
    "# %% ─────────────────────────────────────────────\n",
    "# 5) Build null distributions by permutation\n",
    "# ------------------------------------------------\n",
    "parcel_ids = list(observed[1].index)\n",
    "nulls = {k:{pid:[] for pid in parcel_ids}\n",
    "         for k in range(1, len(trait_cols)+1)}\n",
    "\n",
    "for p in tqdm(range(n_perm), desc=\"permutations\"):\n",
    "    sums   = {k:np.zeros(len(parcel_ids)) for k in nulls}\n",
    "    counts = {k:np.zeros(len(parcel_ids), int) for k in nulls}\n",
    "    for key in sorted(neural_cache.keys()):          \n",
    "        sub, run, pid = key\n",
    "        nrdm = neural_cache[key]\n",
    "        stim = sub.split(\"_\")[-1]                 # get story label back\n",
    "        shift = np.random.randint(shift_window, 160-shift_window)\n",
    "        nrdm  = np.roll(np.roll(nrdm, shift, 0), shift, 1)\n",
    "\n",
    "        X = np.column_stack([np.ones_like(vec(nrdm))] + [\n",
    "                vec(behav_rdms[(stim, t)]) for t in traits])\n",
    "        betas,_ = nnls(X, vec(nrdm))\n",
    "        top = np.sort(betas[1:])[::-1]\n",
    "\n",
    "        for k in nulls:\n",
    "            s = top[:k].sum()\n",
    "            sums[k][pid-1]   += s\n",
    "            counts[k][pid-1] += 1\n",
    "    for k in nulls:\n",
    "        for i,pid in enumerate(parcel_ids):\n",
    "            nulls[k][pid].append( sums[k][i] / counts[k][i] )\n",
    "\n",
    "# %% ─────────────────────────────────────────────\n",
    "# 6) p-values, save CSV + NIfTI maps (k=1 shown)\n",
    "# ------------------------------------------------\n",
    "rows = []\n",
    "for k in nulls:\n",
    "    for pid in parcel_ids:\n",
    "        obs = observed[k][pid]\n",
    "        dist = np.asarray(nulls[k][pid])\n",
    "        p = ((dist >= obs).sum() + 1) / (n_perm + 1)\n",
    "        rows.append((k,pid,obs,p,p<0.05))\n",
    "\n",
    "df_perm = pd.DataFrame(rows, columns=[\n",
    "            \"k\",\"parcel_num\",\"observed_s\",\"p_value\",\"sig_p05\"])\n",
    "df_perm[\"parcel_label\"] = df_perm[\"parcel_num\"].map(\n",
    "            {i:l for i,l in enumerate(labels)})\n",
    "\n",
    "out_dir = deriv_dir / \"RSA_stats\" / \"ALL_STIMS\" / \"perm_test_neural_shift\"\n",
    "out_dir.mkdir(parents=True, exist_ok=True)\n",
    "csv_path = out_dir / f\"ALLSTIMS_perm_test_{model_key}_allks{smoothing_setting}.csv\"\n",
    "df_perm.to_csv(csv_path, index=False)\n",
    "print(\"CSV →\", csv_path)\n",
    "\n"
   ]
  },
  {
   "cell_type": "code",
   "execution_count": 18,
   "metadata": {},
   "outputs": [
    {
     "name": "stdout",
     "output_type": "stream",
     "text": [
      "✅ NIfTI maps saved to /Volumes/Passport/fmriprep/derivatives/RSA_stats/ALL_STIMS/perm_test_neural_shift\n"
     ]
    }
   ],
   "source": [
    "# ---- build p/s NIfTI for k = 1 -----------------------------------------\n",
    "df_k1 = df_perm[df_perm.k == 1]\n",
    "atlas_dat = atlas_img.get_fdata().astype(int)\n",
    "shape = atlas_dat.shape\n",
    "\n",
    "p_map  = np.zeros(shape,float); p_thr = np.full(shape,np.nan,float)\n",
    "s_map  = np.zeros(shape,float); s_thr = np.zeros(shape,float)\n",
    "\n",
    "for _,r in df_k1.iterrows():\n",
    "    pid = int(r.parcel_num)\n",
    "    p,s = r.p_value, r.observed_s\n",
    "    p_map[atlas_dat==pid] = p\n",
    "    s_map[atlas_dat==pid] = s\n",
    "    if p<0.05:\n",
    "        p_thr[atlas_dat==pid] = p\n",
    "        s_thr[atlas_dat==pid] = s\n",
    "\n",
    "def save(img, name): nib.save(img, out_dir/name)\n",
    "\n",
    "save(nib.Nifti1Image(p_map,  atlas_img.affine, atlas_img.header),\n",
    "     f\"ALLSTIMS_perm_pmap_{model_key}_k1{smoothing_setting}.nii.gz\")\n",
    "save(nib.Nifti1Image(p_thr,  atlas_img.affine, atlas_img.header),\n",
    "     f\"ALLSTIMS_perm_pmap_{model_key}_k1_thresh05{smoothing_setting}.nii.gz\")\n",
    "save(nib.Nifti1Image(s_map,  atlas_img.affine, atlas_img.header),\n",
    "     f\"ALLSTIMS_perm_smap_{model_key}_k1{smoothing_setting}.nii.gz\")\n",
    "save(nib.Nifti1Image(s_thr,  atlas_img.affine, atlas_img.header),\n",
    "     f\"ALLSTIMS_perm_smap_{model_key}_k1_thresh05{smoothing_setting}.nii.gz\")\n",
    "\n",
    "print(\"✅ NIfTI maps saved to\", out_dir)"
   ]
  }
 ],
 "metadata": {
  "kernelspec": {
   "display_name": "base",
   "language": "python",
   "name": "python3"
  },
  "language_info": {
   "codemirror_mode": {
    "name": "ipython",
    "version": 3
   },
   "file_extension": ".py",
   "mimetype": "text/x-python",
   "name": "python",
   "nbconvert_exporter": "python",
   "pygments_lexer": "ipython3",
   "version": "3.12.9"
  }
 },
 "nbformat": 4,
 "nbformat_minor": 2
}

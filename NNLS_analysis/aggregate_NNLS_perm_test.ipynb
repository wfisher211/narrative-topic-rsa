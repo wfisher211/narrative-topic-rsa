{
 "cells": [
  {
   "cell_type": "markdown",
   "metadata": {},
   "source": [
    "# Imports"
   ]
  },
  {
   "cell_type": "code",
   "execution_count": 24,
   "metadata": {},
   "outputs": [],
   "source": [
    "# %% ─────────────────────────────────────────────\n",
    "# 0) Imports & global config\n",
    "# ------------------------------------------------\n",
    "import os, re, glob\n",
    "from pathlib import Path\n",
    "import numpy as np, pandas as pd, nibabel as nib\n",
    "from nilearn import datasets, image\n",
    "from scipy.optimize import nnls\n",
    "from tqdm.notebook import tqdm\n"
   ]
  },
  {
   "cell_type": "code",
   "execution_count": 25,
   "metadata": {},
   "outputs": [],
   "source": [
    "np.random.seed(42)"
   ]
  },
  {
   "cell_type": "markdown",
   "metadata": {},
   "source": [
    "# Parameters"
   ]
  },
  {
   "cell_type": "code",
   "execution_count": null,
   "metadata": {},
   "outputs": [],
   "source": [
    "# ---- stories to pool ---------------------------------------------------\n",
    "STIMS = [ \"slumlordreach\", \"pieman\", \"black\", \"forgot\", \"reachforstars\", \"notthefallintact\"]                 # [\"slumlordreach\", \"pieman\", \"black\", \"forgot\", \"reachforstars\", \"notthefallintact\"]\n",
    "\n",
    "# ---- trait models ------------------------------------------------------\n",
    "TRAIT_SETS = {\n",
    "    \"all_13\": [\n",
    "        \"Open-minded\",\"feeling Affectionate\",\"Attentive\",\"Assertive\",\n",
    "        \"feeling Gloomy\",\"feeling Peaceful\",\"Agreeable\",\"Judging\",\n",
    "        \"feeling Angry\",\"feeling Bewildered\",\"Impulsive\",\n",
    "        \"Self-disciplined\",\"Contemplating\"\n",
    "    ],\n",
    "    \"mental_8\": [\n",
    "        \"feeling Affectionate\",\"feeling Gloomy\",\"feeling Peaceful\",\n",
    "        \"feeling Angry\",\"feeling Bewildered\",\"Judging\",\n",
    "        \"Contemplating\",\"Attentive\"\n",
    "    ],\n",
    "    \"personality_5\": [\n",
    "        \"Open-minded\",\"Agreeable\",\"Assertive\",\n",
    "        \"Self-disciplined\",\"Impulsive\"\n",
    "    ],\n",
    "    \"trait_9\": [\n",
    "        \"Open-minded\",\"feeling Affectionate\",\"Attentive\",\"Assertive\",\n",
    "        \"Agreeable\",\"Judging\",\"feeling Angry\",\"Self-disciplined\",\"Contemplating\"\n",
    "    ]\n",
    "}\n",
    "# select which trait model to use here:\n",
    "model_key = \"mental_8\"               # options: all_13, mental_8, personality_5, trait_9 \n",
    "traits    = TRAIT_SETS[model_key]\n",
    "TRAIT_SAVE = [t.replace(\" \",\"_\").replace(\"-\",\"_\") for t in traits]\n",
    "\n",
    "# ---- misc hyper-params -------------------------------------------------\n",
    "root_dir  = Path(\"/Volumes/Passport/fmriprep\")\n",
    "deriv_dir = root_dir / \"derivatives\"\n",
    "shift_window      = 20\n",
    "smoothing_setting = \"_no_smoothing\"     # options: \" \" or \"_no_smoothing\"\n",
    "n_perm            = 100\n",
    "PARCEL_OF_INTEREST = 68"
   ]
  },
  {
   "cell_type": "code",
   "execution_count": 27,
   "metadata": {},
   "outputs": [],
   "source": [
    "# Expected # subject-run CSVs that should exist after NNLS per-parcel analysis\n",
    "EXPECTED_CSV_COUNTS = {\n",
    "    \"slumlordreach\":   17,\n",
    "    \"pieman\":          75,\n",
    "    \"black\":           46,\n",
    "    \"forgot\":          46,\n",
    "    \"reachforstars\":   17,\n",
    "    \"notthefallintact\":54,\n",
    "}"
   ]
  },
  {
   "cell_type": "code",
   "execution_count": 28,
   "metadata": {},
   "outputs": [
    {
     "name": "stdout",
     "output_type": "stream",
     "text": [
      "pooled CSV shape → (51000, 15)\n"
     ]
    },
    {
     "data": {
      "application/vnd.jupyter.widget-view+json": {
       "model_id": "46101aa8c8404543a1bf244d57f612c3",
       "version_major": 2,
       "version_minor": 0
      },
      "text/plain": [
       "slumlordreach: caching RDMs:   0%|          | 0/1 [00:00<?, ?it/s]"
      ]
     },
     "metadata": {},
     "output_type": "display_data"
    },
    {
     "data": {
      "application/vnd.jupyter.widget-view+json": {
       "model_id": "e8ef35b75414440692813afc223502ec",
       "version_major": 2,
       "version_minor": 0
      },
      "text/plain": [
       "slumlordreach: caching RDMs:   0%|          | 0/1 [00:00<?, ?it/s]"
      ]
     },
     "metadata": {},
     "output_type": "display_data"
    },
    {
     "data": {
      "application/vnd.jupyter.widget-view+json": {
       "model_id": "4ddd5225f37c45298de2574685781ec7",
       "version_major": 2,
       "version_minor": 0
      },
      "text/plain": [
       "slumlordreach: caching RDMs:   0%|          | 0/1 [00:00<?, ?it/s]"
      ]
     },
     "metadata": {},
     "output_type": "display_data"
    },
    {
     "data": {
      "application/vnd.jupyter.widget-view+json": {
       "model_id": "69c88d827dc14a7d8c76828f72f6df46",
       "version_major": 2,
       "version_minor": 0
      },
      "text/plain": [
       "slumlordreach: caching RDMs:   0%|          | 0/1 [00:00<?, ?it/s]"
      ]
     },
     "metadata": {},
     "output_type": "display_data"
    },
    {
     "data": {
      "application/vnd.jupyter.widget-view+json": {
       "model_id": "d4970c0331674e04946f793c4b602b53",
       "version_major": 2,
       "version_minor": 0
      },
      "text/plain": [
       "slumlordreach: caching RDMs:   0%|          | 0/1 [00:00<?, ?it/s]"
      ]
     },
     "metadata": {},
     "output_type": "display_data"
    },
    {
     "data": {
      "application/vnd.jupyter.widget-view+json": {
       "model_id": "b5a778649003450883d00bfa44fe6c83",
       "version_major": 2,
       "version_minor": 0
      },
      "text/plain": [
       "slumlordreach: caching RDMs:   0%|          | 0/1 [00:00<?, ?it/s]"
      ]
     },
     "metadata": {},
     "output_type": "display_data"
    },
    {
     "data": {
      "application/vnd.jupyter.widget-view+json": {
       "model_id": "7be46679fb274006843193a980623ef3",
       "version_major": 2,
       "version_minor": 0
      },
      "text/plain": [
       "slumlordreach: caching RDMs:   0%|          | 0/1 [00:00<?, ?it/s]"
      ]
     },
     "metadata": {},
     "output_type": "display_data"
    },
    {
     "data": {
      "application/vnd.jupyter.widget-view+json": {
       "model_id": "6ed6c8f25ded4bd780e78a331bd387fe",
       "version_major": 2,
       "version_minor": 0
      },
      "text/plain": [
       "slumlordreach: caching RDMs:   0%|          | 0/1 [00:00<?, ?it/s]"
      ]
     },
     "metadata": {},
     "output_type": "display_data"
    },
    {
     "data": {
      "application/vnd.jupyter.widget-view+json": {
       "model_id": "23175468d13b4b2197bad6ae39684911",
       "version_major": 2,
       "version_minor": 0
      },
      "text/plain": [
       "slumlordreach: caching RDMs:   0%|          | 0/1 [00:00<?, ?it/s]"
      ]
     },
     "metadata": {},
     "output_type": "display_data"
    },
    {
     "data": {
      "application/vnd.jupyter.widget-view+json": {
       "model_id": "7575be75047a4a2ea2416e48fe90ee17",
       "version_major": 2,
       "version_minor": 0
      },
      "text/plain": [
       "slumlordreach: caching RDMs:   0%|          | 0/1 [00:00<?, ?it/s]"
      ]
     },
     "metadata": {},
     "output_type": "display_data"
    },
    {
     "data": {
      "application/vnd.jupyter.widget-view+json": {
       "model_id": "7aa55701d74b43e28682ae4fc8a7f1ba",
       "version_major": 2,
       "version_minor": 0
      },
      "text/plain": [
       "slumlordreach: caching RDMs:   0%|          | 0/1 [00:00<?, ?it/s]"
      ]
     },
     "metadata": {},
     "output_type": "display_data"
    },
    {
     "data": {
      "application/vnd.jupyter.widget-view+json": {
       "model_id": "f42481f47c094833b751aaa9efef820e",
       "version_major": 2,
       "version_minor": 0
      },
      "text/plain": [
       "slumlordreach: caching RDMs:   0%|          | 0/1 [00:00<?, ?it/s]"
      ]
     },
     "metadata": {},
     "output_type": "display_data"
    },
    {
     "data": {
      "application/vnd.jupyter.widget-view+json": {
       "model_id": "66eb7d47e004451e8ef1c24f0914c665",
       "version_major": 2,
       "version_minor": 0
      },
      "text/plain": [
       "slumlordreach: caching RDMs:   0%|          | 0/1 [00:00<?, ?it/s]"
      ]
     },
     "metadata": {},
     "output_type": "display_data"
    },
    {
     "data": {
      "application/vnd.jupyter.widget-view+json": {
       "model_id": "c71ba35b612c4e61824551178c3649eb",
       "version_major": 2,
       "version_minor": 0
      },
      "text/plain": [
       "slumlordreach: caching RDMs:   0%|          | 0/1 [00:00<?, ?it/s]"
      ]
     },
     "metadata": {},
     "output_type": "display_data"
    },
    {
     "data": {
      "application/vnd.jupyter.widget-view+json": {
       "model_id": "6702746e04184fac8df964b4cbfaf0d0",
       "version_major": 2,
       "version_minor": 0
      },
      "text/plain": [
       "slumlordreach: caching RDMs:   0%|          | 0/1 [00:00<?, ?it/s]"
      ]
     },
     "metadata": {},
     "output_type": "display_data"
    },
    {
     "data": {
      "application/vnd.jupyter.widget-view+json": {
       "model_id": "8f844f760dc84a0d9444516938a2439c",
       "version_major": 2,
       "version_minor": 0
      },
      "text/plain": [
       "slumlordreach: caching RDMs:   0%|          | 0/1 [00:00<?, ?it/s]"
      ]
     },
     "metadata": {},
     "output_type": "display_data"
    },
    {
     "data": {
      "application/vnd.jupyter.widget-view+json": {
       "model_id": "684bb08aa2eb4e0e93db05c047218259",
       "version_major": 2,
       "version_minor": 0
      },
      "text/plain": [
       "slumlordreach: caching RDMs:   0%|          | 0/1 [00:00<?, ?it/s]"
      ]
     },
     "metadata": {},
     "output_type": "display_data"
    },
    {
     "data": {
      "application/vnd.jupyter.widget-view+json": {
       "model_id": "a5363bf806b64e58bfd166e44604fa7c",
       "version_major": 2,
       "version_minor": 0
      },
      "text/plain": [
       "pieman: caching RDMs:   0%|          | 0/1 [00:00<?, ?it/s]"
      ]
     },
     "metadata": {},
     "output_type": "display_data"
    },
    {
     "data": {
      "application/vnd.jupyter.widget-view+json": {
       "model_id": "2ebd5a02778f408688e604e37719f48b",
       "version_major": 2,
       "version_minor": 0
      },
      "text/plain": [
       "pieman: caching RDMs:   0%|          | 0/1 [00:00<?, ?it/s]"
      ]
     },
     "metadata": {},
     "output_type": "display_data"
    },
    {
     "data": {
      "application/vnd.jupyter.widget-view+json": {
       "model_id": "0c5a006c4af74fcd8cc380b9a59f24a4",
       "version_major": 2,
       "version_minor": 0
      },
      "text/plain": [
       "pieman: caching RDMs:   0%|          | 0/1 [00:00<?, ?it/s]"
      ]
     },
     "metadata": {},
     "output_type": "display_data"
    },
    {
     "data": {
      "application/vnd.jupyter.widget-view+json": {
       "model_id": "de7e19428b3146c5b5954f45e957ddb4",
       "version_major": 2,
       "version_minor": 0
      },
      "text/plain": [
       "pieman: caching RDMs:   0%|          | 0/1 [00:00<?, ?it/s]"
      ]
     },
     "metadata": {},
     "output_type": "display_data"
    },
    {
     "data": {
      "application/vnd.jupyter.widget-view+json": {
       "model_id": "3341c84217dc4a89bc4e566661079640",
       "version_major": 2,
       "version_minor": 0
      },
      "text/plain": [
       "pieman: caching RDMs:   0%|          | 0/1 [00:00<?, ?it/s]"
      ]
     },
     "metadata": {},
     "output_type": "display_data"
    },
    {
     "data": {
      "application/vnd.jupyter.widget-view+json": {
       "model_id": "453762adf63b4ea2b216ec267b8a1f86",
       "version_major": 2,
       "version_minor": 0
      },
      "text/plain": [
       "pieman: caching RDMs:   0%|          | 0/1 [00:00<?, ?it/s]"
      ]
     },
     "metadata": {},
     "output_type": "display_data"
    },
    {
     "data": {
      "application/vnd.jupyter.widget-view+json": {
       "model_id": "e31759f6af3f4a5b94d080eac4cd889f",
       "version_major": 2,
       "version_minor": 0
      },
      "text/plain": [
       "pieman: caching RDMs:   0%|          | 0/1 [00:00<?, ?it/s]"
      ]
     },
     "metadata": {},
     "output_type": "display_data"
    },
    {
     "data": {
      "application/vnd.jupyter.widget-view+json": {
       "model_id": "fa06585de2d74eff9b02f42a2faf40b1",
       "version_major": 2,
       "version_minor": 0
      },
      "text/plain": [
       "pieman: caching RDMs:   0%|          | 0/1 [00:00<?, ?it/s]"
      ]
     },
     "metadata": {},
     "output_type": "display_data"
    },
    {
     "data": {
      "application/vnd.jupyter.widget-view+json": {
       "model_id": "076c7222e0ad431f837b26d45d55dc50",
       "version_major": 2,
       "version_minor": 0
      },
      "text/plain": [
       "pieman: caching RDMs:   0%|          | 0/1 [00:00<?, ?it/s]"
      ]
     },
     "metadata": {},
     "output_type": "display_data"
    },
    {
     "data": {
      "application/vnd.jupyter.widget-view+json": {
       "model_id": "3447bae03252400285ef71f1d39c4f59",
       "version_major": 2,
       "version_minor": 0
      },
      "text/plain": [
       "pieman: caching RDMs:   0%|          | 0/1 [00:00<?, ?it/s]"
      ]
     },
     "metadata": {},
     "output_type": "display_data"
    },
    {
     "data": {
      "application/vnd.jupyter.widget-view+json": {
       "model_id": "f820f28ddd0e45f6bf0600b9c75ff3d8",
       "version_major": 2,
       "version_minor": 0
      },
      "text/plain": [
       "pieman: caching RDMs:   0%|          | 0/1 [00:00<?, ?it/s]"
      ]
     },
     "metadata": {},
     "output_type": "display_data"
    },
    {
     "data": {
      "application/vnd.jupyter.widget-view+json": {
       "model_id": "2051511a1618475795543384f77f4fef",
       "version_major": 2,
       "version_minor": 0
      },
      "text/plain": [
       "pieman: caching RDMs:   0%|          | 0/1 [00:00<?, ?it/s]"
      ]
     },
     "metadata": {},
     "output_type": "display_data"
    },
    {
     "data": {
      "application/vnd.jupyter.widget-view+json": {
       "model_id": "fc43c31e84d34955a2998080265d898a",
       "version_major": 2,
       "version_minor": 0
      },
      "text/plain": [
       "pieman: caching RDMs:   0%|          | 0/1 [00:00<?, ?it/s]"
      ]
     },
     "metadata": {},
     "output_type": "display_data"
    },
    {
     "data": {
      "application/vnd.jupyter.widget-view+json": {
       "model_id": "0a1687da203b4fc58897311d6b681926",
       "version_major": 2,
       "version_minor": 0
      },
      "text/plain": [
       "pieman: caching RDMs:   0%|          | 0/1 [00:00<?, ?it/s]"
      ]
     },
     "metadata": {},
     "output_type": "display_data"
    },
    {
     "data": {
      "application/vnd.jupyter.widget-view+json": {
       "model_id": "98d8c227ab564f96b08e55323ba9f378",
       "version_major": 2,
       "version_minor": 0
      },
      "text/plain": [
       "pieman: caching RDMs:   0%|          | 0/1 [00:00<?, ?it/s]"
      ]
     },
     "metadata": {},
     "output_type": "display_data"
    },
    {
     "data": {
      "application/vnd.jupyter.widget-view+json": {
       "model_id": "c0312fe03b254bd38e75ec6eb2f2839c",
       "version_major": 2,
       "version_minor": 0
      },
      "text/plain": [
       "pieman: caching RDMs:   0%|          | 0/1 [00:00<?, ?it/s]"
      ]
     },
     "metadata": {},
     "output_type": "display_data"
    },
    {
     "data": {
      "application/vnd.jupyter.widget-view+json": {
       "model_id": "5a3f1b5fc98d49369fac8e5835f0b959",
       "version_major": 2,
       "version_minor": 0
      },
      "text/plain": [
       "pieman: caching RDMs:   0%|          | 0/1 [00:00<?, ?it/s]"
      ]
     },
     "metadata": {},
     "output_type": "display_data"
    },
    {
     "data": {
      "application/vnd.jupyter.widget-view+json": {
       "model_id": "acfb3799ff1a4d0aba6b65a46e391890",
       "version_major": 2,
       "version_minor": 0
      },
      "text/plain": [
       "pieman: caching RDMs:   0%|          | 0/1 [00:00<?, ?it/s]"
      ]
     },
     "metadata": {},
     "output_type": "display_data"
    },
    {
     "data": {
      "application/vnd.jupyter.widget-view+json": {
       "model_id": "31bc6aa41a9c4ba5bb1a3777ae5eb5cd",
       "version_major": 2,
       "version_minor": 0
      },
      "text/plain": [
       "pieman: caching RDMs:   0%|          | 0/1 [00:00<?, ?it/s]"
      ]
     },
     "metadata": {},
     "output_type": "display_data"
    },
    {
     "data": {
      "application/vnd.jupyter.widget-view+json": {
       "model_id": "ea7ba5f52b764df19bba0fbb353f6232",
       "version_major": 2,
       "version_minor": 0
      },
      "text/plain": [
       "pieman: caching RDMs:   0%|          | 0/1 [00:00<?, ?it/s]"
      ]
     },
     "metadata": {},
     "output_type": "display_data"
    },
    {
     "data": {
      "application/vnd.jupyter.widget-view+json": {
       "model_id": "7202d4aa82f24e74803cd28d5dd9a44d",
       "version_major": 2,
       "version_minor": 0
      },
      "text/plain": [
       "pieman: caching RDMs:   0%|          | 0/1 [00:00<?, ?it/s]"
      ]
     },
     "metadata": {},
     "output_type": "display_data"
    },
    {
     "data": {
      "application/vnd.jupyter.widget-view+json": {
       "model_id": "b6bd2c36c8234eb5bfc6ad427bfd7c8e",
       "version_major": 2,
       "version_minor": 0
      },
      "text/plain": [
       "pieman: caching RDMs:   0%|          | 0/1 [00:00<?, ?it/s]"
      ]
     },
     "metadata": {},
     "output_type": "display_data"
    },
    {
     "data": {
      "application/vnd.jupyter.widget-view+json": {
       "model_id": "11b40dfb874c4ae79cf3a34f28db4a0f",
       "version_major": 2,
       "version_minor": 0
      },
      "text/plain": [
       "pieman: caching RDMs:   0%|          | 0/1 [00:00<?, ?it/s]"
      ]
     },
     "metadata": {},
     "output_type": "display_data"
    },
    {
     "data": {
      "application/vnd.jupyter.widget-view+json": {
       "model_id": "0e6ebb7506b04729b156f05d27b0565b",
       "version_major": 2,
       "version_minor": 0
      },
      "text/plain": [
       "pieman: caching RDMs:   0%|          | 0/1 [00:00<?, ?it/s]"
      ]
     },
     "metadata": {},
     "output_type": "display_data"
    },
    {
     "data": {
      "application/vnd.jupyter.widget-view+json": {
       "model_id": "1af12fe8a997416fb421c4458b39488f",
       "version_major": 2,
       "version_minor": 0
      },
      "text/plain": [
       "pieman: caching RDMs:   0%|          | 0/1 [00:00<?, ?it/s]"
      ]
     },
     "metadata": {},
     "output_type": "display_data"
    },
    {
     "data": {
      "application/vnd.jupyter.widget-view+json": {
       "model_id": "8bafb43343de4bd4a98b1dc2eb67daf1",
       "version_major": 2,
       "version_minor": 0
      },
      "text/plain": [
       "pieman: caching RDMs:   0%|          | 0/1 [00:00<?, ?it/s]"
      ]
     },
     "metadata": {},
     "output_type": "display_data"
    },
    {
     "data": {
      "application/vnd.jupyter.widget-view+json": {
       "model_id": "dc9bca246cb7497684cae4341a3154b5",
       "version_major": 2,
       "version_minor": 0
      },
      "text/plain": [
       "pieman: caching RDMs:   0%|          | 0/1 [00:00<?, ?it/s]"
      ]
     },
     "metadata": {},
     "output_type": "display_data"
    },
    {
     "data": {
      "application/vnd.jupyter.widget-view+json": {
       "model_id": "c8ed687595d446239d1dcfd28629b094",
       "version_major": 2,
       "version_minor": 0
      },
      "text/plain": [
       "pieman: caching RDMs:   0%|          | 0/1 [00:00<?, ?it/s]"
      ]
     },
     "metadata": {},
     "output_type": "display_data"
    },
    {
     "data": {
      "application/vnd.jupyter.widget-view+json": {
       "model_id": "e9aa3afa39fa44cb9175f9cb47c06137",
       "version_major": 2,
       "version_minor": 0
      },
      "text/plain": [
       "pieman: caching RDMs:   0%|          | 0/1 [00:00<?, ?it/s]"
      ]
     },
     "metadata": {},
     "output_type": "display_data"
    },
    {
     "data": {
      "application/vnd.jupyter.widget-view+json": {
       "model_id": "4b09ab1017604edcacf717b27ab35077",
       "version_major": 2,
       "version_minor": 0
      },
      "text/plain": [
       "pieman: caching RDMs:   0%|          | 0/1 [00:00<?, ?it/s]"
      ]
     },
     "metadata": {},
     "output_type": "display_data"
    },
    {
     "data": {
      "application/vnd.jupyter.widget-view+json": {
       "model_id": "81bf2f55468d4bcd99296143dc9234ae",
       "version_major": 2,
       "version_minor": 0
      },
      "text/plain": [
       "pieman: caching RDMs:   0%|          | 0/1 [00:00<?, ?it/s]"
      ]
     },
     "metadata": {},
     "output_type": "display_data"
    },
    {
     "data": {
      "application/vnd.jupyter.widget-view+json": {
       "model_id": "22ccc0bf526147cfa84d27bc12bcd5f4",
       "version_major": 2,
       "version_minor": 0
      },
      "text/plain": [
       "pieman: caching RDMs:   0%|          | 0/1 [00:00<?, ?it/s]"
      ]
     },
     "metadata": {},
     "output_type": "display_data"
    },
    {
     "data": {
      "application/vnd.jupyter.widget-view+json": {
       "model_id": "ce4451af78d04ee2a87f9a7ee6ed774d",
       "version_major": 2,
       "version_minor": 0
      },
      "text/plain": [
       "pieman: caching RDMs:   0%|          | 0/1 [00:00<?, ?it/s]"
      ]
     },
     "metadata": {},
     "output_type": "display_data"
    },
    {
     "data": {
      "application/vnd.jupyter.widget-view+json": {
       "model_id": "6419f86830864fbf8d529c7c8ba3a0e0",
       "version_major": 2,
       "version_minor": 0
      },
      "text/plain": [
       "pieman: caching RDMs:   0%|          | 0/1 [00:00<?, ?it/s]"
      ]
     },
     "metadata": {},
     "output_type": "display_data"
    },
    {
     "data": {
      "application/vnd.jupyter.widget-view+json": {
       "model_id": "2cb05d7bc53c4678923d5094a5725808",
       "version_major": 2,
       "version_minor": 0
      },
      "text/plain": [
       "pieman: caching RDMs:   0%|          | 0/1 [00:00<?, ?it/s]"
      ]
     },
     "metadata": {},
     "output_type": "display_data"
    },
    {
     "data": {
      "application/vnd.jupyter.widget-view+json": {
       "model_id": "c84a6239ad4547c497c539acb9192eba",
       "version_major": 2,
       "version_minor": 0
      },
      "text/plain": [
       "pieman: caching RDMs:   0%|          | 0/1 [00:00<?, ?it/s]"
      ]
     },
     "metadata": {},
     "output_type": "display_data"
    },
    {
     "data": {
      "application/vnd.jupyter.widget-view+json": {
       "model_id": "d3a70a6921ae4f5eb3f037c9fbe9f984",
       "version_major": 2,
       "version_minor": 0
      },
      "text/plain": [
       "pieman: caching RDMs:   0%|          | 0/1 [00:00<?, ?it/s]"
      ]
     },
     "metadata": {},
     "output_type": "display_data"
    },
    {
     "data": {
      "application/vnd.jupyter.widget-view+json": {
       "model_id": "9388ba05bf144a85b1067a2642af5e34",
       "version_major": 2,
       "version_minor": 0
      },
      "text/plain": [
       "pieman: caching RDMs:   0%|          | 0/1 [00:00<?, ?it/s]"
      ]
     },
     "metadata": {},
     "output_type": "display_data"
    },
    {
     "data": {
      "application/vnd.jupyter.widget-view+json": {
       "model_id": "fd154b287a38417bbc7c14cc7c9abf7c",
       "version_major": 2,
       "version_minor": 0
      },
      "text/plain": [
       "pieman: caching RDMs:   0%|          | 0/1 [00:00<?, ?it/s]"
      ]
     },
     "metadata": {},
     "output_type": "display_data"
    },
    {
     "data": {
      "application/vnd.jupyter.widget-view+json": {
       "model_id": "0d25858d1c2046749241d3de9352dce1",
       "version_major": 2,
       "version_minor": 0
      },
      "text/plain": [
       "pieman: caching RDMs:   0%|          | 0/1 [00:00<?, ?it/s]"
      ]
     },
     "metadata": {},
     "output_type": "display_data"
    },
    {
     "data": {
      "application/vnd.jupyter.widget-view+json": {
       "model_id": "2edf8329c11e421998741dc4c920918e",
       "version_major": 2,
       "version_minor": 0
      },
      "text/plain": [
       "pieman: caching RDMs:   0%|          | 0/1 [00:00<?, ?it/s]"
      ]
     },
     "metadata": {},
     "output_type": "display_data"
    },
    {
     "data": {
      "application/vnd.jupyter.widget-view+json": {
       "model_id": "cdd188671c1e4dd6a2def8acbc761d52",
       "version_major": 2,
       "version_minor": 0
      },
      "text/plain": [
       "pieman: caching RDMs:   0%|          | 0/1 [00:00<?, ?it/s]"
      ]
     },
     "metadata": {},
     "output_type": "display_data"
    },
    {
     "data": {
      "application/vnd.jupyter.widget-view+json": {
       "model_id": "abf8fa89be75426c8a8ac45dd4c80e5c",
       "version_major": 2,
       "version_minor": 0
      },
      "text/plain": [
       "pieman: caching RDMs:   0%|          | 0/1 [00:00<?, ?it/s]"
      ]
     },
     "metadata": {},
     "output_type": "display_data"
    },
    {
     "data": {
      "application/vnd.jupyter.widget-view+json": {
       "model_id": "2feb9cb58c3c4d5f9a2511964983863e",
       "version_major": 2,
       "version_minor": 0
      },
      "text/plain": [
       "pieman: caching RDMs:   0%|          | 0/1 [00:00<?, ?it/s]"
      ]
     },
     "metadata": {},
     "output_type": "display_data"
    },
    {
     "data": {
      "application/vnd.jupyter.widget-view+json": {
       "model_id": "00295bf9cfea4f1e8158a0d0f1c71edc",
       "version_major": 2,
       "version_minor": 0
      },
      "text/plain": [
       "pieman: caching RDMs:   0%|          | 0/1 [00:00<?, ?it/s]"
      ]
     },
     "metadata": {},
     "output_type": "display_data"
    },
    {
     "data": {
      "application/vnd.jupyter.widget-view+json": {
       "model_id": "7d2fdfb7d8214243a16e679a3153dae6",
       "version_major": 2,
       "version_minor": 0
      },
      "text/plain": [
       "pieman: caching RDMs:   0%|          | 0/1 [00:00<?, ?it/s]"
      ]
     },
     "metadata": {},
     "output_type": "display_data"
    },
    {
     "data": {
      "application/vnd.jupyter.widget-view+json": {
       "model_id": "0d733b372ebf414483bda92c0e4db5e6",
       "version_major": 2,
       "version_minor": 0
      },
      "text/plain": [
       "pieman: caching RDMs:   0%|          | 0/1 [00:00<?, ?it/s]"
      ]
     },
     "metadata": {},
     "output_type": "display_data"
    },
    {
     "data": {
      "application/vnd.jupyter.widget-view+json": {
       "model_id": "ef36110f7afd4c3699d03e6d400e4d8e",
       "version_major": 2,
       "version_minor": 0
      },
      "text/plain": [
       "pieman: caching RDMs:   0%|          | 0/1 [00:00<?, ?it/s]"
      ]
     },
     "metadata": {},
     "output_type": "display_data"
    },
    {
     "data": {
      "application/vnd.jupyter.widget-view+json": {
       "model_id": "f4cbcc43b34743f7ad72c260ef819e22",
       "version_major": 2,
       "version_minor": 0
      },
      "text/plain": [
       "pieman: caching RDMs:   0%|          | 0/1 [00:00<?, ?it/s]"
      ]
     },
     "metadata": {},
     "output_type": "display_data"
    },
    {
     "data": {
      "application/vnd.jupyter.widget-view+json": {
       "model_id": "cc332b47581e485691afdb20db310a6c",
       "version_major": 2,
       "version_minor": 0
      },
      "text/plain": [
       "pieman: caching RDMs:   0%|          | 0/1 [00:00<?, ?it/s]"
      ]
     },
     "metadata": {},
     "output_type": "display_data"
    },
    {
     "data": {
      "application/vnd.jupyter.widget-view+json": {
       "model_id": "15ec9b7354984737a657bd6f637af479",
       "version_major": 2,
       "version_minor": 0
      },
      "text/plain": [
       "pieman: caching RDMs:   0%|          | 0/1 [00:00<?, ?it/s]"
      ]
     },
     "metadata": {},
     "output_type": "display_data"
    },
    {
     "data": {
      "application/vnd.jupyter.widget-view+json": {
       "model_id": "e565759003af4aaeb7d12f0acacd92aa",
       "version_major": 2,
       "version_minor": 0
      },
      "text/plain": [
       "pieman: caching RDMs:   0%|          | 0/1 [00:00<?, ?it/s]"
      ]
     },
     "metadata": {},
     "output_type": "display_data"
    },
    {
     "data": {
      "application/vnd.jupyter.widget-view+json": {
       "model_id": "07d5f03c11a0412cac19fc1c8938a452",
       "version_major": 2,
       "version_minor": 0
      },
      "text/plain": [
       "pieman: caching RDMs:   0%|          | 0/1 [00:00<?, ?it/s]"
      ]
     },
     "metadata": {},
     "output_type": "display_data"
    },
    {
     "data": {
      "application/vnd.jupyter.widget-view+json": {
       "model_id": "f7ac4c27041b4d858b252a0d615db0dc",
       "version_major": 2,
       "version_minor": 0
      },
      "text/plain": [
       "pieman: caching RDMs:   0%|          | 0/1 [00:00<?, ?it/s]"
      ]
     },
     "metadata": {},
     "output_type": "display_data"
    },
    {
     "data": {
      "application/vnd.jupyter.widget-view+json": {
       "model_id": "1020ed4a2eab4894b48efff225d3d290",
       "version_major": 2,
       "version_minor": 0
      },
      "text/plain": [
       "pieman: caching RDMs:   0%|          | 0/1 [00:00<?, ?it/s]"
      ]
     },
     "metadata": {},
     "output_type": "display_data"
    },
    {
     "data": {
      "application/vnd.jupyter.widget-view+json": {
       "model_id": "e20041db914a40c1a8e3236b96720301",
       "version_major": 2,
       "version_minor": 0
      },
      "text/plain": [
       "pieman: caching RDMs:   0%|          | 0/1 [00:00<?, ?it/s]"
      ]
     },
     "metadata": {},
     "output_type": "display_data"
    },
    {
     "data": {
      "application/vnd.jupyter.widget-view+json": {
       "model_id": "433d043787684f54ba9488e7679d07e6",
       "version_major": 2,
       "version_minor": 0
      },
      "text/plain": [
       "pieman: caching RDMs:   0%|          | 0/1 [00:00<?, ?it/s]"
      ]
     },
     "metadata": {},
     "output_type": "display_data"
    },
    {
     "data": {
      "application/vnd.jupyter.widget-view+json": {
       "model_id": "50f78ce27afb4751b187b3318819ddf4",
       "version_major": 2,
       "version_minor": 0
      },
      "text/plain": [
       "pieman: caching RDMs:   0%|          | 0/1 [00:00<?, ?it/s]"
      ]
     },
     "metadata": {},
     "output_type": "display_data"
    },
    {
     "data": {
      "application/vnd.jupyter.widget-view+json": {
       "model_id": "3717a0d461e246e4834c6c94845a932b",
       "version_major": 2,
       "version_minor": 0
      },
      "text/plain": [
       "pieman: caching RDMs:   0%|          | 0/1 [00:00<?, ?it/s]"
      ]
     },
     "metadata": {},
     "output_type": "display_data"
    },
    {
     "data": {
      "application/vnd.jupyter.widget-view+json": {
       "model_id": "5a91b612a4de4de39b41631ebbe768c0",
       "version_major": 2,
       "version_minor": 0
      },
      "text/plain": [
       "pieman: caching RDMs:   0%|          | 0/1 [00:00<?, ?it/s]"
      ]
     },
     "metadata": {},
     "output_type": "display_data"
    },
    {
     "data": {
      "application/vnd.jupyter.widget-view+json": {
       "model_id": "d937c8f960f14a48b733c2fe9daf91e4",
       "version_major": 2,
       "version_minor": 0
      },
      "text/plain": [
       "pieman: caching RDMs:   0%|          | 0/1 [00:00<?, ?it/s]"
      ]
     },
     "metadata": {},
     "output_type": "display_data"
    },
    {
     "data": {
      "application/vnd.jupyter.widget-view+json": {
       "model_id": "6db7b1d6b0a94cb9883656a0f747ad63",
       "version_major": 2,
       "version_minor": 0
      },
      "text/plain": [
       "pieman: caching RDMs:   0%|          | 0/1 [00:00<?, ?it/s]"
      ]
     },
     "metadata": {},
     "output_type": "display_data"
    },
    {
     "data": {
      "application/vnd.jupyter.widget-view+json": {
       "model_id": "83d25e0b275e4bdbb86b262601afd375",
       "version_major": 2,
       "version_minor": 0
      },
      "text/plain": [
       "pieman: caching RDMs:   0%|          | 0/1 [00:00<?, ?it/s]"
      ]
     },
     "metadata": {},
     "output_type": "display_data"
    },
    {
     "data": {
      "application/vnd.jupyter.widget-view+json": {
       "model_id": "f8b7fac43d78455b9ebfecb317079565",
       "version_major": 2,
       "version_minor": 0
      },
      "text/plain": [
       "pieman: caching RDMs:   0%|          | 0/1 [00:00<?, ?it/s]"
      ]
     },
     "metadata": {},
     "output_type": "display_data"
    },
    {
     "data": {
      "application/vnd.jupyter.widget-view+json": {
       "model_id": "d09fa3ce890847a4b2fe836a1f258ea8",
       "version_major": 2,
       "version_minor": 0
      },
      "text/plain": [
       "pieman: caching RDMs:   0%|          | 0/1 [00:00<?, ?it/s]"
      ]
     },
     "metadata": {},
     "output_type": "display_data"
    },
    {
     "data": {
      "application/vnd.jupyter.widget-view+json": {
       "model_id": "bdc251347fbc493da91b09b976a54353",
       "version_major": 2,
       "version_minor": 0
      },
      "text/plain": [
       "pieman: caching RDMs:   0%|          | 0/1 [00:00<?, ?it/s]"
      ]
     },
     "metadata": {},
     "output_type": "display_data"
    },
    {
     "data": {
      "application/vnd.jupyter.widget-view+json": {
       "model_id": "894be167bf1e4da3b83871aad726be57",
       "version_major": 2,
       "version_minor": 0
      },
      "text/plain": [
       "pieman: caching RDMs:   0%|          | 0/1 [00:00<?, ?it/s]"
      ]
     },
     "metadata": {},
     "output_type": "display_data"
    },
    {
     "data": {
      "application/vnd.jupyter.widget-view+json": {
       "model_id": "9fbdcc3351484b9dba2ce81c4ca12b27",
       "version_major": 2,
       "version_minor": 0
      },
      "text/plain": [
       "pieman: caching RDMs:   0%|          | 0/1 [00:00<?, ?it/s]"
      ]
     },
     "metadata": {},
     "output_type": "display_data"
    },
    {
     "data": {
      "application/vnd.jupyter.widget-view+json": {
       "model_id": "4d51821250ef4cd6aefb24ebb585df33",
       "version_major": 2,
       "version_minor": 0
      },
      "text/plain": [
       "pieman: caching RDMs:   0%|          | 0/1 [00:00<?, ?it/s]"
      ]
     },
     "metadata": {},
     "output_type": "display_data"
    },
    {
     "data": {
      "application/vnd.jupyter.widget-view+json": {
       "model_id": "c0d25dd01b7e4b56b3b180a2fc4896b3",
       "version_major": 2,
       "version_minor": 0
      },
      "text/plain": [
       "pieman: caching RDMs:   0%|          | 0/1 [00:00<?, ?it/s]"
      ]
     },
     "metadata": {},
     "output_type": "display_data"
    },
    {
     "data": {
      "application/vnd.jupyter.widget-view+json": {
       "model_id": "8cd4da32c59e45fab60f6d75e9b71f30",
       "version_major": 2,
       "version_minor": 0
      },
      "text/plain": [
       "pieman: caching RDMs:   0%|          | 0/1 [00:00<?, ?it/s]"
      ]
     },
     "metadata": {},
     "output_type": "display_data"
    },
    {
     "data": {
      "application/vnd.jupyter.widget-view+json": {
       "model_id": "b16db5f5f97047b0ab74c91f39114f01",
       "version_major": 2,
       "version_minor": 0
      },
      "text/plain": [
       "pieman: caching RDMs:   0%|          | 0/1 [00:00<?, ?it/s]"
      ]
     },
     "metadata": {},
     "output_type": "display_data"
    },
    {
     "data": {
      "application/vnd.jupyter.widget-view+json": {
       "model_id": "f303ea44f11d48fe92f5bf16fe96e4b8",
       "version_major": 2,
       "version_minor": 0
      },
      "text/plain": [
       "pieman: caching RDMs:   0%|          | 0/1 [00:00<?, ?it/s]"
      ]
     },
     "metadata": {},
     "output_type": "display_data"
    },
    {
     "data": {
      "application/vnd.jupyter.widget-view+json": {
       "model_id": "9a603c4fad3c4a82be6d94b8d1830fc3",
       "version_major": 2,
       "version_minor": 0
      },
      "text/plain": [
       "pieman: caching RDMs:   0%|          | 0/1 [00:00<?, ?it/s]"
      ]
     },
     "metadata": {},
     "output_type": "display_data"
    },
    {
     "data": {
      "application/vnd.jupyter.widget-view+json": {
       "model_id": "623bf461c1a24169a2354c05ae8a40b3",
       "version_major": 2,
       "version_minor": 0
      },
      "text/plain": [
       "pieman: caching RDMs:   0%|          | 0/1 [00:00<?, ?it/s]"
      ]
     },
     "metadata": {},
     "output_type": "display_data"
    },
    {
     "data": {
      "application/vnd.jupyter.widget-view+json": {
       "model_id": "047bc20b873e4a2491db8901e7e2e6a2",
       "version_major": 2,
       "version_minor": 0
      },
      "text/plain": [
       "black: caching RDMs:   0%|          | 0/1 [00:00<?, ?it/s]"
      ]
     },
     "metadata": {},
     "output_type": "display_data"
    },
    {
     "data": {
      "application/vnd.jupyter.widget-view+json": {
       "model_id": "605ad9668d6e4013a76e41ea69bf63b0",
       "version_major": 2,
       "version_minor": 0
      },
      "text/plain": [
       "black: caching RDMs:   0%|          | 0/1 [00:00<?, ?it/s]"
      ]
     },
     "metadata": {},
     "output_type": "display_data"
    },
    {
     "data": {
      "application/vnd.jupyter.widget-view+json": {
       "model_id": "13b13255e979476cbe9d66a105419c52",
       "version_major": 2,
       "version_minor": 0
      },
      "text/plain": [
       "black: caching RDMs:   0%|          | 0/1 [00:00<?, ?it/s]"
      ]
     },
     "metadata": {},
     "output_type": "display_data"
    },
    {
     "data": {
      "application/vnd.jupyter.widget-view+json": {
       "model_id": "57db030da75d4a0484cfd293f4ad54e6",
       "version_major": 2,
       "version_minor": 0
      },
      "text/plain": [
       "black: caching RDMs:   0%|          | 0/1 [00:00<?, ?it/s]"
      ]
     },
     "metadata": {},
     "output_type": "display_data"
    },
    {
     "data": {
      "application/vnd.jupyter.widget-view+json": {
       "model_id": "0cb49b3d97704e4cba35dde6cf2e6223",
       "version_major": 2,
       "version_minor": 0
      },
      "text/plain": [
       "black: caching RDMs:   0%|          | 0/1 [00:00<?, ?it/s]"
      ]
     },
     "metadata": {},
     "output_type": "display_data"
    },
    {
     "data": {
      "application/vnd.jupyter.widget-view+json": {
       "model_id": "0ac2268a30c742768fa8541553aebfe0",
       "version_major": 2,
       "version_minor": 0
      },
      "text/plain": [
       "black: caching RDMs:   0%|          | 0/1 [00:00<?, ?it/s]"
      ]
     },
     "metadata": {},
     "output_type": "display_data"
    },
    {
     "data": {
      "application/vnd.jupyter.widget-view+json": {
       "model_id": "3eeba9acc0744240b1d5ba393d73aac9",
       "version_major": 2,
       "version_minor": 0
      },
      "text/plain": [
       "black: caching RDMs:   0%|          | 0/1 [00:00<?, ?it/s]"
      ]
     },
     "metadata": {},
     "output_type": "display_data"
    },
    {
     "data": {
      "application/vnd.jupyter.widget-view+json": {
       "model_id": "45854678e5cd4f43b3b6c4b410cd4b8d",
       "version_major": 2,
       "version_minor": 0
      },
      "text/plain": [
       "black: caching RDMs:   0%|          | 0/1 [00:00<?, ?it/s]"
      ]
     },
     "metadata": {},
     "output_type": "display_data"
    },
    {
     "data": {
      "application/vnd.jupyter.widget-view+json": {
       "model_id": "1149f15c67cb4403b472b2527978fc36",
       "version_major": 2,
       "version_minor": 0
      },
      "text/plain": [
       "black: caching RDMs:   0%|          | 0/1 [00:00<?, ?it/s]"
      ]
     },
     "metadata": {},
     "output_type": "display_data"
    },
    {
     "data": {
      "application/vnd.jupyter.widget-view+json": {
       "model_id": "b6f0eb944f284ea0ad3693d279ac4c00",
       "version_major": 2,
       "version_minor": 0
      },
      "text/plain": [
       "black: caching RDMs:   0%|          | 0/1 [00:00<?, ?it/s]"
      ]
     },
     "metadata": {},
     "output_type": "display_data"
    },
    {
     "data": {
      "application/vnd.jupyter.widget-view+json": {
       "model_id": "5405ed624b5941888a8d6f71e439d72d",
       "version_major": 2,
       "version_minor": 0
      },
      "text/plain": [
       "black: caching RDMs:   0%|          | 0/1 [00:00<?, ?it/s]"
      ]
     },
     "metadata": {},
     "output_type": "display_data"
    },
    {
     "data": {
      "application/vnd.jupyter.widget-view+json": {
       "model_id": "8bee1f47aa834d7e8dcfecea772fce01",
       "version_major": 2,
       "version_minor": 0
      },
      "text/plain": [
       "black: caching RDMs:   0%|          | 0/1 [00:00<?, ?it/s]"
      ]
     },
     "metadata": {},
     "output_type": "display_data"
    },
    {
     "data": {
      "application/vnd.jupyter.widget-view+json": {
       "model_id": "8409ef4c390549f4bbfeb70bd39500bf",
       "version_major": 2,
       "version_minor": 0
      },
      "text/plain": [
       "black: caching RDMs:   0%|          | 0/1 [00:00<?, ?it/s]"
      ]
     },
     "metadata": {},
     "output_type": "display_data"
    },
    {
     "data": {
      "application/vnd.jupyter.widget-view+json": {
       "model_id": "fd34808d8d5d48f9a5d41b78c31e7b0b",
       "version_major": 2,
       "version_minor": 0
      },
      "text/plain": [
       "black: caching RDMs:   0%|          | 0/1 [00:00<?, ?it/s]"
      ]
     },
     "metadata": {},
     "output_type": "display_data"
    },
    {
     "data": {
      "application/vnd.jupyter.widget-view+json": {
       "model_id": "4fbb2b0c4b294339b5747b57bef72840",
       "version_major": 2,
       "version_minor": 0
      },
      "text/plain": [
       "black: caching RDMs:   0%|          | 0/1 [00:00<?, ?it/s]"
      ]
     },
     "metadata": {},
     "output_type": "display_data"
    },
    {
     "data": {
      "application/vnd.jupyter.widget-view+json": {
       "model_id": "10f321ccd1d440f2bf6d7a99f5a5aa52",
       "version_major": 2,
       "version_minor": 0
      },
      "text/plain": [
       "black: caching RDMs:   0%|          | 0/1 [00:00<?, ?it/s]"
      ]
     },
     "metadata": {},
     "output_type": "display_data"
    },
    {
     "data": {
      "application/vnd.jupyter.widget-view+json": {
       "model_id": "33f159c8e7c94bb09acc4915b5c98d7c",
       "version_major": 2,
       "version_minor": 0
      },
      "text/plain": [
       "black: caching RDMs:   0%|          | 0/1 [00:00<?, ?it/s]"
      ]
     },
     "metadata": {},
     "output_type": "display_data"
    },
    {
     "data": {
      "application/vnd.jupyter.widget-view+json": {
       "model_id": "5ccc06c00c8f45608e93ef628e95eb6b",
       "version_major": 2,
       "version_minor": 0
      },
      "text/plain": [
       "black: caching RDMs:   0%|          | 0/1 [00:00<?, ?it/s]"
      ]
     },
     "metadata": {},
     "output_type": "display_data"
    },
    {
     "data": {
      "application/vnd.jupyter.widget-view+json": {
       "model_id": "b2bda1882b874353b846f79a562e67cd",
       "version_major": 2,
       "version_minor": 0
      },
      "text/plain": [
       "black: caching RDMs:   0%|          | 0/1 [00:00<?, ?it/s]"
      ]
     },
     "metadata": {},
     "output_type": "display_data"
    },
    {
     "data": {
      "application/vnd.jupyter.widget-view+json": {
       "model_id": "7fe86ddac3f04ce4ba5eafc390582e6f",
       "version_major": 2,
       "version_minor": 0
      },
      "text/plain": [
       "black: caching RDMs:   0%|          | 0/1 [00:00<?, ?it/s]"
      ]
     },
     "metadata": {},
     "output_type": "display_data"
    },
    {
     "data": {
      "application/vnd.jupyter.widget-view+json": {
       "model_id": "a2952dc1edf74d7395d595c15aa76535",
       "version_major": 2,
       "version_minor": 0
      },
      "text/plain": [
       "black: caching RDMs:   0%|          | 0/1 [00:00<?, ?it/s]"
      ]
     },
     "metadata": {},
     "output_type": "display_data"
    },
    {
     "data": {
      "application/vnd.jupyter.widget-view+json": {
       "model_id": "b4ee81b5260448afba00053815f4ba98",
       "version_major": 2,
       "version_minor": 0
      },
      "text/plain": [
       "black: caching RDMs:   0%|          | 0/1 [00:00<?, ?it/s]"
      ]
     },
     "metadata": {},
     "output_type": "display_data"
    },
    {
     "data": {
      "application/vnd.jupyter.widget-view+json": {
       "model_id": "bfc1419d3fe14deb8af0adeacb0e9d89",
       "version_major": 2,
       "version_minor": 0
      },
      "text/plain": [
       "black: caching RDMs:   0%|          | 0/1 [00:00<?, ?it/s]"
      ]
     },
     "metadata": {},
     "output_type": "display_data"
    },
    {
     "data": {
      "application/vnd.jupyter.widget-view+json": {
       "model_id": "2086ac96b398468ca3e248fbcd4e3c0e",
       "version_major": 2,
       "version_minor": 0
      },
      "text/plain": [
       "black: caching RDMs:   0%|          | 0/1 [00:00<?, ?it/s]"
      ]
     },
     "metadata": {},
     "output_type": "display_data"
    },
    {
     "data": {
      "application/vnd.jupyter.widget-view+json": {
       "model_id": "5e26f4d6edb943b1816383aee556e43f",
       "version_major": 2,
       "version_minor": 0
      },
      "text/plain": [
       "black: caching RDMs:   0%|          | 0/1 [00:00<?, ?it/s]"
      ]
     },
     "metadata": {},
     "output_type": "display_data"
    },
    {
     "data": {
      "application/vnd.jupyter.widget-view+json": {
       "model_id": "940b77afd7a3415f96d3b2bc2a1f747e",
       "version_major": 2,
       "version_minor": 0
      },
      "text/plain": [
       "black: caching RDMs:   0%|          | 0/1 [00:00<?, ?it/s]"
      ]
     },
     "metadata": {},
     "output_type": "display_data"
    },
    {
     "data": {
      "application/vnd.jupyter.widget-view+json": {
       "model_id": "f4dd3407682f425bada5851c70e32f0f",
       "version_major": 2,
       "version_minor": 0
      },
      "text/plain": [
       "black: caching RDMs:   0%|          | 0/1 [00:00<?, ?it/s]"
      ]
     },
     "metadata": {},
     "output_type": "display_data"
    },
    {
     "data": {
      "application/vnd.jupyter.widget-view+json": {
       "model_id": "ffa9545d101a4bed84f2ccc80944ed96",
       "version_major": 2,
       "version_minor": 0
      },
      "text/plain": [
       "black: caching RDMs:   0%|          | 0/1 [00:00<?, ?it/s]"
      ]
     },
     "metadata": {},
     "output_type": "display_data"
    },
    {
     "data": {
      "application/vnd.jupyter.widget-view+json": {
       "model_id": "2ec6c8c5d98b4c8da8c4f057603ea8bd",
       "version_major": 2,
       "version_minor": 0
      },
      "text/plain": [
       "black: caching RDMs:   0%|          | 0/1 [00:00<?, ?it/s]"
      ]
     },
     "metadata": {},
     "output_type": "display_data"
    },
    {
     "data": {
      "application/vnd.jupyter.widget-view+json": {
       "model_id": "80b8d5026de344b59f4e96f27ad499f9",
       "version_major": 2,
       "version_minor": 0
      },
      "text/plain": [
       "black: caching RDMs:   0%|          | 0/1 [00:00<?, ?it/s]"
      ]
     },
     "metadata": {},
     "output_type": "display_data"
    },
    {
     "data": {
      "application/vnd.jupyter.widget-view+json": {
       "model_id": "2c227e6064414e43b1612e12852300f0",
       "version_major": 2,
       "version_minor": 0
      },
      "text/plain": [
       "black: caching RDMs:   0%|          | 0/1 [00:00<?, ?it/s]"
      ]
     },
     "metadata": {},
     "output_type": "display_data"
    },
    {
     "data": {
      "application/vnd.jupyter.widget-view+json": {
       "model_id": "31ca6d1cdb204e25a34dd41a977e68d1",
       "version_major": 2,
       "version_minor": 0
      },
      "text/plain": [
       "black: caching RDMs:   0%|          | 0/1 [00:00<?, ?it/s]"
      ]
     },
     "metadata": {},
     "output_type": "display_data"
    },
    {
     "data": {
      "application/vnd.jupyter.widget-view+json": {
       "model_id": "fa965a1cd9a24bcb89b24234b158800f",
       "version_major": 2,
       "version_minor": 0
      },
      "text/plain": [
       "black: caching RDMs:   0%|          | 0/1 [00:00<?, ?it/s]"
      ]
     },
     "metadata": {},
     "output_type": "display_data"
    },
    {
     "data": {
      "application/vnd.jupyter.widget-view+json": {
       "model_id": "70d46123a38a4fb59a7ab9ea1b50fc77",
       "version_major": 2,
       "version_minor": 0
      },
      "text/plain": [
       "black: caching RDMs:   0%|          | 0/1 [00:00<?, ?it/s]"
      ]
     },
     "metadata": {},
     "output_type": "display_data"
    },
    {
     "data": {
      "application/vnd.jupyter.widget-view+json": {
       "model_id": "c9907e2d3a4e4867869a9ce46cd1d533",
       "version_major": 2,
       "version_minor": 0
      },
      "text/plain": [
       "black: caching RDMs:   0%|          | 0/1 [00:00<?, ?it/s]"
      ]
     },
     "metadata": {},
     "output_type": "display_data"
    },
    {
     "data": {
      "application/vnd.jupyter.widget-view+json": {
       "model_id": "2b0962e90b5d4d5da1c98153df63ae47",
       "version_major": 2,
       "version_minor": 0
      },
      "text/plain": [
       "black: caching RDMs:   0%|          | 0/1 [00:00<?, ?it/s]"
      ]
     },
     "metadata": {},
     "output_type": "display_data"
    },
    {
     "data": {
      "application/vnd.jupyter.widget-view+json": {
       "model_id": "bf8e263f734046c382827b29c676cc41",
       "version_major": 2,
       "version_minor": 0
      },
      "text/plain": [
       "black: caching RDMs:   0%|          | 0/1 [00:00<?, ?it/s]"
      ]
     },
     "metadata": {},
     "output_type": "display_data"
    },
    {
     "data": {
      "application/vnd.jupyter.widget-view+json": {
       "model_id": "98d7ccc3bbe442f592f3b522dd5bb3aa",
       "version_major": 2,
       "version_minor": 0
      },
      "text/plain": [
       "black: caching RDMs:   0%|          | 0/1 [00:00<?, ?it/s]"
      ]
     },
     "metadata": {},
     "output_type": "display_data"
    },
    {
     "data": {
      "application/vnd.jupyter.widget-view+json": {
       "model_id": "ac0298e5ec9b42ffa47cddef63a85485",
       "version_major": 2,
       "version_minor": 0
      },
      "text/plain": [
       "black: caching RDMs:   0%|          | 0/1 [00:00<?, ?it/s]"
      ]
     },
     "metadata": {},
     "output_type": "display_data"
    },
    {
     "data": {
      "application/vnd.jupyter.widget-view+json": {
       "model_id": "16a93533681c488facb24447180b6d9c",
       "version_major": 2,
       "version_minor": 0
      },
      "text/plain": [
       "black: caching RDMs:   0%|          | 0/1 [00:00<?, ?it/s]"
      ]
     },
     "metadata": {},
     "output_type": "display_data"
    },
    {
     "data": {
      "application/vnd.jupyter.widget-view+json": {
       "model_id": "961afbee8ad942a880dab94b615f9a7e",
       "version_major": 2,
       "version_minor": 0
      },
      "text/plain": [
       "black: caching RDMs:   0%|          | 0/1 [00:00<?, ?it/s]"
      ]
     },
     "metadata": {},
     "output_type": "display_data"
    },
    {
     "data": {
      "application/vnd.jupyter.widget-view+json": {
       "model_id": "28449cde30dd46d78ec312116c1a0a04",
       "version_major": 2,
       "version_minor": 0
      },
      "text/plain": [
       "black: caching RDMs:   0%|          | 0/1 [00:00<?, ?it/s]"
      ]
     },
     "metadata": {},
     "output_type": "display_data"
    },
    {
     "data": {
      "application/vnd.jupyter.widget-view+json": {
       "model_id": "45f573ba8a5e4977bc2a8fe34434e7da",
       "version_major": 2,
       "version_minor": 0
      },
      "text/plain": [
       "black: caching RDMs:   0%|          | 0/1 [00:00<?, ?it/s]"
      ]
     },
     "metadata": {},
     "output_type": "display_data"
    },
    {
     "data": {
      "application/vnd.jupyter.widget-view+json": {
       "model_id": "59e03f1acafb4bb783deaab58a3297d2",
       "version_major": 2,
       "version_minor": 0
      },
      "text/plain": [
       "black: caching RDMs:   0%|          | 0/1 [00:00<?, ?it/s]"
      ]
     },
     "metadata": {},
     "output_type": "display_data"
    },
    {
     "data": {
      "application/vnd.jupyter.widget-view+json": {
       "model_id": "446d765fbc8d4ce4b172256a922f9b04",
       "version_major": 2,
       "version_minor": 0
      },
      "text/plain": [
       "black: caching RDMs:   0%|          | 0/1 [00:00<?, ?it/s]"
      ]
     },
     "metadata": {},
     "output_type": "display_data"
    },
    {
     "data": {
      "application/vnd.jupyter.widget-view+json": {
       "model_id": "46b690939f4e428fb11eac2468c15bd1",
       "version_major": 2,
       "version_minor": 0
      },
      "text/plain": [
       "black: caching RDMs:   0%|          | 0/1 [00:00<?, ?it/s]"
      ]
     },
     "metadata": {},
     "output_type": "display_data"
    },
    {
     "data": {
      "application/vnd.jupyter.widget-view+json": {
       "model_id": "47c84eafcdc7401895489a768e6da20a",
       "version_major": 2,
       "version_minor": 0
      },
      "text/plain": [
       "forgot: caching RDMs:   0%|          | 0/1 [00:00<?, ?it/s]"
      ]
     },
     "metadata": {},
     "output_type": "display_data"
    },
    {
     "data": {
      "application/vnd.jupyter.widget-view+json": {
       "model_id": "a5057ab5bcbb4d7aa422bef1d367495d",
       "version_major": 2,
       "version_minor": 0
      },
      "text/plain": [
       "forgot: caching RDMs:   0%|          | 0/1 [00:00<?, ?it/s]"
      ]
     },
     "metadata": {},
     "output_type": "display_data"
    },
    {
     "data": {
      "application/vnd.jupyter.widget-view+json": {
       "model_id": "9f6487862edb4413bc6cfd22d32c2281",
       "version_major": 2,
       "version_minor": 0
      },
      "text/plain": [
       "forgot: caching RDMs:   0%|          | 0/1 [00:00<?, ?it/s]"
      ]
     },
     "metadata": {},
     "output_type": "display_data"
    },
    {
     "data": {
      "application/vnd.jupyter.widget-view+json": {
       "model_id": "2136e3bbce854ef9b1b002e8ed9dc1c5",
       "version_major": 2,
       "version_minor": 0
      },
      "text/plain": [
       "forgot: caching RDMs:   0%|          | 0/1 [00:00<?, ?it/s]"
      ]
     },
     "metadata": {},
     "output_type": "display_data"
    },
    {
     "data": {
      "application/vnd.jupyter.widget-view+json": {
       "model_id": "1bc7780086394077934d17060a04b135",
       "version_major": 2,
       "version_minor": 0
      },
      "text/plain": [
       "forgot: caching RDMs:   0%|          | 0/1 [00:00<?, ?it/s]"
      ]
     },
     "metadata": {},
     "output_type": "display_data"
    },
    {
     "data": {
      "application/vnd.jupyter.widget-view+json": {
       "model_id": "9b938da6925e4f27878d2f2770fcc1fe",
       "version_major": 2,
       "version_minor": 0
      },
      "text/plain": [
       "forgot: caching RDMs:   0%|          | 0/1 [00:00<?, ?it/s]"
      ]
     },
     "metadata": {},
     "output_type": "display_data"
    },
    {
     "data": {
      "application/vnd.jupyter.widget-view+json": {
       "model_id": "255b69e301b1439fa4111841b792619e",
       "version_major": 2,
       "version_minor": 0
      },
      "text/plain": [
       "forgot: caching RDMs:   0%|          | 0/1 [00:00<?, ?it/s]"
      ]
     },
     "metadata": {},
     "output_type": "display_data"
    },
    {
     "data": {
      "application/vnd.jupyter.widget-view+json": {
       "model_id": "ca759c3bc0c64299b7e9410aa9350541",
       "version_major": 2,
       "version_minor": 0
      },
      "text/plain": [
       "forgot: caching RDMs:   0%|          | 0/1 [00:00<?, ?it/s]"
      ]
     },
     "metadata": {},
     "output_type": "display_data"
    },
    {
     "data": {
      "application/vnd.jupyter.widget-view+json": {
       "model_id": "6b0b3e4f65214eebac1c1b0ac440ab9a",
       "version_major": 2,
       "version_minor": 0
      },
      "text/plain": [
       "forgot: caching RDMs:   0%|          | 0/1 [00:00<?, ?it/s]"
      ]
     },
     "metadata": {},
     "output_type": "display_data"
    },
    {
     "data": {
      "application/vnd.jupyter.widget-view+json": {
       "model_id": "e97014bcc4a44ce586fef4f44a151769",
       "version_major": 2,
       "version_minor": 0
      },
      "text/plain": [
       "forgot: caching RDMs:   0%|          | 0/1 [00:00<?, ?it/s]"
      ]
     },
     "metadata": {},
     "output_type": "display_data"
    },
    {
     "data": {
      "application/vnd.jupyter.widget-view+json": {
       "model_id": "86a425357522420085d3eb9729441e54",
       "version_major": 2,
       "version_minor": 0
      },
      "text/plain": [
       "forgot: caching RDMs:   0%|          | 0/1 [00:00<?, ?it/s]"
      ]
     },
     "metadata": {},
     "output_type": "display_data"
    },
    {
     "data": {
      "application/vnd.jupyter.widget-view+json": {
       "model_id": "a44dd6ac13f14a4785fa1d0702b635cf",
       "version_major": 2,
       "version_minor": 0
      },
      "text/plain": [
       "forgot: caching RDMs:   0%|          | 0/1 [00:00<?, ?it/s]"
      ]
     },
     "metadata": {},
     "output_type": "display_data"
    },
    {
     "data": {
      "application/vnd.jupyter.widget-view+json": {
       "model_id": "ab94894c18ae4dc2a2642fe513c6ad69",
       "version_major": 2,
       "version_minor": 0
      },
      "text/plain": [
       "forgot: caching RDMs:   0%|          | 0/1 [00:00<?, ?it/s]"
      ]
     },
     "metadata": {},
     "output_type": "display_data"
    },
    {
     "data": {
      "application/vnd.jupyter.widget-view+json": {
       "model_id": "0726206ce27e42d396bdc68bd1784d15",
       "version_major": 2,
       "version_minor": 0
      },
      "text/plain": [
       "forgot: caching RDMs:   0%|          | 0/1 [00:00<?, ?it/s]"
      ]
     },
     "metadata": {},
     "output_type": "display_data"
    },
    {
     "data": {
      "application/vnd.jupyter.widget-view+json": {
       "model_id": "a99e9279c4a148eb900f91e6eb173e36",
       "version_major": 2,
       "version_minor": 0
      },
      "text/plain": [
       "forgot: caching RDMs:   0%|          | 0/1 [00:00<?, ?it/s]"
      ]
     },
     "metadata": {},
     "output_type": "display_data"
    },
    {
     "data": {
      "application/vnd.jupyter.widget-view+json": {
       "model_id": "f8ebb02f832c4addb9677a00cc893f0d",
       "version_major": 2,
       "version_minor": 0
      },
      "text/plain": [
       "forgot: caching RDMs:   0%|          | 0/1 [00:00<?, ?it/s]"
      ]
     },
     "metadata": {},
     "output_type": "display_data"
    },
    {
     "data": {
      "application/vnd.jupyter.widget-view+json": {
       "model_id": "2ba15af2ab1c45ec8fee182066d8005e",
       "version_major": 2,
       "version_minor": 0
      },
      "text/plain": [
       "forgot: caching RDMs:   0%|          | 0/1 [00:00<?, ?it/s]"
      ]
     },
     "metadata": {},
     "output_type": "display_data"
    },
    {
     "data": {
      "application/vnd.jupyter.widget-view+json": {
       "model_id": "5ba0658a5468462a9189f0f76a974c99",
       "version_major": 2,
       "version_minor": 0
      },
      "text/plain": [
       "forgot: caching RDMs:   0%|          | 0/1 [00:00<?, ?it/s]"
      ]
     },
     "metadata": {},
     "output_type": "display_data"
    },
    {
     "data": {
      "application/vnd.jupyter.widget-view+json": {
       "model_id": "b320cd173adf44a78166955733c278fc",
       "version_major": 2,
       "version_minor": 0
      },
      "text/plain": [
       "forgot: caching RDMs:   0%|          | 0/1 [00:00<?, ?it/s]"
      ]
     },
     "metadata": {},
     "output_type": "display_data"
    },
    {
     "data": {
      "application/vnd.jupyter.widget-view+json": {
       "model_id": "3e53f2b64ea34c599b00c8bed3621e6f",
       "version_major": 2,
       "version_minor": 0
      },
      "text/plain": [
       "forgot: caching RDMs:   0%|          | 0/1 [00:00<?, ?it/s]"
      ]
     },
     "metadata": {},
     "output_type": "display_data"
    },
    {
     "data": {
      "application/vnd.jupyter.widget-view+json": {
       "model_id": "52e1fdeeedb44e709753fc215d34ead1",
       "version_major": 2,
       "version_minor": 0
      },
      "text/plain": [
       "forgot: caching RDMs:   0%|          | 0/1 [00:00<?, ?it/s]"
      ]
     },
     "metadata": {},
     "output_type": "display_data"
    },
    {
     "data": {
      "application/vnd.jupyter.widget-view+json": {
       "model_id": "6295ab4e55ab452cbf77b922f988069c",
       "version_major": 2,
       "version_minor": 0
      },
      "text/plain": [
       "forgot: caching RDMs:   0%|          | 0/1 [00:00<?, ?it/s]"
      ]
     },
     "metadata": {},
     "output_type": "display_data"
    },
    {
     "data": {
      "application/vnd.jupyter.widget-view+json": {
       "model_id": "6ec6073884984674ba7400022a1aacb8",
       "version_major": 2,
       "version_minor": 0
      },
      "text/plain": [
       "forgot: caching RDMs:   0%|          | 0/1 [00:00<?, ?it/s]"
      ]
     },
     "metadata": {},
     "output_type": "display_data"
    },
    {
     "data": {
      "application/vnd.jupyter.widget-view+json": {
       "model_id": "1015d0710fe84ffcbc31e4cb1e077f8b",
       "version_major": 2,
       "version_minor": 0
      },
      "text/plain": [
       "forgot: caching RDMs:   0%|          | 0/1 [00:00<?, ?it/s]"
      ]
     },
     "metadata": {},
     "output_type": "display_data"
    },
    {
     "data": {
      "application/vnd.jupyter.widget-view+json": {
       "model_id": "3a2b56cce57240018297e146745404f2",
       "version_major": 2,
       "version_minor": 0
      },
      "text/plain": [
       "forgot: caching RDMs:   0%|          | 0/1 [00:00<?, ?it/s]"
      ]
     },
     "metadata": {},
     "output_type": "display_data"
    },
    {
     "data": {
      "application/vnd.jupyter.widget-view+json": {
       "model_id": "9bc0977c82214ea19bd0dc9eed28433f",
       "version_major": 2,
       "version_minor": 0
      },
      "text/plain": [
       "forgot: caching RDMs:   0%|          | 0/1 [00:00<?, ?it/s]"
      ]
     },
     "metadata": {},
     "output_type": "display_data"
    },
    {
     "data": {
      "application/vnd.jupyter.widget-view+json": {
       "model_id": "3f791010781945a9b4a577797aec7cec",
       "version_major": 2,
       "version_minor": 0
      },
      "text/plain": [
       "forgot: caching RDMs:   0%|          | 0/1 [00:00<?, ?it/s]"
      ]
     },
     "metadata": {},
     "output_type": "display_data"
    },
    {
     "data": {
      "application/vnd.jupyter.widget-view+json": {
       "model_id": "fae6eb3e274548f2a9b8b3315a3f65f8",
       "version_major": 2,
       "version_minor": 0
      },
      "text/plain": [
       "forgot: caching RDMs:   0%|          | 0/1 [00:00<?, ?it/s]"
      ]
     },
     "metadata": {},
     "output_type": "display_data"
    },
    {
     "data": {
      "application/vnd.jupyter.widget-view+json": {
       "model_id": "cad5c73ef006413d9816433af3f437ef",
       "version_major": 2,
       "version_minor": 0
      },
      "text/plain": [
       "forgot: caching RDMs:   0%|          | 0/1 [00:00<?, ?it/s]"
      ]
     },
     "metadata": {},
     "output_type": "display_data"
    },
    {
     "data": {
      "application/vnd.jupyter.widget-view+json": {
       "model_id": "c03cc47e428c45b09a01c82b253af289",
       "version_major": 2,
       "version_minor": 0
      },
      "text/plain": [
       "forgot: caching RDMs:   0%|          | 0/1 [00:00<?, ?it/s]"
      ]
     },
     "metadata": {},
     "output_type": "display_data"
    },
    {
     "data": {
      "application/vnd.jupyter.widget-view+json": {
       "model_id": "b9604ffb549349f5a31cc2e0891d3620",
       "version_major": 2,
       "version_minor": 0
      },
      "text/plain": [
       "forgot: caching RDMs:   0%|          | 0/1 [00:00<?, ?it/s]"
      ]
     },
     "metadata": {},
     "output_type": "display_data"
    },
    {
     "data": {
      "application/vnd.jupyter.widget-view+json": {
       "model_id": "de8ece4a00d4447fa6edc74034832920",
       "version_major": 2,
       "version_minor": 0
      },
      "text/plain": [
       "forgot: caching RDMs:   0%|          | 0/1 [00:00<?, ?it/s]"
      ]
     },
     "metadata": {},
     "output_type": "display_data"
    },
    {
     "data": {
      "application/vnd.jupyter.widget-view+json": {
       "model_id": "c91b3ef5f9bf40a68453c70436db368d",
       "version_major": 2,
       "version_minor": 0
      },
      "text/plain": [
       "forgot: caching RDMs:   0%|          | 0/1 [00:00<?, ?it/s]"
      ]
     },
     "metadata": {},
     "output_type": "display_data"
    },
    {
     "data": {
      "application/vnd.jupyter.widget-view+json": {
       "model_id": "6a926e1b7e6f45a8860785fe6eb711c6",
       "version_major": 2,
       "version_minor": 0
      },
      "text/plain": [
       "forgot: caching RDMs:   0%|          | 0/1 [00:00<?, ?it/s]"
      ]
     },
     "metadata": {},
     "output_type": "display_data"
    },
    {
     "data": {
      "application/vnd.jupyter.widget-view+json": {
       "model_id": "95bbb09920df43d193301bd0674e6a03",
       "version_major": 2,
       "version_minor": 0
      },
      "text/plain": [
       "forgot: caching RDMs:   0%|          | 0/1 [00:00<?, ?it/s]"
      ]
     },
     "metadata": {},
     "output_type": "display_data"
    },
    {
     "data": {
      "application/vnd.jupyter.widget-view+json": {
       "model_id": "a84656bf791f4e3f843cd51bc313e109",
       "version_major": 2,
       "version_minor": 0
      },
      "text/plain": [
       "forgot: caching RDMs:   0%|          | 0/1 [00:00<?, ?it/s]"
      ]
     },
     "metadata": {},
     "output_type": "display_data"
    },
    {
     "data": {
      "application/vnd.jupyter.widget-view+json": {
       "model_id": "ce0ea43fb074467da8440a5ef920a464",
       "version_major": 2,
       "version_minor": 0
      },
      "text/plain": [
       "forgot: caching RDMs:   0%|          | 0/1 [00:00<?, ?it/s]"
      ]
     },
     "metadata": {},
     "output_type": "display_data"
    },
    {
     "data": {
      "application/vnd.jupyter.widget-view+json": {
       "model_id": "8a6c59c2b2334f2ca59226eaa3647841",
       "version_major": 2,
       "version_minor": 0
      },
      "text/plain": [
       "forgot: caching RDMs:   0%|          | 0/1 [00:00<?, ?it/s]"
      ]
     },
     "metadata": {},
     "output_type": "display_data"
    },
    {
     "data": {
      "application/vnd.jupyter.widget-view+json": {
       "model_id": "f45cfd13524847fe994f8686cc01fd63",
       "version_major": 2,
       "version_minor": 0
      },
      "text/plain": [
       "forgot: caching RDMs:   0%|          | 0/1 [00:00<?, ?it/s]"
      ]
     },
     "metadata": {},
     "output_type": "display_data"
    },
    {
     "data": {
      "application/vnd.jupyter.widget-view+json": {
       "model_id": "8f989d04dfcd43dfba958182385ef200",
       "version_major": 2,
       "version_minor": 0
      },
      "text/plain": [
       "forgot: caching RDMs:   0%|          | 0/1 [00:00<?, ?it/s]"
      ]
     },
     "metadata": {},
     "output_type": "display_data"
    },
    {
     "data": {
      "application/vnd.jupyter.widget-view+json": {
       "model_id": "a9c0356ffa4c462ca7b45a762524f57e",
       "version_major": 2,
       "version_minor": 0
      },
      "text/plain": [
       "forgot: caching RDMs:   0%|          | 0/1 [00:00<?, ?it/s]"
      ]
     },
     "metadata": {},
     "output_type": "display_data"
    },
    {
     "data": {
      "application/vnd.jupyter.widget-view+json": {
       "model_id": "e9ae63788ea242fca125df00946f9db0",
       "version_major": 2,
       "version_minor": 0
      },
      "text/plain": [
       "forgot: caching RDMs:   0%|          | 0/1 [00:00<?, ?it/s]"
      ]
     },
     "metadata": {},
     "output_type": "display_data"
    },
    {
     "data": {
      "application/vnd.jupyter.widget-view+json": {
       "model_id": "c08d600f9388468ea13c6f8ef4f66c38",
       "version_major": 2,
       "version_minor": 0
      },
      "text/plain": [
       "forgot: caching RDMs:   0%|          | 0/1 [00:00<?, ?it/s]"
      ]
     },
     "metadata": {},
     "output_type": "display_data"
    },
    {
     "data": {
      "application/vnd.jupyter.widget-view+json": {
       "model_id": "e9f6406ac5c14d59abccfe2407c07e92",
       "version_major": 2,
       "version_minor": 0
      },
      "text/plain": [
       "forgot: caching RDMs:   0%|          | 0/1 [00:00<?, ?it/s]"
      ]
     },
     "metadata": {},
     "output_type": "display_data"
    },
    {
     "data": {
      "application/vnd.jupyter.widget-view+json": {
       "model_id": "dc315c1089bf43d4b7b8aec32a1c649b",
       "version_major": 2,
       "version_minor": 0
      },
      "text/plain": [
       "forgot: caching RDMs:   0%|          | 0/1 [00:00<?, ?it/s]"
      ]
     },
     "metadata": {},
     "output_type": "display_data"
    },
    {
     "data": {
      "application/vnd.jupyter.widget-view+json": {
       "model_id": "0dda35e358904828922b31ca362e039a",
       "version_major": 2,
       "version_minor": 0
      },
      "text/plain": [
       "forgot: caching RDMs:   0%|          | 0/1 [00:00<?, ?it/s]"
      ]
     },
     "metadata": {},
     "output_type": "display_data"
    },
    {
     "data": {
      "application/vnd.jupyter.widget-view+json": {
       "model_id": "061f288bbd39472394b99ee30df0e65c",
       "version_major": 2,
       "version_minor": 0
      },
      "text/plain": [
       "reachforstars: caching RDMs:   0%|          | 0/1 [00:00<?, ?it/s]"
      ]
     },
     "metadata": {},
     "output_type": "display_data"
    },
    {
     "data": {
      "application/vnd.jupyter.widget-view+json": {
       "model_id": "63da8b2a2a734bbbab02a2041af20eb9",
       "version_major": 2,
       "version_minor": 0
      },
      "text/plain": [
       "reachforstars: caching RDMs:   0%|          | 0/1 [00:00<?, ?it/s]"
      ]
     },
     "metadata": {},
     "output_type": "display_data"
    },
    {
     "data": {
      "application/vnd.jupyter.widget-view+json": {
       "model_id": "075252eb0df248afbd4a3eb7486e7d49",
       "version_major": 2,
       "version_minor": 0
      },
      "text/plain": [
       "reachforstars: caching RDMs:   0%|          | 0/1 [00:00<?, ?it/s]"
      ]
     },
     "metadata": {},
     "output_type": "display_data"
    },
    {
     "data": {
      "application/vnd.jupyter.widget-view+json": {
       "model_id": "a688624352974ddb93587c28dece7cd7",
       "version_major": 2,
       "version_minor": 0
      },
      "text/plain": [
       "reachforstars: caching RDMs:   0%|          | 0/1 [00:00<?, ?it/s]"
      ]
     },
     "metadata": {},
     "output_type": "display_data"
    },
    {
     "data": {
      "application/vnd.jupyter.widget-view+json": {
       "model_id": "ea5d591cfd9a48e3962147fc76b40f9d",
       "version_major": 2,
       "version_minor": 0
      },
      "text/plain": [
       "reachforstars: caching RDMs:   0%|          | 0/1 [00:00<?, ?it/s]"
      ]
     },
     "metadata": {},
     "output_type": "display_data"
    },
    {
     "data": {
      "application/vnd.jupyter.widget-view+json": {
       "model_id": "172666246c544041beadc845306e004d",
       "version_major": 2,
       "version_minor": 0
      },
      "text/plain": [
       "reachforstars: caching RDMs:   0%|          | 0/1 [00:00<?, ?it/s]"
      ]
     },
     "metadata": {},
     "output_type": "display_data"
    },
    {
     "data": {
      "application/vnd.jupyter.widget-view+json": {
       "model_id": "2b16d5c8fa204a48b5c048bdc4f1e12f",
       "version_major": 2,
       "version_minor": 0
      },
      "text/plain": [
       "reachforstars: caching RDMs:   0%|          | 0/1 [00:00<?, ?it/s]"
      ]
     },
     "metadata": {},
     "output_type": "display_data"
    },
    {
     "data": {
      "application/vnd.jupyter.widget-view+json": {
       "model_id": "a2e82a65652947ad99dce1f225c8ff0e",
       "version_major": 2,
       "version_minor": 0
      },
      "text/plain": [
       "reachforstars: caching RDMs:   0%|          | 0/1 [00:00<?, ?it/s]"
      ]
     },
     "metadata": {},
     "output_type": "display_data"
    },
    {
     "data": {
      "application/vnd.jupyter.widget-view+json": {
       "model_id": "578fbc070ae84444b62a3d98e5642e8f",
       "version_major": 2,
       "version_minor": 0
      },
      "text/plain": [
       "reachforstars: caching RDMs:   0%|          | 0/1 [00:00<?, ?it/s]"
      ]
     },
     "metadata": {},
     "output_type": "display_data"
    },
    {
     "data": {
      "application/vnd.jupyter.widget-view+json": {
       "model_id": "7aa4760f4aae4f2688d1cfc4bdda3069",
       "version_major": 2,
       "version_minor": 0
      },
      "text/plain": [
       "reachforstars: caching RDMs:   0%|          | 0/1 [00:00<?, ?it/s]"
      ]
     },
     "metadata": {},
     "output_type": "display_data"
    },
    {
     "data": {
      "application/vnd.jupyter.widget-view+json": {
       "model_id": "dd45a5ef93fa42ebae9f3e7cabbce7c5",
       "version_major": 2,
       "version_minor": 0
      },
      "text/plain": [
       "reachforstars: caching RDMs:   0%|          | 0/1 [00:00<?, ?it/s]"
      ]
     },
     "metadata": {},
     "output_type": "display_data"
    },
    {
     "data": {
      "application/vnd.jupyter.widget-view+json": {
       "model_id": "6f2809b7de0d4303a57fd9a63539426e",
       "version_major": 2,
       "version_minor": 0
      },
      "text/plain": [
       "reachforstars: caching RDMs:   0%|          | 0/1 [00:00<?, ?it/s]"
      ]
     },
     "metadata": {},
     "output_type": "display_data"
    },
    {
     "data": {
      "application/vnd.jupyter.widget-view+json": {
       "model_id": "9a8e296aa26244bda2c3b9d77aa75d0a",
       "version_major": 2,
       "version_minor": 0
      },
      "text/plain": [
       "reachforstars: caching RDMs:   0%|          | 0/1 [00:00<?, ?it/s]"
      ]
     },
     "metadata": {},
     "output_type": "display_data"
    },
    {
     "data": {
      "application/vnd.jupyter.widget-view+json": {
       "model_id": "0ad8b4a616b04849ae3d7f081988b91f",
       "version_major": 2,
       "version_minor": 0
      },
      "text/plain": [
       "reachforstars: caching RDMs:   0%|          | 0/1 [00:00<?, ?it/s]"
      ]
     },
     "metadata": {},
     "output_type": "display_data"
    },
    {
     "data": {
      "application/vnd.jupyter.widget-view+json": {
       "model_id": "f9606a91e6504984a91c602f306c6062",
       "version_major": 2,
       "version_minor": 0
      },
      "text/plain": [
       "reachforstars: caching RDMs:   0%|          | 0/1 [00:00<?, ?it/s]"
      ]
     },
     "metadata": {},
     "output_type": "display_data"
    },
    {
     "data": {
      "application/vnd.jupyter.widget-view+json": {
       "model_id": "c00165f58a334742aafdac9018336369",
       "version_major": 2,
       "version_minor": 0
      },
      "text/plain": [
       "reachforstars: caching RDMs:   0%|          | 0/1 [00:00<?, ?it/s]"
      ]
     },
     "metadata": {},
     "output_type": "display_data"
    },
    {
     "data": {
      "application/vnd.jupyter.widget-view+json": {
       "model_id": "a7473dfc0d8a40bbab95112bf2b23d79",
       "version_major": 2,
       "version_minor": 0
      },
      "text/plain": [
       "reachforstars: caching RDMs:   0%|          | 0/1 [00:00<?, ?it/s]"
      ]
     },
     "metadata": {},
     "output_type": "display_data"
    },
    {
     "data": {
      "application/vnd.jupyter.widget-view+json": {
       "model_id": "cc30bc3e4c59445589815ab1fd47c89b",
       "version_major": 2,
       "version_minor": 0
      },
      "text/plain": [
       "notthefallintact: caching RDMs:   0%|          | 0/1 [00:00<?, ?it/s]"
      ]
     },
     "metadata": {},
     "output_type": "display_data"
    },
    {
     "data": {
      "application/vnd.jupyter.widget-view+json": {
       "model_id": "7dd28b43f9cc4cf0b6380da1e234dd12",
       "version_major": 2,
       "version_minor": 0
      },
      "text/plain": [
       "notthefallintact: caching RDMs:   0%|          | 0/1 [00:00<?, ?it/s]"
      ]
     },
     "metadata": {},
     "output_type": "display_data"
    },
    {
     "data": {
      "application/vnd.jupyter.widget-view+json": {
       "model_id": "832f7a588c7a4fda9098b04fce609806",
       "version_major": 2,
       "version_minor": 0
      },
      "text/plain": [
       "notthefallintact: caching RDMs:   0%|          | 0/1 [00:00<?, ?it/s]"
      ]
     },
     "metadata": {},
     "output_type": "display_data"
    },
    {
     "data": {
      "application/vnd.jupyter.widget-view+json": {
       "model_id": "06832c50cdc54eeca7afa70b4e9b8aa1",
       "version_major": 2,
       "version_minor": 0
      },
      "text/plain": [
       "notthefallintact: caching RDMs:   0%|          | 0/1 [00:00<?, ?it/s]"
      ]
     },
     "metadata": {},
     "output_type": "display_data"
    },
    {
     "data": {
      "application/vnd.jupyter.widget-view+json": {
       "model_id": "a1eb8171f0d8416fbdb397b9f0d1d1df",
       "version_major": 2,
       "version_minor": 0
      },
      "text/plain": [
       "notthefallintact: caching RDMs:   0%|          | 0/1 [00:00<?, ?it/s]"
      ]
     },
     "metadata": {},
     "output_type": "display_data"
    },
    {
     "data": {
      "application/vnd.jupyter.widget-view+json": {
       "model_id": "82b94dab8eb841baad8bc7970a8e700b",
       "version_major": 2,
       "version_minor": 0
      },
      "text/plain": [
       "notthefallintact: caching RDMs:   0%|          | 0/1 [00:00<?, ?it/s]"
      ]
     },
     "metadata": {},
     "output_type": "display_data"
    },
    {
     "data": {
      "application/vnd.jupyter.widget-view+json": {
       "model_id": "1a965336ea4f461f8f4c6dae4537cb6b",
       "version_major": 2,
       "version_minor": 0
      },
      "text/plain": [
       "notthefallintact: caching RDMs:   0%|          | 0/1 [00:00<?, ?it/s]"
      ]
     },
     "metadata": {},
     "output_type": "display_data"
    },
    {
     "data": {
      "application/vnd.jupyter.widget-view+json": {
       "model_id": "cb5982a13942477096e91e6ec3166c40",
       "version_major": 2,
       "version_minor": 0
      },
      "text/plain": [
       "notthefallintact: caching RDMs:   0%|          | 0/1 [00:00<?, ?it/s]"
      ]
     },
     "metadata": {},
     "output_type": "display_data"
    },
    {
     "data": {
      "application/vnd.jupyter.widget-view+json": {
       "model_id": "305313b5d1844452b834d25b972439eb",
       "version_major": 2,
       "version_minor": 0
      },
      "text/plain": [
       "notthefallintact: caching RDMs:   0%|          | 0/1 [00:00<?, ?it/s]"
      ]
     },
     "metadata": {},
     "output_type": "display_data"
    },
    {
     "data": {
      "application/vnd.jupyter.widget-view+json": {
       "model_id": "01bfc7e1211041cc9b23cebb0b5a8a97",
       "version_major": 2,
       "version_minor": 0
      },
      "text/plain": [
       "notthefallintact: caching RDMs:   0%|          | 0/1 [00:00<?, ?it/s]"
      ]
     },
     "metadata": {},
     "output_type": "display_data"
    },
    {
     "data": {
      "application/vnd.jupyter.widget-view+json": {
       "model_id": "13e540e2aecf43aba3ea1c437f882d33",
       "version_major": 2,
       "version_minor": 0
      },
      "text/plain": [
       "notthefallintact: caching RDMs:   0%|          | 0/1 [00:00<?, ?it/s]"
      ]
     },
     "metadata": {},
     "output_type": "display_data"
    },
    {
     "data": {
      "application/vnd.jupyter.widget-view+json": {
       "model_id": "2242d61e001345cdac405b66af3f98a4",
       "version_major": 2,
       "version_minor": 0
      },
      "text/plain": [
       "notthefallintact: caching RDMs:   0%|          | 0/1 [00:00<?, ?it/s]"
      ]
     },
     "metadata": {},
     "output_type": "display_data"
    },
    {
     "data": {
      "application/vnd.jupyter.widget-view+json": {
       "model_id": "b3aaceb3d6c54ce6845e31b1a6c9739b",
       "version_major": 2,
       "version_minor": 0
      },
      "text/plain": [
       "notthefallintact: caching RDMs:   0%|          | 0/1 [00:00<?, ?it/s]"
      ]
     },
     "metadata": {},
     "output_type": "display_data"
    },
    {
     "data": {
      "application/vnd.jupyter.widget-view+json": {
       "model_id": "b2d009ebfcea4662ac02745e8b28355a",
       "version_major": 2,
       "version_minor": 0
      },
      "text/plain": [
       "notthefallintact: caching RDMs:   0%|          | 0/1 [00:00<?, ?it/s]"
      ]
     },
     "metadata": {},
     "output_type": "display_data"
    },
    {
     "data": {
      "application/vnd.jupyter.widget-view+json": {
       "model_id": "d1c1360d42904175a12f2235c19ca00a",
       "version_major": 2,
       "version_minor": 0
      },
      "text/plain": [
       "notthefallintact: caching RDMs:   0%|          | 0/1 [00:00<?, ?it/s]"
      ]
     },
     "metadata": {},
     "output_type": "display_data"
    },
    {
     "data": {
      "application/vnd.jupyter.widget-view+json": {
       "model_id": "d6c83ea1089d474aadd9c0ca5932f199",
       "version_major": 2,
       "version_minor": 0
      },
      "text/plain": [
       "notthefallintact: caching RDMs:   0%|          | 0/1 [00:00<?, ?it/s]"
      ]
     },
     "metadata": {},
     "output_type": "display_data"
    },
    {
     "data": {
      "application/vnd.jupyter.widget-view+json": {
       "model_id": "dbaae0fcb3554b76ab57d67fdc87459e",
       "version_major": 2,
       "version_minor": 0
      },
      "text/plain": [
       "notthefallintact: caching RDMs:   0%|          | 0/1 [00:00<?, ?it/s]"
      ]
     },
     "metadata": {},
     "output_type": "display_data"
    },
    {
     "data": {
      "application/vnd.jupyter.widget-view+json": {
       "model_id": "a1a44ac763fc490ebc550cc41e768f36",
       "version_major": 2,
       "version_minor": 0
      },
      "text/plain": [
       "notthefallintact: caching RDMs:   0%|          | 0/1 [00:00<?, ?it/s]"
      ]
     },
     "metadata": {},
     "output_type": "display_data"
    },
    {
     "data": {
      "application/vnd.jupyter.widget-view+json": {
       "model_id": "5d8346d0c1964fea8009e9a419eaa25c",
       "version_major": 2,
       "version_minor": 0
      },
      "text/plain": [
       "notthefallintact: caching RDMs:   0%|          | 0/1 [00:00<?, ?it/s]"
      ]
     },
     "metadata": {},
     "output_type": "display_data"
    },
    {
     "data": {
      "application/vnd.jupyter.widget-view+json": {
       "model_id": "43eeaaff7fd54ad9a9f98a1732524616",
       "version_major": 2,
       "version_minor": 0
      },
      "text/plain": [
       "notthefallintact: caching RDMs:   0%|          | 0/1 [00:00<?, ?it/s]"
      ]
     },
     "metadata": {},
     "output_type": "display_data"
    },
    {
     "data": {
      "application/vnd.jupyter.widget-view+json": {
       "model_id": "45b7f31a1b774d268544e5238bb1a0df",
       "version_major": 2,
       "version_minor": 0
      },
      "text/plain": [
       "notthefallintact: caching RDMs:   0%|          | 0/1 [00:00<?, ?it/s]"
      ]
     },
     "metadata": {},
     "output_type": "display_data"
    },
    {
     "data": {
      "application/vnd.jupyter.widget-view+json": {
       "model_id": "7c93259947fd47d0aa6b751d63879326",
       "version_major": 2,
       "version_minor": 0
      },
      "text/plain": [
       "notthefallintact: caching RDMs:   0%|          | 0/1 [00:00<?, ?it/s]"
      ]
     },
     "metadata": {},
     "output_type": "display_data"
    },
    {
     "data": {
      "application/vnd.jupyter.widget-view+json": {
       "model_id": "02453eb3fae549f0825789ef7d6c4451",
       "version_major": 2,
       "version_minor": 0
      },
      "text/plain": [
       "notthefallintact: caching RDMs:   0%|          | 0/1 [00:00<?, ?it/s]"
      ]
     },
     "metadata": {},
     "output_type": "display_data"
    },
    {
     "data": {
      "application/vnd.jupyter.widget-view+json": {
       "model_id": "84638984164b453087a39f8c76ea1d7f",
       "version_major": 2,
       "version_minor": 0
      },
      "text/plain": [
       "notthefallintact: caching RDMs:   0%|          | 0/1 [00:00<?, ?it/s]"
      ]
     },
     "metadata": {},
     "output_type": "display_data"
    },
    {
     "data": {
      "application/vnd.jupyter.widget-view+json": {
       "model_id": "890574e8d19b461fa230ba8411e25856",
       "version_major": 2,
       "version_minor": 0
      },
      "text/plain": [
       "notthefallintact: caching RDMs:   0%|          | 0/1 [00:00<?, ?it/s]"
      ]
     },
     "metadata": {},
     "output_type": "display_data"
    },
    {
     "data": {
      "application/vnd.jupyter.widget-view+json": {
       "model_id": "04b713d77ab04c3599999ef621063492",
       "version_major": 2,
       "version_minor": 0
      },
      "text/plain": [
       "notthefallintact: caching RDMs:   0%|          | 0/1 [00:00<?, ?it/s]"
      ]
     },
     "metadata": {},
     "output_type": "display_data"
    },
    {
     "data": {
      "application/vnd.jupyter.widget-view+json": {
       "model_id": "8581ec6bda6b4cae9a61d2a360c53b83",
       "version_major": 2,
       "version_minor": 0
      },
      "text/plain": [
       "notthefallintact: caching RDMs:   0%|          | 0/1 [00:00<?, ?it/s]"
      ]
     },
     "metadata": {},
     "output_type": "display_data"
    },
    {
     "data": {
      "application/vnd.jupyter.widget-view+json": {
       "model_id": "34fad5a43b9d4f4cae8d9800449e1895",
       "version_major": 2,
       "version_minor": 0
      },
      "text/plain": [
       "notthefallintact: caching RDMs:   0%|          | 0/1 [00:00<?, ?it/s]"
      ]
     },
     "metadata": {},
     "output_type": "display_data"
    },
    {
     "data": {
      "application/vnd.jupyter.widget-view+json": {
       "model_id": "824f705538a445e4bc613136270331ba",
       "version_major": 2,
       "version_minor": 0
      },
      "text/plain": [
       "notthefallintact: caching RDMs:   0%|          | 0/1 [00:00<?, ?it/s]"
      ]
     },
     "metadata": {},
     "output_type": "display_data"
    },
    {
     "data": {
      "application/vnd.jupyter.widget-view+json": {
       "model_id": "1de7d87d5842471da086f7bca4999abe",
       "version_major": 2,
       "version_minor": 0
      },
      "text/plain": [
       "notthefallintact: caching RDMs:   0%|          | 0/1 [00:00<?, ?it/s]"
      ]
     },
     "metadata": {},
     "output_type": "display_data"
    },
    {
     "data": {
      "application/vnd.jupyter.widget-view+json": {
       "model_id": "f607acee50554d9fb50585e6ffbc0105",
       "version_major": 2,
       "version_minor": 0
      },
      "text/plain": [
       "notthefallintact: caching RDMs:   0%|          | 0/1 [00:00<?, ?it/s]"
      ]
     },
     "metadata": {},
     "output_type": "display_data"
    },
    {
     "data": {
      "application/vnd.jupyter.widget-view+json": {
       "model_id": "a57c14b63e664b03a209a7e778653647",
       "version_major": 2,
       "version_minor": 0
      },
      "text/plain": [
       "notthefallintact: caching RDMs:   0%|          | 0/1 [00:00<?, ?it/s]"
      ]
     },
     "metadata": {},
     "output_type": "display_data"
    },
    {
     "data": {
      "application/vnd.jupyter.widget-view+json": {
       "model_id": "e0753d2e036c4e07ac214e3bd319de9a",
       "version_major": 2,
       "version_minor": 0
      },
      "text/plain": [
       "notthefallintact: caching RDMs:   0%|          | 0/1 [00:00<?, ?it/s]"
      ]
     },
     "metadata": {},
     "output_type": "display_data"
    },
    {
     "data": {
      "application/vnd.jupyter.widget-view+json": {
       "model_id": "f67c78a41d23418496663db7ef7182f3",
       "version_major": 2,
       "version_minor": 0
      },
      "text/plain": [
       "notthefallintact: caching RDMs:   0%|          | 0/1 [00:00<?, ?it/s]"
      ]
     },
     "metadata": {},
     "output_type": "display_data"
    },
    {
     "data": {
      "application/vnd.jupyter.widget-view+json": {
       "model_id": "8a6a5e851e704f4589f6ca9a6da74cf2",
       "version_major": 2,
       "version_minor": 0
      },
      "text/plain": [
       "notthefallintact: caching RDMs:   0%|          | 0/1 [00:00<?, ?it/s]"
      ]
     },
     "metadata": {},
     "output_type": "display_data"
    },
    {
     "data": {
      "application/vnd.jupyter.widget-view+json": {
       "model_id": "7f0468bc7acd40389b209378e453b29e",
       "version_major": 2,
       "version_minor": 0
      },
      "text/plain": [
       "notthefallintact: caching RDMs:   0%|          | 0/1 [00:00<?, ?it/s]"
      ]
     },
     "metadata": {},
     "output_type": "display_data"
    },
    {
     "data": {
      "application/vnd.jupyter.widget-view+json": {
       "model_id": "c1a67361e30a41f9ab9cf51509bbc44b",
       "version_major": 2,
       "version_minor": 0
      },
      "text/plain": [
       "notthefallintact: caching RDMs:   0%|          | 0/1 [00:00<?, ?it/s]"
      ]
     },
     "metadata": {},
     "output_type": "display_data"
    },
    {
     "data": {
      "application/vnd.jupyter.widget-view+json": {
       "model_id": "99e0fb747bf4428281955e22a75cea80",
       "version_major": 2,
       "version_minor": 0
      },
      "text/plain": [
       "notthefallintact: caching RDMs:   0%|          | 0/1 [00:00<?, ?it/s]"
      ]
     },
     "metadata": {},
     "output_type": "display_data"
    },
    {
     "data": {
      "application/vnd.jupyter.widget-view+json": {
       "model_id": "f6a648ac095e47268cc81e417585b7a1",
       "version_major": 2,
       "version_minor": 0
      },
      "text/plain": [
       "notthefallintact: caching RDMs:   0%|          | 0/1 [00:00<?, ?it/s]"
      ]
     },
     "metadata": {},
     "output_type": "display_data"
    },
    {
     "data": {
      "application/vnd.jupyter.widget-view+json": {
       "model_id": "6501c7a30db448e2adff1ed14a43c1ad",
       "version_major": 2,
       "version_minor": 0
      },
      "text/plain": [
       "notthefallintact: caching RDMs:   0%|          | 0/1 [00:00<?, ?it/s]"
      ]
     },
     "metadata": {},
     "output_type": "display_data"
    },
    {
     "data": {
      "application/vnd.jupyter.widget-view+json": {
       "model_id": "09ebec2d649d4f329bb4475ac473daa3",
       "version_major": 2,
       "version_minor": 0
      },
      "text/plain": [
       "notthefallintact: caching RDMs:   0%|          | 0/1 [00:00<?, ?it/s]"
      ]
     },
     "metadata": {},
     "output_type": "display_data"
    },
    {
     "data": {
      "application/vnd.jupyter.widget-view+json": {
       "model_id": "a6331099273c41b482731c108396c87a",
       "version_major": 2,
       "version_minor": 0
      },
      "text/plain": [
       "notthefallintact: caching RDMs:   0%|          | 0/1 [00:00<?, ?it/s]"
      ]
     },
     "metadata": {},
     "output_type": "display_data"
    },
    {
     "data": {
      "application/vnd.jupyter.widget-view+json": {
       "model_id": "7efb9d66560a474f842c6295ac042515",
       "version_major": 2,
       "version_minor": 0
      },
      "text/plain": [
       "notthefallintact: caching RDMs:   0%|          | 0/1 [00:00<?, ?it/s]"
      ]
     },
     "metadata": {},
     "output_type": "display_data"
    },
    {
     "data": {
      "application/vnd.jupyter.widget-view+json": {
       "model_id": "cc09aa666d5c4bc7b1656a06da215507",
       "version_major": 2,
       "version_minor": 0
      },
      "text/plain": [
       "notthefallintact: caching RDMs:   0%|          | 0/1 [00:00<?, ?it/s]"
      ]
     },
     "metadata": {},
     "output_type": "display_data"
    },
    {
     "data": {
      "application/vnd.jupyter.widget-view+json": {
       "model_id": "94f696ea77ad4be898404ca2494435ae",
       "version_major": 2,
       "version_minor": 0
      },
      "text/plain": [
       "notthefallintact: caching RDMs:   0%|          | 0/1 [00:00<?, ?it/s]"
      ]
     },
     "metadata": {},
     "output_type": "display_data"
    },
    {
     "data": {
      "application/vnd.jupyter.widget-view+json": {
       "model_id": "5341043d534d4f10b52f33a5543d110d",
       "version_major": 2,
       "version_minor": 0
      },
      "text/plain": [
       "notthefallintact: caching RDMs:   0%|          | 0/1 [00:00<?, ?it/s]"
      ]
     },
     "metadata": {},
     "output_type": "display_data"
    },
    {
     "data": {
      "application/vnd.jupyter.widget-view+json": {
       "model_id": "f4444caa34f74376a739213724552774",
       "version_major": 2,
       "version_minor": 0
      },
      "text/plain": [
       "notthefallintact: caching RDMs:   0%|          | 0/1 [00:00<?, ?it/s]"
      ]
     },
     "metadata": {},
     "output_type": "display_data"
    },
    {
     "data": {
      "application/vnd.jupyter.widget-view+json": {
       "model_id": "1ef2d49ea156459a93f30b647077bd1d",
       "version_major": 2,
       "version_minor": 0
      },
      "text/plain": [
       "notthefallintact: caching RDMs:   0%|          | 0/1 [00:00<?, ?it/s]"
      ]
     },
     "metadata": {},
     "output_type": "display_data"
    },
    {
     "data": {
      "application/vnd.jupyter.widget-view+json": {
       "model_id": "b77230cc7ad84f5baa4c7fb481a8ff04",
       "version_major": 2,
       "version_minor": 0
      },
      "text/plain": [
       "notthefallintact: caching RDMs:   0%|          | 0/1 [00:00<?, ?it/s]"
      ]
     },
     "metadata": {},
     "output_type": "display_data"
    },
    {
     "data": {
      "application/vnd.jupyter.widget-view+json": {
       "model_id": "a388578247ad4b3baaf1595b63c1c144",
       "version_major": 2,
       "version_minor": 0
      },
      "text/plain": [
       "notthefallintact: caching RDMs:   0%|          | 0/1 [00:00<?, ?it/s]"
      ]
     },
     "metadata": {},
     "output_type": "display_data"
    },
    {
     "data": {
      "application/vnd.jupyter.widget-view+json": {
       "model_id": "398e052e99b041f6a141824a338b11fd",
       "version_major": 2,
       "version_minor": 0
      },
      "text/plain": [
       "notthefallintact: caching RDMs:   0%|          | 0/1 [00:00<?, ?it/s]"
      ]
     },
     "metadata": {},
     "output_type": "display_data"
    },
    {
     "data": {
      "application/vnd.jupyter.widget-view+json": {
       "model_id": "650e0a2e2ca64a70ad0fe5eacd7fd3bb",
       "version_major": 2,
       "version_minor": 0
      },
      "text/plain": [
       "notthefallintact: caching RDMs:   0%|          | 0/1 [00:00<?, ?it/s]"
      ]
     },
     "metadata": {},
     "output_type": "display_data"
    },
    {
     "data": {
      "application/vnd.jupyter.widget-view+json": {
       "model_id": "8766459f8a2f4eb3a4387c73ec55207e",
       "version_major": 2,
       "version_minor": 0
      },
      "text/plain": [
       "notthefallintact: caching RDMs:   0%|          | 0/1 [00:00<?, ?it/s]"
      ]
     },
     "metadata": {},
     "output_type": "display_data"
    },
    {
     "data": {
      "application/vnd.jupyter.widget-view+json": {
       "model_id": "952f9aed79414481b31b3a34ebc30a8c",
       "version_major": 2,
       "version_minor": 0
      },
      "text/plain": [
       "notthefallintact: caching RDMs:   0%|          | 0/1 [00:00<?, ?it/s]"
      ]
     },
     "metadata": {},
     "output_type": "display_data"
    },
    {
     "name": "stdout",
     "output_type": "stream",
     "text": [
      "cached RDMs → 51000\n"
     ]
    },
    {
     "data": {
      "application/vnd.jupyter.widget-view+json": {
       "model_id": "c0d315e4638841c3885effcfcaf38bfa",
       "version_major": 2,
       "version_minor": 0
      },
      "text/plain": [
       "permutations:   0%|          | 0/100 [00:00<?, ?it/s]"
      ]
     },
     "metadata": {},
     "output_type": "display_data"
    },
    {
     "name": "stdout",
     "output_type": "stream",
     "text": [
      "CSV → /Volumes/Passport/fmriprep/derivatives/RSA_stats/ALL_STIMS/perm_test_neural_shift/ALLSTIMS_perm_test_personality_5_allks_no_smoothing.csv\n"
     ]
    }
   ],
   "source": [
    "\n",
    "# %% ─────────────────────────────────────────────\n",
    "# 1) Gather all subject-level CSVs across stories\n",
    "# ------------------------------------------------\n",
    "df_list = []\n",
    "for stim in STIMS:\n",
    "    csvs = glob.glob(str(\n",
    "        deriv_dir / \"RSA_stats\" / stim / \"multi_regression\" / \"subject_results\" /\n",
    "        f\"*_{stim}_multi_parcel_RSA_NNLS_{model_key}{smoothing_setting}.csv\"\n",
    "    ))\n",
    "    \n",
    "    # ── single-line hard checks ────────────────────────────────\n",
    "    assert stim in EXPECTED_CSV_COUNTS, f\"No expected count set for '{stim}'\"\n",
    "    assert len(csvs) == EXPECTED_CSV_COUNTS[stim], \\\n",
    "           f\"[{stim}] expected {EXPECTED_CSV_COUNTS[stim]} CSVs, found {len(csvs)}\"\n",
    "\n",
    "    for fn in csvs:\n",
    "        df = pd.read_csv(fn)\n",
    "        df[\"stim\"]    = stim\n",
    "        df[\"subject\"] = df[\"subject\"] + \"_\" + stim            # unique ID\n",
    "        df[\"unit\"]    = df[\"subject\"] + \"_\" + df[\"run\"].astype(str)\n",
    "        df_list.append(df)\n",
    "\n",
    "all_df = pd.concat(df_list, ignore_index=True)\n",
    "print(\"pooled CSV shape →\", all_df.shape)\n",
    "\n",
    "# %% ─────────────────────────────────────────────\n",
    "# 2) Pre-cache neural RDMs for ALL stims\n",
    "# ------------------------------------------------\n",
    "n_rois = 200\n",
    "schaefer = datasets.fetch_atlas_schaefer_2018(\n",
    "              n_rois=n_rois, yeo_networks=17, resolution_mm=2)\n",
    "atlas_raw = nib.load(schaefer[\"maps\"])\n",
    "labels    = np.insert(\n",
    "               [l.replace(b\"17Networks_\", b\"\").decode(\"utf-8\")\n",
    "                for l in schaefer[\"labels\"]],\n",
    "               0, \"Background\")\n",
    "\n",
    "neural_cache = {}\n",
    "atlas_img    = None      # will become atlas resampled to first BOLD size\n",
    "\n",
    "for stim in STIMS:\n",
    "    cleaned_root = deriv_dir / f\"{stim}_cleaned\"\n",
    "    subs = sorted(\n",
    "    s for s in os.listdir(cleaned_root) if s.startswith(\"sub-\")\n",
    ")\n",
    "    for sub in subs:\n",
    "        func = cleaned_root / sub / \"func\"\n",
    "        bolds = glob.glob(str(func / f\"{sub}_task-{stim}_run-*_*cleaned*.nii.gz\"))\n",
    "        bolds += glob.glob(str(func / f\"{sub}_task-{stim}_cleaned_desc-masked_bold.nii.gz\"))\n",
    "\n",
    "        for bf in tqdm(bolds, desc=f\"{stim}: caching RDMs\", leave=False):\n",
    "            run = re.search(r\"_run-(\\d+)_\", os.path.basename(bf))\n",
    "            run = run.group(1) if run else \"NA\"\n",
    "            sub_id = f\"{sub}_{stim}\"\n",
    "\n",
    "            img = nib.load(bf)\n",
    "        \n",
    "            # ── resample Schaefer atlas to this BOLD image every time ──\n",
    "            atlas_res = image.resample_to_img(atlas_raw, img, interpolation=\"nearest\")\n",
    "            atlas_dat = atlas_res.get_fdata().astype(int)\n",
    "\n",
    "        # keep the first resampled atlas so we can write NIfTI outputs later\n",
    "            if atlas_img is None:\n",
    "                atlas_img = atlas_res\n",
    "            \n",
    "            bold_dat  = img.get_fdata()\n",
    "\n",
    "            for pid in range(1, n_rois + 1):\n",
    "                mask = atlas_dat == pid\n",
    "                if not mask.any():\n",
    "                    continue\n",
    "                rdm = 1.0 - np.corrcoef(bold_dat[mask, :].T)\n",
    "                neural_cache[(sub_id, run, pid)] = rdm.astype(np.float32)\n",
    "\n",
    "print(\"cached RDMs →\", len(neural_cache))\n",
    "\n",
    "# %% ─────────────────────────────────────────────\n",
    "# 3) Load ALL behaviour RDMs once\n",
    "# ------------------------------------------------\n",
    "behav_rdms = {}\n",
    "for stim in STIMS:\n",
    "    for trait, save in zip(traits, TRAIT_SAVE):\n",
    "        behav_rdms[(stim, trait)] = np.load(\n",
    "            deriv_dir / \"RDMs_behavior\" /\n",
    "            f\"{stim}_{save}_RDM{smoothing_setting}.npy\"\n",
    "        )\n",
    "\n",
    "# helper\n",
    "vec_idx = np.tril_indices(behav_rdms[(STIMS[0], traits[0])].shape[0], k=-1)\n",
    "def vec(mat): return mat[vec_idx]\n",
    "\n",
    "# %% ─────────────────────────────────────────────\n",
    "# 4) Compute observed sₖ per parcel\n",
    "# ------------------------------------------------\n",
    "trait_cols = TRAIT_SAVE\n",
    "for k in range(1, len(trait_cols)+1):\n",
    "    all_df[f\"s{k}\"] = (np.sort(all_df[trait_cols].values, 1)[:, ::-1][:, :k].sum(1))\n",
    "observed = {k : all_df.groupby(\"parcel_num\")[f\"s{k}\"].mean()\n",
    "            for k in range(1, len(trait_cols)+1)}\n",
    "\n",
    "# %% ─────────────────────────────────────────────\n",
    "# 5) Build null distributions by permutation\n",
    "# ------------------------------------------------\n",
    "parcel_ids = list(observed[1].index)\n",
    "nulls = {k:{pid:[] for pid in parcel_ids}\n",
    "         for k in range(1, len(trait_cols)+1)}\n",
    "\n",
    "for p in tqdm(range(n_perm), desc=\"permutations\"):\n",
    "    sums   = {k:np.zeros(len(parcel_ids)) for k in nulls}\n",
    "    counts = {k:np.zeros(len(parcel_ids), int) for k in nulls}\n",
    "    for key in sorted(neural_cache.keys()):          \n",
    "        sub, run, pid = key\n",
    "        nrdm = neural_cache[key]\n",
    "        stim = sub.split(\"_\")[-1]                 # get story label back\n",
    "        shift = np.random.randint(shift_window, 160-shift_window)\n",
    "        nrdm  = np.roll(np.roll(nrdm, shift, 0), shift, 1)\n",
    "\n",
    "        X = np.column_stack([np.ones_like(vec(nrdm))] + [\n",
    "                vec(behav_rdms[(stim, t)]) for t in traits])\n",
    "        betas,_ = nnls(X, vec(nrdm))\n",
    "        top = np.sort(betas[1:])[::-1]\n",
    "\n",
    "        for k in nulls:\n",
    "            s = top[:k].sum()\n",
    "            sums[k][pid-1]   += s\n",
    "            counts[k][pid-1] += 1\n",
    "    for k in nulls:\n",
    "        for i,pid in enumerate(parcel_ids):\n",
    "            nulls[k][pid].append( sums[k][i] / counts[k][i] )\n",
    "\n",
    "# %% ─────────────────────────────────────────────\n",
    "# 6) p-values, save CSV + NIfTI maps (k=1 shown)\n",
    "# ------------------------------------------------\n",
    "rows = []\n",
    "for k in nulls:\n",
    "    for pid in parcel_ids:\n",
    "        obs = observed[k][pid]\n",
    "        dist = np.asarray(nulls[k][pid])\n",
    "        p = ((dist >= obs).sum() + 1) / (n_perm + 1)\n",
    "        rows.append((k,pid,obs,p,p<0.05))\n",
    "\n",
    "df_perm = pd.DataFrame(rows, columns=[\n",
    "            \"k\",\"parcel_num\",\"observed_s\",\"p_value\",\"sig_p05\"])\n",
    "df_perm[\"parcel_label\"] = df_perm[\"parcel_num\"].map(\n",
    "            {i:l for i,l in enumerate(labels)})\n",
    "\n",
    "out_dir = deriv_dir / \"RSA_stats\" / \"ALL_STIMS\" / \"perm_test_neural_shift\"\n",
    "out_dir.mkdir(parents=True, exist_ok=True)\n",
    "csv_path = out_dir / f\"ALLSTIMS_perm_test_{model_key}_allks{smoothing_setting}.csv\"\n",
    "df_perm.to_csv(csv_path, index=False)\n",
    "print(\"CSV →\", csv_path)\n",
    "\n"
   ]
  },
  {
   "cell_type": "code",
   "execution_count": 29,
   "metadata": {},
   "outputs": [
    {
     "name": "stdout",
     "output_type": "stream",
     "text": [
      "✅ NIfTI maps saved to /Volumes/Passport/fmriprep/derivatives/RSA_stats/ALL_STIMS/perm_test_neural_shift\n"
     ]
    }
   ],
   "source": [
    "# ---- build p/s NIfTI for k = 1 -----------------------------------------\n",
    "df_k1 = df_perm[df_perm.k == 1]\n",
    "atlas_dat = atlas_img.get_fdata().astype(int)\n",
    "shape = atlas_dat.shape\n",
    "\n",
    "p_map  = np.zeros(shape,float); p_thr = np.full(shape,np.nan,float)\n",
    "s_map  = np.zeros(shape,float); s_thr = np.zeros(shape,float)\n",
    "\n",
    "for _,r in df_k1.iterrows():\n",
    "    pid = int(r.parcel_num)\n",
    "    p,s = r.p_value, r.observed_s\n",
    "    p_map[atlas_dat==pid] = p\n",
    "    s_map[atlas_dat==pid] = s\n",
    "    if p<0.05:\n",
    "        p_thr[atlas_dat==pid] = p\n",
    "        s_thr[atlas_dat==pid] = s\n",
    "\n",
    "def save(img, name): nib.save(img, out_dir/name)\n",
    "\n",
    "save(nib.Nifti1Image(p_map,  atlas_img.affine, atlas_img.header),\n",
    "     f\"ALLSTIMS_perm_pmap_{model_key}_k1{smoothing_setting}.nii.gz\")\n",
    "save(nib.Nifti1Image(p_thr,  atlas_img.affine, atlas_img.header),\n",
    "     f\"ALLSTIMS_perm_pmap_{model_key}_k1_thresh05{smoothing_setting}.nii.gz\")\n",
    "save(nib.Nifti1Image(s_map,  atlas_img.affine, atlas_img.header),\n",
    "     f\"ALLSTIMS_perm_smap_{model_key}_k1{smoothing_setting}.nii.gz\")\n",
    "save(nib.Nifti1Image(s_thr,  atlas_img.affine, atlas_img.header),\n",
    "     f\"ALLSTIMS_perm_smap_{model_key}_k1_thresh05{smoothing_setting}.nii.gz\")\n",
    "\n",
    "print(\"✅ NIfTI maps saved to\", out_dir)"
   ]
  }
 ],
 "metadata": {
  "kernelspec": {
   "display_name": "base",
   "language": "python",
   "name": "python3"
  },
  "language_info": {
   "codemirror_mode": {
    "name": "ipython",
    "version": 3
   },
   "file_extension": ".py",
   "mimetype": "text/x-python",
   "name": "python",
   "nbconvert_exporter": "python",
   "pygments_lexer": "ipython3",
   "version": "3.12.9"
  }
 },
 "nbformat": 4,
 "nbformat_minor": 2
}

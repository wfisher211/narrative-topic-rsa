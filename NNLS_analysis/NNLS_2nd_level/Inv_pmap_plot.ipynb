{
 "cells": [
  {
   "cell_type": "code",
   "execution_count": 1,
   "metadata": {},
   "outputs": [],
   "source": [
    "from nilearn.plotting import plot_img_on_surf\n",
    "from nilearn import surface, datasets, image\n",
    "import nibabel as nib\n",
    "import numpy as np\n",
    "from pathlib import Path\n",
    "import matplotlib.pyplot as plt\n",
    "from nilearn.image import resample_to_img\n",
    "import os, glob"
   ]
  },
  {
   "cell_type": "code",
   "execution_count": 2,
   "metadata": {},
   "outputs": [],
   "source": [
    "# ─── adjust if you changed any names  ─────────────────────────────\n",
    "stim_label = \"notthefallintact\"\n",
    "\n",
    "base = Path(\"/Volumes/Passport/fmriprep/derivatives\")\n",
    "perm_dir = base / \"RSA_stats\" / stim_label / \"perm_test_neural_shift\"\n",
    "model_key   = \"trait_9\"                    # Choose model key (mental_8, personality_5, all_13, trait_9)\n",
    "smoothing_setting     = \"_no_smoothing\"              # set smoothing to _no_smoothing or \"\"\n",
    "template = datasets.load_mni152_template()    \n",
    "out_dir     = perm_dir / \"figs\";  out_dir.mkdir(exist_ok=True)\n",
    "\n",
    "p_img_path  = perm_dir / f\"{stim_label}_perm_pmap_{model_key}_k1{smoothing_setting}.nii.gz\"\n",
    "\n"
   ]
  },
  {
   "cell_type": "code",
   "execution_count": null,
   "metadata": {},
   "outputs": [],
   "source": [
    "# 1) load volume & fetch fsaverage5 (≈10 k vertices) ─────────────\n",
    "p_img_unthresholded  = nib.load(p_img_path)\n",
    "fsavg  = datasets.fetch_surf_fsaverage(mesh=\"fsaverage5\")\n",
    "\n",
    "# helper ─ convert a volume → surface texture for both hems\n",
    "def vol_to_surf_pair(img):\n",
    "    tex_l = surface.vol_to_surf(img, fsavg.pial_left,  radius=3.)\n",
    "    tex_r = surface.vol_to_surf(img, fsavg.pial_right, radius=3.)\n",
    "    return tex_l, tex_r\n"
   ]
  },
  {
   "cell_type": "code",
   "execution_count": 4,
   "metadata": {},
   "outputs": [],
   "source": [
    "# --- load & resample Schaefer atlas to match p_img space ----------\n",
    "schaefer   = datasets.fetch_atlas_schaefer_2018(\n",
    "                 n_rois=200, yeo_networks=17,\n",
    "                 resolution_mm=2\n",
    "             )\n",
    "atlas_img  = nib.load(schaefer[\"maps\"])\n",
    "atlas_res  = image.resample_to_img(\n",
    "                 atlas_img, p_img, interpolation=\"nearest\"\n",
    "             )\n",
    "atlas_data = atlas_res.get_fdata().astype(int)"
   ]
  },
  {
   "cell_type": "code",
   "execution_count": 5,
   "metadata": {},
   "outputs": [],
   "source": [
    "import numpy as np\n",
    "import matplotlib.pyplot as plt\n",
    "\n",
    "def fix_colorbar_ticks(fig_or_tuple, lo, hi, n=6, fmt=\"{:.2f}\"):\n",
    "    \"\"\"\n",
    "    Force evenly spaced ticks on the colour-bar of a figure produced by\n",
    "    plot_img_on_surf, regardless of nilearn version.\n",
    "\n",
    "    Parameters\n",
    "    ----------\n",
    "    fig_or_tuple : Figure | (Figure, ...)\n",
    "        Whatever plot_img_on_surf returned (figure alone or tuple).\n",
    "    lo, hi       : float\n",
    "        Lower and upper limits used for vmin / vmax.\n",
    "    n            : int\n",
    "        Number of ticks (default 6).\n",
    "    fmt          : str\n",
    "        Format string for tick labels (e.g., \"{:.02f}\").\n",
    "    \"\"\"\n",
    "    # ----------------------------------------------------------\n",
    "    # 1) get the Figure object\n",
    "    # ----------------------------------------------------------\n",
    "    if isinstance(fig_or_tuple, tuple):\n",
    "        fig = fig_or_tuple[0]     # first item is always the Figure\n",
    "    else:\n",
    "        fig = fig_or_tuple\n",
    "\n",
    "    # ----------------------------------------------------------\n",
    "    # 2) colour-bar axis is always the last one added\n",
    "    # ----------------------------------------------------------\n",
    "    cbar_ax = fig.axes[-1]\n",
    "\n",
    "    # ----------------------------------------------------------\n",
    "    # 3) apply ticks / labels\n",
    "    # ----------------------------------------------------------\n",
    "    ticks = np.linspace(lo, hi, n)\n",
    "    labels = [fmt.format(t) for t in ticks]\n",
    "\n",
    "    if cbar_ax.xaxis.get_visible():          # horizontal colour-bar\n",
    "        cbar_ax.set_xticks(ticks)\n",
    "        cbar_ax.set_xticklabels(labels)\n",
    "    else:                                    # vertical colour-bar\n",
    "        cbar_ax.set_yticks(ticks)\n",
    "        cbar_ax.set_yticklabels(labels)"
   ]
  },
  {
   "cell_type": "code",
   "execution_count": null,
   "metadata": {},
   "outputs": [
    {
     "name": "stdout",
     "output_type": "stream",
     "text": [
      "✅  Corrected 1–p NIfTI written → /Volumes/Passport/fmriprep/derivatives/RSA_stats/notthefallintact/perm_test_neural_shift/figs/notthefallintact_inv_pmap_trait_9_neural_shift_unthresholded.nii.gz\n"
     ]
    },
    {
     "name": "stderr",
     "output_type": "stream",
     "text": [
      "/opt/anaconda3/lib/python3.12/site-packages/nilearn/surface/surface.py:464: RuntimeWarning: Mean of empty slice\n",
      "  texture = np.nanmean(all_samples, axis=2)\n",
      "/opt/anaconda3/lib/python3.12/site-packages/nilearn/surface/surface.py:464: RuntimeWarning: Mean of empty slice\n",
      "  texture = np.nanmean(all_samples, axis=2)\n"
     ]
    },
    {
     "name": "stdout",
     "output_type": "stream",
     "text": [
      "✅  Figure written → /Volumes/Passport/fmriprep/derivatives/RSA_stats/notthefallintact/perm_test_neural_shift/figs/notthefallintact_inv_pmap_trait_9_neural_shift_unthresholded.png\n"
     ]
    }
   ],
   "source": [
    "# -----------------------------------------------------------------\n",
    "# SECOND MAP  ▸  1-p “significance” map   (retain 1-p ≥ 0.95)\n",
    "# -----------------------------------------------------------------\n",
    "inv_unthresholded_label    = f\"{stim_label}_inv_pmap_{model_key}_neural_shift_unthresholded\"\n",
    "\n",
    "\n",
    "# --- get raw p-values and FIX zeros ---------------------------\n",
    "p_dat = p_img_unthresholded.get_fdata()\n",
    "p_dat[p_dat == 0] = 1.0           # ← treat background/empty voxels as p = 1\n",
    "\n",
    "# --- compute 1-p & mask -----------------------------------------\n",
    "inv_p_data   = 1.0 - p_dat\n",
    "\n",
    "# --- force atlas==0 voxels → nan in the 1-p map --------------------\n",
    "inv_p_data[atlas_data == 0] = np.nan\n",
    "\n",
    "\n",
    "inv_img      = nib.Nifti1Image(inv_p_data, affine=p_img_unthresholded.affine,\n",
    "                               header=p_img_unthresholded.header)\n",
    "\n",
    "corrected_nifti_path = out_dir / f\"{inv_unthresholded_label}.nii.gz\"\n",
    "nib.save(inv_img, corrected_nifti_path)\n",
    "print(\"✅  Corrected 1–p NIfTI written →\", corrected_nifti_path)\n",
    "\n",
    "\n",
    "# --- plot on surface --------------------------------------------\n",
    "fig2 = plot_img_on_surf(\n",
    "    inv_img,\n",
    "    surf_mesh='fsaverage5',\n",
    "    views=['lateral', 'medial'],\n",
    "    hemispheres=['left', 'right'],\n",
    "    title=f\"{stim_label} {inv_unthresholded_label} (1-p, k=1 {smoothing_setting})\",\n",
    "    colorbar=True,\n",
    "    inflate=True,\n",
    "    cmap='autumn',        # dark→bright as significance ↑\n",
    "    vmin= 0,   \n",
    "    vmax=1.0,\n",
    "    threshold=None,\n",
    "    bg_on_data=True\n",
    ")\n",
    "fix_colorbar_ticks(fig2, lo = 0, hi = 1, n=2, fmt=\"{:.02f}\")   \n",
    "# --- save --------------------------------------------------------\n",
    "out_path2 = out_dir / f\"{inv_unthresholded_label}.png\"\n",
    "plt.savefig(out_path2, dpi=300, bbox_inches='tight')\n",
    "plt.close('all')\n",
    "\n",
    "print(\"✅  Figure written →\", out_path2)"
   ]
  }
 ],
 "metadata": {
  "kernelspec": {
   "display_name": "base",
   "language": "python",
   "name": "python3"
  },
  "language_info": {
   "codemirror_mode": {
    "name": "ipython",
    "version": 3
   },
   "file_extension": ".py",
   "mimetype": "text/x-python",
   "name": "python",
   "nbconvert_exporter": "python",
   "pygments_lexer": "ipython3",
   "version": "3.12.9"
  }
 },
 "nbformat": 4,
 "nbformat_minor": 2
}

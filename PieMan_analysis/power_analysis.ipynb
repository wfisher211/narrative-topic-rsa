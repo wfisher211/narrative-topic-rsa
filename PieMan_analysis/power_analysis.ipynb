{
 "cells": [
  {
   "cell_type": "code",
   "execution_count": 24,
   "metadata": {},
   "outputs": [],
   "source": [
    "import numpy as np\n",
    "import pandas as pd\n",
    "from pathlib import Path\n",
    "from tqdm import trange"
   ]
  },
  {
   "cell_type": "code",
   "execution_count": 25,
   "metadata": {},
   "outputs": [],
   "source": [
    "PARCEL_OF_INTEREST = 68\n",
    "\n",
    "PERM_PATH = Path(f\"/Volumes/Passport/fmriprep/derivatives/RSA_stats/pieman/perm_test_neural_shift/parcel{PARCEL_OF_INTEREST}_subject_s1_perms.npy\")\n",
    "OBS_PATH  = Path(f\"/Volumes/Passport/fmriprep/derivatives/RSA_stats/pieman/perm_test_neural_shift/parcel{PARCEL_OF_INTEREST}_observed_s1.npy\")"
   ]
  },
  {
   "cell_type": "code",
   "execution_count": 26,
   "metadata": {},
   "outputs": [
    {
     "name": "stdout",
     "output_type": "stream",
     "text": [
      "n=20 → power=35.00%\n",
      "n=21 → power=30.00%\n",
      "n=22 → power=45.00%\n",
      "n=23 → power=43.00%\n",
      "n=24 → power=50.00%\n",
      "n=25 → power=50.00%\n",
      "n=26 → power=42.00%\n",
      "n=27 → power=47.00%\n",
      "n=28 → power=50.00%\n",
      "n=29 → power=56.00%\n",
      "n=30 → power=52.00%\n",
      "n=31 → power=57.00%\n",
      "n=32 → power=47.00%\n",
      "n=33 → power=56.00%\n",
      "n=34 → power=59.00%\n",
      "n=35 → power=53.00%\n",
      "n=36 → power=64.00%\n",
      "n=37 → power=65.00%\n",
      "n=38 → power=66.00%\n",
      "n=39 → power=71.00%\n",
      "n=40 → power=66.00%\n",
      "n=41 → power=65.00%\n",
      "n=42 → power=68.00%\n",
      "n=43 → power=76.00%\n",
      "n=44 → power=71.00%\n",
      "n=45 → power=76.00%\n",
      "n=46 → power=71.00%\n",
      "n=47 → power=78.00%\n",
      "n=48 → power=71.00%\n",
      "n=49 → power=87.00%\n",
      "n=50 → power=78.00%\n",
      "n=51 → power=81.00%\n",
      "n=52 → power=74.00%\n",
      "n=53 → power=82.00%\n",
      "n=54 → power=85.00%\n",
      "n=55 → power=82.00%\n",
      "n=56 → power=90.00%\n",
      "n=57 → power=90.00%\n",
      "n=58 → power=94.00%\n",
      "n=59 → power=89.00%\n",
      "n=60 → power=86.00%\n",
      "n=61 → power=90.00%\n",
      "n=62 → power=94.00%\n",
      "n=63 → power=93.00%\n",
      "n=64 → power=94.00%\n",
      "n=65 → power=98.00%\n",
      "n=66 → power=93.00%\n",
      "n=67 → power=97.00%\n",
      "n=68 → power=100.00%\n",
      "n=69 → power=100.00%\n",
      "n=70 → power=99.00%\n",
      "n=71 → power=100.00%\n",
      "n=72 → power=100.00%\n",
      "n=73 → power=100.00%\n",
      "n=74 → power=100.00%\n",
      "n=75 → power=100.00%\n"
     ]
    }
   ],
   "source": [
    "perm_matrix = np.load(PERM_PATH)          # shape (n_perm, 75)\n",
    "obs_s1      = np.load(OBS_PATH)           # shape (75,)\n",
    "\n",
    "n_perm, n_subjects = perm_matrix.shape\n",
    "assert n_subjects == obs_s1.size == 75\n",
    "\n",
    "results = []  # (n, power) rows\n",
    "\n",
    "rng = np.random.default_rng(42)           # reproducible\n",
    "\n",
    "for n in range(20, n_subjects + 1):\n",
    "    successes = 0\n",
    "    for _ in range(100):\n",
    "        subset = rng.choice(n_subjects, size=n, replace=False)\n",
    "        \n",
    "        obs_mean   = obs_s1[subset].mean()\n",
    "        null_means = perm_matrix[:, subset].mean(axis=1)\n",
    "        \n",
    "        p_val = ( (null_means >= obs_mean).sum() + 1 ) / (n_perm + 1)\n",
    "        if p_val < 0.05:\n",
    "            successes += 1\n",
    "    \n",
    "    power = successes / 100\n",
    "    results.append((n, power))\n",
    "    print(f\"n={n:2d} → power={power:.2%}\")\n",
    "\n",
    "results_df = pd.DataFrame(results, columns=['n', 'power'])"
   ]
  },
  {
   "cell_type": "code",
   "execution_count": 27,
   "metadata": {},
   "outputs": [
    {
     "name": "stdout",
     "output_type": "stream",
     "text": [
      "Power ≥80% first achieved at n = 49\n",
      "Power ≥85% first achieved at n = 49\n",
      "Power ≥90% first achieved at n = 56\n"
     ]
    }
   ],
   "source": [
    "# Where do we hit 80/85/90 %?\n",
    "for thresh in (0.80, 0.85, 0.90):\n",
    "    hit = results_df.loc[results_df.power >= thresh, 'n'].min()\n",
    "    print(f\"Power ≥{int(thresh*100)}% first achieved at n = {hit}\")"
   ]
  }
 ],
 "metadata": {
  "kernelspec": {
   "display_name": "base",
   "language": "python",
   "name": "python3"
  },
  "language_info": {
   "codemirror_mode": {
    "name": "ipython",
    "version": 3
   },
   "file_extension": ".py",
   "mimetype": "text/x-python",
   "name": "python",
   "nbconvert_exporter": "python",
   "pygments_lexer": "ipython3",
   "version": "3.12.9"
  }
 },
 "nbformat": 4,
 "nbformat_minor": 2
}

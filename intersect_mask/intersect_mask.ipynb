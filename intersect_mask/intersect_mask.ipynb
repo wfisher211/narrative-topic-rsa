{
 "cells": [
  {
   "cell_type": "code",
   "execution_count": 51,
   "metadata": {},
   "outputs": [],
   "source": [
    "import os\n",
    "import numpy as np\n",
    "import pandas as pd\n",
    "import nibabel as nib\n",
    "from nilearn.image import load_img, resample_to_img, index_img\n",
    "from nilearn.masking import intersect_masks, apply_mask, unmask\n",
    "from nilearn.signal import clean\n",
    "from nilearn.interfaces.fmriprep import load_confounds\n",
    "import glob\n",
    "import re\n",
    "import matplotlib.pyplot as plt\n"
   ]
  },
  {
   "cell_type": "code",
   "execution_count": null,
   "metadata": {},
   "outputs": [],
   "source": [
    "# -----------------------------------------------------------------------------\n",
    "# 1) USER PARAMETERS\n",
    "# -----------------------------------------------------------------------------\n",
    "\n",
    "# Where your fmriprep lives\n",
    "base_dir    = '/Volumes/Passport/fmriprep'\n",
    "task_label  = 'black'\n",
    "output_mask = os.path.join(base_dir,\n",
    "                           f'group_task-{task_label}_intersect_mask.nii.gz')\n",
    "\n",
    "\n",
    "# Exclusions\n",
    "exclude_subs     = []\n",
    "exclude_sub_runs = []\n",
    "\n",
    "# Which BOLD space / resolution to use\n",
    "preferred_space = 'MNI152NLin2009cAsym'\n",
    "preferred_res   = 'native'\n",
    "\n",
    "target_subject = None               # Keep None unless running on one particular subject\n"
   ]
  },
  {
   "cell_type": "code",
   "execution_count": 53,
   "metadata": {},
   "outputs": [],
   "source": [
    "# Expected # subject-run CSVs that should exist after NNLS per-parcel analysis\n",
    "EXPECTED_COUNT = {\n",
    "    \"slumlordreach\":   17,\n",
    "    \"pieman\":          75,\n",
    "    \"black\":           46,\n",
    "    \"forgot\":          46,\n",
    "    \"reachforstars\":   17,\n",
    "    \"notthefallintact\":54,\n",
    "}"
   ]
  },
  {
   "cell_type": "code",
   "execution_count": 54,
   "metadata": {},
   "outputs": [],
   "source": [
    "# -----------------------------------------------------------------------------\n",
    "# 2) BUILD LIST OF SUBJECTS\n",
    "# -----------------------------------------------------------------------------\n",
    "all_subs = sorted(d for d in os.listdir(base_dir)\n",
    "                  if d.startswith('sub-')\n",
    "                  and os.path.isdir(os.path.join(base_dir, d)))\n",
    "if target_subject:\n",
    "    if target_subject not in all_subs:\n",
    "        raise ValueError(f\"{target_subject} not found under {base_dir}\")\n",
    "    subjects = [target_subject]\n",
    "else:\n",
    "    subjects = [s for s in all_subs if s not in exclude_subs]"
   ]
  },
  {
   "cell_type": "code",
   "execution_count": 55,
   "metadata": {},
   "outputs": [
    {
     "name": "stdout",
     "output_type": "stream",
     "text": [
      "Found 46 masks, intersecting…\n",
      "Saved group intersect mask to: /Volumes/Passport/fmriprep/derivatives/black_masks/group_task-black_intersect_mask.nii.gz\n"
     ]
    }
   ],
   "source": [
    "# -----------------------------------------------------------------------------\n",
    "# 3) MAKE GROUP INTERSECT MASK\n",
    "# -----------------------------------------------------------------------------\n",
    "# where to save the mask\n",
    "deriv_mask_dir = os.path.join(base_dir, 'derivatives', f'{task_label}_masks')\n",
    "os.makedirs(deriv_mask_dir, exist_ok=True)\n",
    "# redefine output_mask to live under derivatives/\n",
    "output_mask = os.path.join(\n",
    "    deriv_mask_dir,\n",
    "    f'group_task-{task_label}_intersect_mask.nii.gz'\n",
    ")\n",
    "\n",
    "mask_files = []\n",
    "space_res  = f\"space-{preferred_space}_res-{preferred_res}\"\n",
    "for sub in subjects:\n",
    "    func_dir = os.path.join(base_dir, sub, 'func')\n",
    "    # try run-level then single-run masks\n",
    "    patterns = [\n",
    "        os.path.join(func_dir,\n",
    "                     f\"{sub}_task-{task_label}_run-1_{space_res}_desc-brain_mask.nii.gz\"),\n",
    "        os.path.join(func_dir,\n",
    "                     f\"{sub}_task-{task_label}_{space_res}_desc-brain_mask.nii.gz\"),\n",
    "    ]\n",
    "    files = sorted(glob.glob(patterns[0])) or sorted(glob.glob(patterns[1]))\n",
    "    # make sure files are found\n",
    "    \n",
    "    # if not files:\n",
    "    #     print(f\"Skipping: {sub} no mask found\")\n",
    "    \n",
    "    # get file we want (ie., select run-1, not run-2)\n",
    "    for fp in files:\n",
    "        m   = re.search(r\"_run-(\\d+)_\", fp)\n",
    "        run = m.group(1) if m else None\n",
    "        if run and (sub,run) in exclude_sub_runs:\n",
    "            print(f\"  • skipping {sub} run-{run}\")\n",
    "            continue\n",
    "        mask_files.append(fp)\n",
    "\n",
    "if not mask_files:\n",
    "    raise RuntimeError(\"No masks found after exclusions!\")\n",
    "\n",
    "print(f\"Found {len(mask_files)} masks, intersecting…\")\n",
    "intersect = intersect_masks(mask_files,\n",
    "                           threshold=1.0,    \n",
    "                           connected=False)\n",
    "intersect.to_filename(output_mask)\n",
    "\n",
    "mask_img = load_img(output_mask)\n",
    "\n",
    "print(\"Saved group intersect mask to:\", output_mask)"
   ]
  },
  {
   "cell_type": "code",
   "execution_count": 49,
   "metadata": {},
   "outputs": [],
   "source": [
    "# assert we have right number of files per stimulus \n",
    "n_expected = EXPECTED_COUNT.get(task_label)\n",
    "\n",
    "if n_expected is not None:                       # we listed this stim above\n",
    "    assert len(mask_files) == n_expected, (\n",
    "        f\"[{task_label}] expected {n_expected} files \"\n",
    "        f\"but found {len(mask_files)}\"\n",
    "    )\n",
    "else:                                            # stim not in table → just sanity-check\n",
    "    if len(mask_files) == 0:\n",
    "        raise ValueError(f\"No CSVs found for {task_label}\")"
   ]
  },
  {
   "cell_type": "code",
   "execution_count": 50,
   "metadata": {},
   "outputs": [
    {
     "data": {
      "text/plain": [
       "46"
      ]
     },
     "execution_count": 50,
     "metadata": {},
     "output_type": "execute_result"
    }
   ],
   "source": [
    "len(mask_files)"
   ]
  }
 ],
 "metadata": {
  "kernelspec": {
   "display_name": "base",
   "language": "python",
   "name": "python3"
  },
  "language_info": {
   "codemirror_mode": {
    "name": "ipython",
    "version": 3
   },
   "file_extension": ".py",
   "mimetype": "text/x-python",
   "name": "python",
   "nbconvert_exporter": "python",
   "pygments_lexer": "ipython3",
   "version": "3.12.9"
  }
 },
 "nbformat": 4,
 "nbformat_minor": 2
}

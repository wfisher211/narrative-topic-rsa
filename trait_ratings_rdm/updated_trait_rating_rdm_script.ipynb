{
 "cells": [
  {
   "cell_type": "code",
   "execution_count": null,
   "id": "12e8e674",
   "metadata": {},
   "outputs": [],
   "source": [
    "import pandas as pd\n",
    "import numpy as np\n",
    "from scipy.spatial.distance import pdist, squareform\n",
    "from pathlib import Path\n",
    "import matplotlib.pyplot as plt"
   ]
  },
  {
   "cell_type": "code",
   "execution_count": null,
   "id": "d10e3026",
   "metadata": {},
   "outputs": [],
   "source": [
    "# SET MAIN HYPERPARAMETERS\n",
    "STIMULUS_LABEL = \"1Pieman\"\n",
    "STIMULUS_LABEL_SAVE_STRING = \"pieman\"\n",
    "CSV_FILE = \"/Volumes/Passport/fmriprep/trait_ratings_data/chujun_data.csv\"\n",
    "OUT_DIR = Path(\"/Volumes/Passport/fmriprep/derivatives/RDMs_behavior\")\n",
    "OUT_DIR.mkdir(parents=True, exist_ok=True)"
   ]
  },
  {
   "cell_type": "code",
   "execution_count": null,
   "id": "cefada65",
   "metadata": {},
   "outputs": [],
   "source": [
    "# Define the traits to be used\n",
    "\n",
    "TRAIT_LIST = [\n",
    "    \"Open-minded\",\n",
    "    \"feeling Affectionate\",\n",
    "    \"Attentive\",\n",
    "    \"Assertive\",\n",
    "    \"feeling Gloomy\",\n",
    "    \"feeling Peaceful\",\n",
    "    \"Agreeable\",\n",
    "    \"Judging\",\n",
    "    \"feeling Angry\",\n",
    "    \"feeling Bewildered\",\n",
    "    \"Impulsive\",\n",
    "    \"Self-disciplined\",\n",
    "    \"Contemplating\",\n",
    "]\n"
   ]
  },
  {
   "cell_type": "code",
   "execution_count": null,
   "id": "f2a525c6",
   "metadata": {},
   "outputs": [],
   "source": [
    "# Define the smoothing window for each trait\n",
    "WIN_DICT: dict[str, int] = {\n",
    "    \"Open-minded\"      : 200,\n",
    "    \"feeling Affectionate\": 200,\n",
    "    \"Attentive\"        : 200,\n",
    "    \"Assertive\"        : 200,\n",
    "    \"feeling Gloomy\"   : 200,\n",
    "    \"feeling Peaceful\" : 175,\n",
    "    \"Agreeable\"        : 200,\n",
    "    \"Judging\"          : 150,\n",
    "    \"feeling Angry\"    : 0,\n",
    "    \"feeling Bewildered\": 50,\n",
    "    \"Impulsive\"        : 25,\n",
    "    \"Self-disciplined\" : 0,\n",
    "    \"Contemplating\"    : 0,\n",
    "}"
   ]
  },
  {
   "cell_type": "code",
   "execution_count": null,
   "id": "0f43dc16",
   "metadata": {},
   "outputs": [],
   "source": [
    "# Toggle smoothing on/off \n",
    "ENABLE_SMOOTHING = True"
   ]
  },
  {
   "cell_type": "code",
   "execution_count": null,
   "id": "c6a40ace",
   "metadata": {},
   "outputs": [
    {
     "ename": "NameError",
     "evalue": "name 'Path' is not defined",
     "output_type": "error",
     "traceback": [
      "\u001b[31m---------------------------------------------------------------------------\u001b[39m",
      "\u001b[31mNameError\u001b[39m                                 Traceback (most recent call last)",
      "\u001b[36mCell\u001b[39m\u001b[36m \u001b[39m\u001b[32mIn[2]\u001b[39m\u001b[32m, line 2\u001b[39m\n\u001b[32m      1\u001b[39m \u001b[38;5;28;01mdef\u001b[39;00m\u001b[38;5;250m \u001b[39m\u001b[34mbuild_behavior_template\u001b[39m(\n\u001b[32m----> \u001b[39m\u001b[32m2\u001b[39m         csv_path       : \u001b[38;5;28mstr\u001b[39m | \u001b[43mPath\u001b[49m,\n\u001b[32m      3\u001b[39m         stim_label     : \u001b[38;5;28mstr\u001b[39m,\n\u001b[32m      4\u001b[39m         trait_label    : \u001b[38;5;28mstr\u001b[39m,\n\u001b[32m      5\u001b[39m         win_dict       : \u001b[38;5;28mdict\u001b[39m[\u001b[38;5;28mstr\u001b[39m, \u001b[38;5;28mint\u001b[39m],\n\u001b[32m      6\u001b[39m         apply_smoothing: \u001b[38;5;28mbool\u001b[39m = \u001b[38;5;28;01mTrue\u001b[39;00m,\n\u001b[32m      7\u001b[39m         tr_sec         : \u001b[38;5;28mfloat\u001b[39m = \u001b[32m1.5\u001b[39m,\n\u001b[32m      8\u001b[39m         n_tr           : \u001b[38;5;28mint\u001b[39m = \u001b[32m160\u001b[39m,\n\u001b[32m      9\u001b[39m         sd_cutoff      : \u001b[38;5;28mfloat\u001b[39m = \u001b[32m5.0\u001b[39m,\n\u001b[32m     10\u001b[39m         max_sec        : \u001b[38;5;28mfloat\u001b[39m = \u001b[32m240.0\u001b[39m,\n\u001b[32m     11\u001b[39m ) -> \u001b[38;5;28mtuple\u001b[39m[np.ndarray, np.ndarray, pd.DataFrame]:\n\u001b[32m     12\u001b[39m     \u001b[38;5;66;03m# (1) Load and filter data\u001b[39;00m\n\u001b[32m     13\u001b[39m     df = pd.read_csv(csv_path)\n\u001b[32m     14\u001b[39m     df = df[(df[\u001b[33m\"\u001b[39m\u001b[33mstim\u001b[39m\u001b[33m\"\u001b[39m] == stim_label)\n\u001b[32m     15\u001b[39m             & (df[\u001b[33m\"\u001b[39m\u001b[33mtask\u001b[39m\u001b[33m\"\u001b[39m] == trait_label)\n\u001b[32m     16\u001b[39m             & (df[\u001b[33m\"\u001b[39m\u001b[33mtime\u001b[39m\u001b[33m\"\u001b[39m]  < max_sec)].copy()\n",
      "\u001b[31mNameError\u001b[39m: name 'Path' is not defined"
     ]
    }
   ],
   "source": [
    "# --------------------------------------------------------------------------\n",
    "# MAIN FUNCTION\n",
    "# --------------------------------------------------------------------------\n",
    "\n",
    "def build_behavior_template(\n",
    "        csv_path       : str | Path,\n",
    "        stim_label     : str,\n",
    "        trait_label    : str,\n",
    "        win_dict       : dict[str, int],\n",
    "        apply_smoothing: bool = True,\n",
    "        tr_sec         : float = 1.5,\n",
    "        n_tr           : int = 160,\n",
    "        sd_cutoff      : float = 5.0,\n",
    "        max_sec        : float = 240.0,\n",
    ") -> tuple[np.ndarray, np.ndarray, pd.DataFrame]:\n",
    "    # (1) Load and filter data\n",
    "    df = pd.read_csv(csv_path)\n",
    "    df = df[(df[\"stim\"] == stim_label)\n",
    "            & (df[\"task\"] == trait_label)\n",
    "            & (df[\"time\"]  < max_sec)].copy()\n",
    "\n",
    "    # (2) exclude raters whose SD < sd_cutoff\n",
    "    sd = df.groupby(\"subject\")[\"rating\"].std()\n",
    "    bad_sd = sd[sd < sd_cutoff].index\n",
    "    df = df[~df[\"subject\"].isin(bad_sd)]\n",
    "    print(f\"Excluded {len(bad_sd)} raters (SD < {sd_cutoff}). Kept {df['subject'].nunique()} subjects.\")\n",
    "\n",
    "    # (3) Map samples to TR bins (0‥159)\n",
    "    df[\"TR\"] = (df[\"time\"] / tr_sec).round().astype(int)\n",
    "    df = df[(df[\"TR\"] >= 0) & (df[\"TR\"] < n_tr)]\n",
    "\n",
    "    # (4) Smooth ratings only if enabled\n",
    "    window = win_dict.get(trait_label, 0)\n",
    "    if not apply_smoothing or window < 1:\n",
    "        print(f\"[{trait_label}] smoothing skipped (enabled={apply_smoothing}, window={window})\")\n",
    "        df[\"rating_sm\"] = df[\"rating\"]\n",
    "    else:\n",
    "        print(f\"[{trait_label}] smoothing window={window} samples\")\n",
    "        df[\"rating_sm\"] = (\n",
    "            df.groupby(\"subject\")[\"rating\"]\n",
    "              .apply(lambda s: s.rolling(window, center=True, min_periods=1).mean())\n",
    "              .reset_index(level=0, drop=True)\n",
    "        )\n",
    "\n",
    "    # (5) Average across raters within each TR\n",
    "    pivot = (df.pivot_table(index=\"TR\", columns=\"subject\",\n",
    "                            values=\"rating_sm\", aggfunc=\"mean\")\n",
    "               .reindex(range(n_tr))\n",
    "               .interpolate(limit_direction=\"both\"))\n",
    "    vec = pivot.mean(axis=1).values\n",
    "\n",
    "    # (6) Compute dissimilarity matrix (Manhattan distance)\n",
    "    RDM = squareform(pdist(vec[:, None], metric=\"cityblock\"))\n",
    "\n",
    "    return vec, RDM, df\n",
    "\n",
    "# %% Loop over traits: build & save\n",
    "for trait in TRAIT_LIST:\n",
    "    trait_save_str = trait.replace(\" \", \"_\").replace(\"-\", \"_\")\n",
    "    print(f\"\\n=== Processing trait: {trait} ===\")\n",
    "    vec, RDM, df = build_behavior_template(\n",
    "        csv_path        = CSV_FILE,\n",
    "        stim_label      = STIMULUS_LABEL,\n",
    "        trait_label     = trait,\n",
    "        win_dict        = WIN_DICT,\n",
    "        apply_smoothing = ENABLE_SMOOTHING,\n",
    "    )\n",
    "    smoothing_setting = \"\" if ENABLE_SMOOTHING else \"_no_smoothing\"\n",
    "    np.save(OUT_DIR / f\"{STIMULUS_LABEL_SAVE_STRING}_{trait_save_str}_vec{smoothing_setting}.npy\", vec)\n",
    "    np.save(OUT_DIR / f\"{STIMULUS_LABEL_SAVE_STRING}_{trait_save_str}_RDM{smoothing_setting}.npy\", RDM)\n",
    "    print(f\"Saved vector and RDM for {trait} with suffix '{smoothing_setting}'\")\n"
   ]
  },
  {
   "cell_type": "code",
   "execution_count": null,
   "id": "ecfea4ee",
   "metadata": {},
   "outputs": [],
   "source": [
    "# %% (Optional) Plot a single trait’s series & RDM\n",
    "PLOT_TRAIT = \"Open-minded\"\n",
    "plot_save_str = PLOT_TRAIT.replace(\" \", \"_\").replace(\"-\", \"_\")\n",
    "suffix = \"\" if ENABLE_SMOOTHING else \"_no_smoothing\"\n",
    "vec = np.load(OUT_DIR / f\"{STIMULUS_LABEL_SAVE_STRING}_{plot_save_str}_vec{suffix}.npy\")\n",
    "RDM = np.load(OUT_DIR / f\"{STIMULUS_LABEL_SAVE_STRING}_{plot_save_str}_RDM{suffix}.npy\")"
   ]
  },
  {
   "cell_type": "code",
   "execution_count": null,
   "id": "d161ca02",
   "metadata": {},
   "outputs": [],
   "source": [
    "plt.figure(figsize=(8, 3.5))\n",
    "plt.plot(np.arange(len(vec)), vec, marker=\"o\", ms=3, lw=1)\n",
    "plt.title(f\"{PLOT_TRAIT} time-series ({STIMULUS_LABEL_SAVE_STRING})\")\n",
    "plt.xlabel(\"TR (0–159)\")\n",
    "plt.ylabel(\"Smoothed rating (a.u.)\")\n",
    "plt.grid(alpha=0.3, ls=\"--\")\n",
    "plt.tight_layout()\n",
    "plt.show()"
   ]
  },
  {
   "cell_type": "code",
   "execution_count": null,
   "id": "52299d0e",
   "metadata": {},
   "outputs": [],
   "source": [
    "plt.figure(figsize=(6,5))\n",
    "plt.imshow(RDM, interpolation=\"nearest\", aspect=\"auto\")\n",
    "plt.title(f\"{STIMULUS_LABEL_SAVE_STRING} {PLOT_TRAIT} RDM\")\n",
    "plt.xlabel(\"TR\"); plt.ylabel(\"TR\")\n",
    "plt.colorbar(label=\"|Δ rating|\")\n",
    "plt.tight_layout()\n",
    "plt.show()"
   ]
  },
  {
   "cell_type": "code",
   "execution_count": null,
   "id": "94770cdf",
   "metadata": {},
   "outputs": [],
   "source": [
    "# %% Sanity-check\n",
    "assert vec.shape == (160,),  \"Vector must be length 160\"\n",
    "assert RDM.shape == (160,160), \"RDM must be 160×160\"\n",
    "assert np.allclose(RDM, RDM.T), \"RDM not symmetric\"\n",
    "assert np.allclose(np.diag(RDM), 0), \"Diagonal must be zeros\"\n",
    "assert np.allclose(RDM, squareform(pdist(vec[:,None], 'cityblock'))), \\\n",
    "       \"RDM mismatch\"\n",
    "print(\"All checks passed ✔️\")"
   ]
  }
 ],
 "metadata": {
  "kernelspec": {
   "display_name": "Python 3",
   "language": "python",
   "name": "python3"
  },
  "language_info": {
   "codemirror_mode": {
    "name": "ipython",
    "version": 3
   },
   "file_extension": ".py",
   "mimetype": "text/x-python",
   "name": "python",
   "nbconvert_exporter": "python",
   "pygments_lexer": "ipython3",
   "version": "3.13.5"
  }
 },
 "nbformat": 4,
 "nbformat_minor": 5
}

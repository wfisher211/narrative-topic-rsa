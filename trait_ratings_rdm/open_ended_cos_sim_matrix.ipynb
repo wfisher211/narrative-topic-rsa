{
 "cells": [
  {
   "cell_type": "code",
   "execution_count": 7,
   "metadata": {},
   "outputs": [],
   "source": [
    "import pandas as pd\n",
    "import numpy as np\n",
    "from sklearn.metrics.pairwise import cosine_similarity"
   ]
  },
  {
   "cell_type": "code",
   "execution_count": 8,
   "metadata": {},
   "outputs": [],
   "source": [
    "# Parameters \n",
    "STIMULUS_LABEL_SAVE_STRING = \"pieman\""
   ]
  },
  {
   "cell_type": "code",
   "execution_count": 9,
   "metadata": {},
   "outputs": [
    {
     "name": "stdout",
     "output_type": "stream",
     "text": [
      "Embeddings shape: (160, 3072)\n"
     ]
    }
   ],
   "source": [
    "\n",
    "\n",
    "# 1) CSV Path for Continuous Embeddings\n",
    "input_csv = \"/Volumes/Passport/fmriprep/trait_ratings_data/filled_1pieman.csv\"\n",
    "\n",
    "# 2) Read into a DataFrame\n",
    "df = pd.read_csv(input_csv)\n",
    "\n",
    "# 3) If “bin_CJ” is the first column, we can just drop it (or set it as index)\n",
    "#    Here, let’s drop it and keep only the 3072-dimensional embeddings:\n",
    "emb_cols = [f\"dim_{i}\" for i in range(3072)]\n",
    "embeddings = df[emb_cols].values     # shape will be (160, 3072)\n",
    "\n",
    "# Quick sanity check:\n",
    "print(\"Embeddings shape:\", embeddings.shape)  # should print (160, 3072)"
   ]
  },
  {
   "cell_type": "code",
   "execution_count": 10,
   "metadata": {},
   "outputs": [
    {
     "name": "stdout",
     "output_type": "stream",
     "text": [
      "Cosine‐similarity matrix shape: (160, 160)\n"
     ]
    }
   ],
   "source": [
    "# embeddings is (160, 3072).  We’ll get a (160, 160) similarity matrix:\n",
    "cosine_sim_matrix = cosine_similarity(embeddings, embeddings)\n",
    "\n",
    "# Check shape:\n",
    "assert cosine_sim_matrix.shape == (160, 160), \"Cosine similarity matrix should be of shape (160, 160)\"\n",
    "print(\"Cosine‐similarity matrix shape:\", cosine_sim_matrix.shape)  # (160, 160)\n",
    "\n",
    "# Optional: If you prefer a “dissimilarity” RDM, do:\n",
    "# cosine_dist_matrix = 1.0 - cosine_sim_matrix"
   ]
  },
  {
   "cell_type": "code",
   "execution_count": 11,
   "metadata": {},
   "outputs": [],
   "source": [
    "# Save as NumPy .npy\n",
    "np.save(f\"/Volumes/Passport/fmriprep/derivatives/personality_cos_sim_matrix/{STIMULUS_LABEL_SAVE_STRING}_open_ended_cos_sim.npy\", cosine_sim_matrix)\n",
    "\n",
    "# Or save as CSV (if you need a human-readable form)\n",
    "pd.DataFrame(cosine_sim_matrix).to_csv(f\"/Volumes/Passport/fmriprep/derivatives/personality_cos_sim_matrix/{STIMULUS_LABEL_SAVE_STRING}_open_ended_cos_sim.csv\", \n",
    "                                       index=False)"
   ]
  },
  {
   "cell_type": "code",
   "execution_count": 13,
   "metadata": {},
   "outputs": [],
   "source": [
    "# Convert into an RDM\n",
    "cos_open_ended_rdm = 1.0 - cosine_sim_matrix  # Dissimilarity RDM\n",
    "\n",
    "# Save the RDM as a NumPy .npy file\n",
    "np.save(f\"/Volumes/Passport/fmriprep/derivatives/RDMs_behavior/{STIMULUS_LABEL_SAVE_STRING}_cos_open_ended_RDM.npy\", cos_open_ended_rdm)"
   ]
  }
 ],
 "metadata": {
  "kernelspec": {
   "display_name": "base",
   "language": "python",
   "name": "python3"
  },
  "language_info": {
   "codemirror_mode": {
    "name": "ipython",
    "version": 3
   },
   "file_extension": ".py",
   "mimetype": "text/x-python",
   "name": "python",
   "nbconvert_exporter": "python",
   "pygments_lexer": "ipython3",
   "version": "3.12.9"
  }
 },
 "nbformat": 4,
 "nbformat_minor": 2
}

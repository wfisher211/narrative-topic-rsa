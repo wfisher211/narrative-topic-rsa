{
 "cells": [
  {
   "cell_type": "markdown",
   "metadata": {},
   "source": [
    "# parcel beta stats"
   ]
  },
  {
   "cell_type": "code",
   "execution_count": 1,
   "metadata": {},
   "outputs": [],
   "source": [
    "import os\n",
    "import glob\n",
    "import numpy as np\n",
    "import pandas as pd\n",
    "from scipy.stats import ttest_1samp\n",
    "from nilearn import datasets\n",
    "from nilearn.image import resample_to_img\n",
    "import nibabel as nib"
   ]
  },
  {
   "cell_type": "code",
   "execution_count": 2,
   "metadata": {},
   "outputs": [],
   "source": [
    "# ─── 0) PARAMETERS ─────────────────────────────────────────────────────────\n",
    "n_rois                     = 200\n",
    "yeo_networks               = 17\n",
    "resolution_mm              = 2\n",
    "STIMULUS_LABEL_SAVE_STRING = \"pieman\"\n",
    "deriv_dir                  = \"/Volumes/Passport/fmriprep/derivatives\"\n",
    "mr_folder                  = \"multi_regression\"\n",
    "multi_dir                  = os.path.join(\n",
    "    deriv_dir, \"RSA_stats\", STIMULUS_LABEL_SAVE_STRING, mr_folder\n",
    ")"
   ]
  },
  {
   "cell_type": "code",
   "execution_count": 3,
   "metadata": {},
   "outputs": [],
   "source": [
    "# 13 trait labels\n",
    "TRAIT_LABELS      = [\n",
    "    \"Open-minded\",\"feeling Affectionate\",\"Attentive\",\"Assertive\",\n",
    "    \"feeling Gloomy\",\"feeling Peaceful\",\"Agreeable\",\"Judging\",\n",
    "    \"feeling Angry\",\"feeling Bewildered\",\"Impulsive\",\n",
    "    \"Self-disciplined\",\"Contemplating\"\n",
    "]\n",
    "TRAIT_SAVE_STRS = [t.replace(\" \", \"_\").replace(\"-\", \"_\") for t in TRAIT_LABELS]\n",
    "\n",
    "# Load the BOLD cleaned image\n",
    "bold_img = nib.load('/Volumes/Passport/fmriprep/derivatives/pieMan_cleaned/sub-002/func/sub-002_task-pieman_run-1_cleaned_desc-masked_bold.nii.gz')"
   ]
  },
  {
   "cell_type": "code",
   "execution_count": 4,
   "metadata": {},
   "outputs": [],
   "source": [
    "# ─── 1) LOAD ALL SUBJECT‐LEVEL CSVs ────────────────────────────────────────\n",
    "pattern = os.path.join(multi_dir, \"*_multi_parcel_RSA.csv\")\n",
    "all_dfs = []\n",
    "for fn in sorted(glob.glob(pattern)):\n",
    "    df = pd.read_csv(fn)           # expects columns: subject, run, parcel, <13 betas>, F_stat\n",
    "    all_dfs.append(df)\n",
    "all_df = pd.concat(all_dfs, ignore_index=True)"
   ]
  },
  {
   "cell_type": "code",
   "execution_count": 5,
   "metadata": {},
   "outputs": [],
   "source": [
    "# ──────────────────────────────────────────────────────────────\n",
    "# 2) FETCH SCHAEFER ATLAS  ─────────────────────────────────────\n",
    "# ──────────────────────────────────────────────────────────────\n",
    "\n",
    "schaefer    = datasets.fetch_atlas_schaefer_2018(\n",
    "                 n_rois=n_rois,\n",
    "                 yeo_networks=yeo_networks,\n",
    "                 resolution_mm=resolution_mm\n",
    "             )\n",
    "atlas_img   = nib.load(schaefer['maps'])  # default 2mm MNI - but our images 3x3x4 (Pieman and others) OR 2.5^3 (ie., Black and Forgot)\n",
    "\n",
    "\n",
    "# Change Schaeffer Labels so 0 is whole brain and 1 corresponds to 1st ROI\n",
    "labels = schaefer['labels']\n",
    "# change to string and remove excess\n",
    "labels = [l.replace(b'17Networks_', b'').decode('utf-8') for l in labels]\n",
    "# Prepend background label\n",
    "labels = np.insert(labels, 0, \"Background\")"
   ]
  },
  {
   "cell_type": "code",
   "execution_count": 7,
   "metadata": {},
   "outputs": [],
   "source": [
    "# ─── 3) COMPUTE MEAN & T-TEST PER TRAIT × PARCEL ─────────────────────────\n",
    "results = []\n",
    "for pid in range(1, n_rois+1):\n",
    "    parcel_df = all_df[all_df[\"parcel_num\"] == pid]\n",
    "    row = {\n",
    "        \"parcel_num\": pid,\n",
    "        \"parcel_label\": labels[pid]\n",
    "    }\n",
    "    for trait, sstr in zip(TRAIT_LABELS, TRAIT_SAVE_STRS):\n",
    "        betas = parcel_df[sstr].dropna()\n",
    "        mean_beta = betas.mean()\n",
    "        # one-sample t-test vs. zero\n",
    "        t_stat, p_val = ttest_1samp(betas, 0.0)\n",
    "        row[f\"mean_beta_{sstr}\"] = mean_beta\n",
    "        row[f\"t_{sstr}\"] = t_stat\n",
    "        row[f\"p_{sstr}\"] = p_val\n",
    "    results.append(row)\n",
    "\n",
    "stats_df = pd.DataFrame(results)"
   ]
  },
  {
   "cell_type": "code",
   "execution_count": null,
   "metadata": {},
   "outputs": [
    {
     "name": "stdout",
     "output_type": "stream",
     "text": [
      "✅ Saved parcel-wise beta statistics → /Volumes/Passport/fmriprep/derivatives/RSA_stats/pieman/multi_regression/pieman_parcel_beta_stats.csv\n"
     ]
    }
   ],
   "source": [
    "# ─── 4) SAVE OUT THE SUMMARY CSV ─────────────────────────────────────────\n",
    "out_csv = os.path.join(multi_dir, f\"{STIMULUS_LABEL_SAVE_STRING}_parcel_beta_stats_OLS.csv\")\n",
    "stats_df.to_csv(out_csv, index=False)\n",
    "print(\"✅ Saved parcel-wise beta statistics →\", out_csv)"
   ]
  }
 ],
 "metadata": {
  "kernelspec": {
   "display_name": "base",
   "language": "python",
   "name": "python3"
  },
  "language_info": {
   "codemirror_mode": {
    "name": "ipython",
    "version": 3
   },
   "file_extension": ".py",
   "mimetype": "text/x-python",
   "name": "python",
   "nbconvert_exporter": "python",
   "pygments_lexer": "ipython3",
   "version": "3.12.9"
  }
 },
 "nbformat": 4,
 "nbformat_minor": 2
}

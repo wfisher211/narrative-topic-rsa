{
 "cells": [
  {
   "cell_type": "code",
   "execution_count": 89,
   "metadata": {},
   "outputs": [],
   "source": [
    "import os, glob, re, csv\n",
    "import numpy as np\n",
    "import nibabel as nib\n",
    "import statsmodels.api as sm\n",
    "from nilearn import datasets\n",
    "from nilearn.image import resample_to_img\n",
    "\n",
    "from scipy.stats import ttest_1samp"
   ]
  },
  {
   "cell_type": "code",
   "execution_count": 90,
   "metadata": {},
   "outputs": [
    {
     "name": "stdout",
     "output_type": "stream",
     "text": [
      "Voxel size (mm): (3.0, 3.0, 4.0)\n",
      "TR (s): 1.0\n",
      "Shape (65, 77, 49, 160)\n"
     ]
    }
   ],
   "source": [
    "# Load the BOLD cleaned image\n",
    "bold_img = nib.load('/Volumes/Passport/fmriprep/derivatives/pieMan_cleaned/sub-002/func/sub-002_task-pieman_run-1_cleaned_desc-masked_bold.nii.gz')\n",
    "\n",
    "# Print voxel size (spatial resolution) and TR (temporal resolution)\n",
    "zooms = bold_img.header.get_zooms()\n",
    "print(f\"Voxel size (mm): {zooms[:3]}\")\n",
    "print(f\"TR (s): {zooms[3]}\")\n",
    "print(f\"Shape {bold_img.shape}\")"
   ]
  },
  {
   "cell_type": "code",
   "execution_count": 151,
   "metadata": {},
   "outputs": [],
   "source": [
    "# SET MAIN HYPERPARAMETERS\n",
    "TRAIT_LABEL = \"feeling Gloomy\"  \n",
    "\n",
    "# Our 13 trait labels \n",
    "# TRAIT_LABELS = [\"Open-minded\", \"feeling Affectionate\", \"Attentive\", \"Assertive\", \"feeling Gloomy\", \"feeling Peaceful\", \"Agreeable\", \"Judging\", \"feeling Angry\", \"feeling Bewildered\", \"Impulsive\", \"Self-disciplined\", \"Contemplating\"]\n",
    "\n",
    "TRAIT_LABEL_SAVE_STRING = TRAIT_LABEL.replace(\" \", \"_\").replace(\"-\", \"_\")\n",
    "STIMULUS_LABEL_SAVE_STRING = \"pieman\""
   ]
  },
  {
   "cell_type": "code",
   "execution_count": 152,
   "metadata": {},
   "outputs": [],
   "source": [
    "# ──────────────────────────────────────────────────────────────\n",
    "# 0) PATHS & I/O\n",
    "# ──────────────────────────────────────────────────────────────\n",
    "root_dir  = \"/Volumes/Passport/fmriprep\"          # ←  same as in cleaning script\n",
    "deriv_dir = os.path.join(root_dir, \"derivatives\") #   (don’t hard-code “subjects” yet)\n",
    "\n",
    "\n",
    "\n",
    "# output from your behaviour-model RSA\n",
    "model_rdm = np.load(\n",
    "    os.path.join(deriv_dir, \"RDMs_behavior\", f\"{STIMULUS_LABEL_SAVE_STRING}_{TRAIT_LABEL_SAVE_STRING}_RDM.npy\"))"
   ]
  },
  {
   "cell_type": "code",
   "execution_count": 153,
   "metadata": {},
   "outputs": [],
   "source": [
    "# ──────────────────────────────────────────────────────────────\n",
    "# 1) SUBJECT / RUN FILTERS  (copy-paste verbatim)  ─────────────\n",
    "# ──────────────────────────────────────────────────────────────\n",
    "exclude_subs = {\n",
    "    \"sub-001\",\"sub-021\",\"sub-022\",\"sub-038\",\"sub-056\",\"sub-068\",\"sub-069\"\n",
    "}\n",
    "exclude_sub_runs = {\n",
    "    (\"sub-002\",\"2\"),(\"sub-003\",\"2\"),(\"sub-004\",\"2\"),(\"sub-005\",\"2\"),(\"sub-006\",\"2\"),\n",
    "    (\"sub-008\",\"2\"),(\"sub-010\",\"2\"),(\"sub-011\",\"2\"),(\"sub-012\",\"2\"),(\"sub-013\",\"2\"),\n",
    "    (\"sub-014\",\"2\"),(\"sub-015\",\"2\"),(\"sub-016\",\"2\")\n",
    "}\n",
    "target_subject = None     # e.g. \"sub-002\" to run a single person\n"
   ]
  },
  {
   "cell_type": "code",
   "execution_count": 154,
   "metadata": {},
   "outputs": [
    {
     "name": "stdout",
     "output_type": "stream",
     "text": [
      "Subjects to process → sub-002, sub-003, sub-004, sub-005, sub-006, sub-007, sub-008, sub-009, sub-010, sub-011, sub-012, sub-013, sub-014, sub-015, sub-016, sub-017, sub-018, sub-019, sub-020, sub-023, sub-024, sub-025, sub-026, sub-027, sub-028, sub-029, sub-030, sub-031, sub-032, sub-033, sub-034, sub-035, sub-036, sub-037, sub-039, sub-040, sub-041, sub-042, sub-043, sub-044, sub-045, sub-046, sub-047, sub-048, sub-049, sub-050, sub-051, sub-052, sub-053, sub-054, sub-055, sub-057, sub-058, sub-059, sub-060, sub-061, sub-062, sub-063, sub-064, sub-065, sub-066, sub-067, sub-070, sub-071, sub-072, sub-073, sub-074, sub-075, sub-076, sub-077, sub-078, sub-079, sub-080, sub-081, sub-082\n"
     ]
    }
   ],
   "source": [
    "# ----------------------------------------------------------------\n",
    "# 2)  BUILD SUBJECT LIST  (from cleaned derivatives)  ------------\n",
    "# ----------------------------------------------------------------\n",
    "cleaned_root = os.path.join(deriv_dir, f\"{STIMULUS_LABEL_SAVE_STRING}_cleaned\")\n",
    "all_subs     = sorted(\n",
    "    d for d in os.listdir(cleaned_root) if d.startswith(\"sub-\")\n",
    ")\n",
    "if target_subject:\n",
    "    if target_subject not in all_subs:\n",
    "        raise ValueError(f\"{target_subject} not found in {cleaned_root}\")\n",
    "    subjects = [target_subject]\n",
    "else:\n",
    "    subjects = [s for s in all_subs if s not in exclude_subs]\n",
    "\n",
    "print(\"Subjects to process →\", \", \".join(subjects))"
   ]
  },
  {
   "cell_type": "code",
   "execution_count": 155,
   "metadata": {},
   "outputs": [],
   "source": [
    "# ──────────────────────────────────────────────────────────────\n",
    "# 3) FETCH SCHAEFER ATLAS  ─────────────────────────────────────\n",
    "# ──────────────────────────────────────────────────────────────\n",
    "\n",
    "# Schaefer parcel/atlas parameters\n",
    "n_rois = 200\n",
    "yeo_networks = 17\n",
    "resolution_mm = 2                   # resolution of your Schaefer atlas (double check!)\n",
    "\n",
    "schaefer    = datasets.fetch_atlas_schaefer_2018(\n",
    "                 n_rois=n_rois,\n",
    "                 yeo_networks=yeo_networks,\n",
    "                 resolution_mm=resolution_mm\n",
    "             )\n",
    "atlas_img   = nib.load(schaefer['maps'])  # default 2mm MNI - but our images 3x3x4 (Pieman and others) OR 2.5^3 (ie., Black and Forgot)\n",
    "\n",
    "atlas_resampled = resample_to_img(atlas_img, bold_img, interpolation='nearest')\n",
    "atlas_data     = atlas_resampled.get_fdata()\n",
    "\n",
    "\n",
    "\n",
    "# Change Schaeffer Labels so 0 is whole brain and 1 corresponds to 1st ROI\n",
    "labels = schaefer['labels']\n",
    "# change to string and remove excess\n",
    "labels = [l.replace(b'17Networks_', b'').decode('utf-8') for l in labels]\n",
    "# Prepend background label\n",
    "labels = np.insert(labels, 0, \"Background\")"
   ]
  },
  {
   "cell_type": "code",
   "execution_count": 156,
   "metadata": {},
   "outputs": [],
   "source": [
    "# ──────────────────────────────────────────────────────────────\n",
    "# 4) Define OLS function  ─────────────────────────────────────\n",
    "# ──────────────────────────────────────────────────────────────\n",
    "\n",
    "def rsa_ols(neural_rdm: np.ndarray, model_rdm: np.ndarray):\n",
    "    \"\"\"OLS RSA identical in logic and naming to the manual example.\"\"\"\n",
    "    # ------------------------------------------------------------------\n",
    "    # EXTRACT ONE TRIANGLE (lower inc. diagonal)            ↳ k = -1\n",
    "    # ------------------------------------------------------------------\n",
    "    i_low = np.tril_indices(160, k=-1)\n",
    "\n",
    "    y = neural_rdm[i_low]                         # dependent variable\n",
    "    X = model_rdm[i_low][:, None]      # predictor (N × 1)\n",
    "    X = sm.add_constant(X)  # add intercept column\n",
    "\n",
    "    # ------------------------------------------------------------------\n",
    "    # OLS FIT (statsmodels)                                         \n",
    "    # ------------------------------------------------------------------\n",
    "    model = sm.OLS(y, X).fit()\n",
    "\n",
    "    beta = float(model.params[1])                 # coefficient for x1\n",
    "    r2   = float(model.rsquared)\n",
    "    return beta, r2\n",
    "\n",
    "# ──────────────────────────────────────────────────────────────\n",
    "# 5) Define MAIN per-subject function  (adds run-skip check)  ─────────\n",
    "# ──────────────────────────────────────────────────────────────\n",
    "def run_parcel_rsa_for_subject(sub):\n",
    "    func_dir   = os.path.join(cleaned_root, sub, \"func\")\n",
    "    run_pat    = os.path.join(func_dir,\n",
    "                  f\"{sub}_task-{STIMULUS_LABEL_SAVE_STRING}_run-*_*cleaned_desc-masked_bold.nii.gz\")\n",
    "    single_pat = os.path.join(func_dir,\n",
    "                  f\"{sub}_task-{STIMULUS_LABEL_SAVE_STRING}_cleaned_desc-masked_bold.nii.gz\")\n",
    "    bold_files = sorted(glob.glob(run_pat)) + sorted(glob.glob(single_pat))\n",
    "    if not bold_files:\n",
    "        print(f\"⏩ {sub}: no cleaned runs\")\n",
    "        return\n",
    "\n",
    "    rows = []\n",
    "    for bf in bold_files:\n",
    "        m   = re.search(r\"_run-(\\d+)_\", os.path.basename(bf))\n",
    "        run = m.group(1) if m else None\n",
    "        if run and (sub, run) in exclude_sub_runs:\n",
    "            print(f\"   • skipping {sub} run-{run} (in exclusion list)\")\n",
    "            continue\n",
    "\n",
    "        bold_img  = nib.load(bf)\n",
    "        bold_data = bold_img.get_fdata()\n",
    "\n",
    "        atlas_resampled = resample_to_img(atlas_img, bold_img, interpolation=\"nearest\")\n",
    "        atlas_data      = atlas_resampled.get_fdata()\n",
    "\n",
    "        for parcel_id in range(1, n_rois + 1):\n",
    "            mask = atlas_data == parcel_id\n",
    "            if not mask.any(): continue\n",
    "            rdm   = 1 - np.corrcoef(bold_data[mask, :].T).astype(np.float32)\n",
    "            beta, r2 = rsa_ols(rdm, model_rdm)\n",
    "            rows.append([sub, run or \"NA\", parcel_id, beta, r2])\n",
    "            \n",
    "    # ---- write one CSV per subject ----\n",
    "    out_dir  = os.path.join(deriv_dir, \"RSA_stats\")\n",
    "\n",
    "    # add the stimulus‐specific subfolder (e.g. \"pieman\")\n",
    "    stim_folder = os.path.join(out_dir, STIMULUS_LABEL_SAVE_STRING)\n",
    "    os.makedirs(stim_folder, exist_ok=True)\n",
    "\n",
    "    # add the trait‐specific subfolder (e.g. \"feeling_Affectionate\")\n",
    "    trait_folder = os.path.join(stim_folder, TRAIT_LABEL_SAVE_STRING)\n",
    "    os.makedirs(trait_folder, exist_ok=True)\n",
    "\n",
    "    out_csv = os.path.join(trait_folder, f\"{sub}_{STIMULUS_LABEL_SAVE_STRING}_{TRAIT_LABEL_SAVE_STRING}_parcel_RSA.csv\")\n",
    "    with open(out_csv, \"w\", newline=\"\") as f:\n",
    "        csv.writer(f).writerows([[\"subject\",\"run\",\"parcel\",\"beta\",\"r2\"]] + rows)\n",
    "    print(f\"✅ {sub}: {len(rows)} rows → {out_csv}\")\n"
   ]
  },
  {
   "cell_type": "code",
   "execution_count": 157,
   "metadata": {},
   "outputs": [
    {
     "name": "stdout",
     "output_type": "stream",
     "text": [
      "✅ sub-002: 200 rows → /Volumes/Passport/fmriprep/derivatives/RSA_stats/pieman/feeling_Gloomy/sub-002_pieman_feeling_Gloomy_parcel_RSA.csv\n",
      "✅ sub-003: 200 rows → /Volumes/Passport/fmriprep/derivatives/RSA_stats/pieman/feeling_Gloomy/sub-003_pieman_feeling_Gloomy_parcel_RSA.csv\n",
      "✅ sub-004: 200 rows → /Volumes/Passport/fmriprep/derivatives/RSA_stats/pieman/feeling_Gloomy/sub-004_pieman_feeling_Gloomy_parcel_RSA.csv\n",
      "✅ sub-005: 200 rows → /Volumes/Passport/fmriprep/derivatives/RSA_stats/pieman/feeling_Gloomy/sub-005_pieman_feeling_Gloomy_parcel_RSA.csv\n",
      "✅ sub-006: 200 rows → /Volumes/Passport/fmriprep/derivatives/RSA_stats/pieman/feeling_Gloomy/sub-006_pieman_feeling_Gloomy_parcel_RSA.csv\n",
      "✅ sub-007: 200 rows → /Volumes/Passport/fmriprep/derivatives/RSA_stats/pieman/feeling_Gloomy/sub-007_pieman_feeling_Gloomy_parcel_RSA.csv\n",
      "✅ sub-008: 200 rows → /Volumes/Passport/fmriprep/derivatives/RSA_stats/pieman/feeling_Gloomy/sub-008_pieman_feeling_Gloomy_parcel_RSA.csv\n",
      "✅ sub-009: 200 rows → /Volumes/Passport/fmriprep/derivatives/RSA_stats/pieman/feeling_Gloomy/sub-009_pieman_feeling_Gloomy_parcel_RSA.csv\n",
      "✅ sub-010: 200 rows → /Volumes/Passport/fmriprep/derivatives/RSA_stats/pieman/feeling_Gloomy/sub-010_pieman_feeling_Gloomy_parcel_RSA.csv\n",
      "✅ sub-011: 200 rows → /Volumes/Passport/fmriprep/derivatives/RSA_stats/pieman/feeling_Gloomy/sub-011_pieman_feeling_Gloomy_parcel_RSA.csv\n",
      "✅ sub-012: 200 rows → /Volumes/Passport/fmriprep/derivatives/RSA_stats/pieman/feeling_Gloomy/sub-012_pieman_feeling_Gloomy_parcel_RSA.csv\n",
      "✅ sub-013: 200 rows → /Volumes/Passport/fmriprep/derivatives/RSA_stats/pieman/feeling_Gloomy/sub-013_pieman_feeling_Gloomy_parcel_RSA.csv\n",
      "✅ sub-014: 200 rows → /Volumes/Passport/fmriprep/derivatives/RSA_stats/pieman/feeling_Gloomy/sub-014_pieman_feeling_Gloomy_parcel_RSA.csv\n",
      "✅ sub-015: 200 rows → /Volumes/Passport/fmriprep/derivatives/RSA_stats/pieman/feeling_Gloomy/sub-015_pieman_feeling_Gloomy_parcel_RSA.csv\n",
      "✅ sub-016: 200 rows → /Volumes/Passport/fmriprep/derivatives/RSA_stats/pieman/feeling_Gloomy/sub-016_pieman_feeling_Gloomy_parcel_RSA.csv\n",
      "✅ sub-017: 200 rows → /Volumes/Passport/fmriprep/derivatives/RSA_stats/pieman/feeling_Gloomy/sub-017_pieman_feeling_Gloomy_parcel_RSA.csv\n",
      "✅ sub-018: 200 rows → /Volumes/Passport/fmriprep/derivatives/RSA_stats/pieman/feeling_Gloomy/sub-018_pieman_feeling_Gloomy_parcel_RSA.csv\n",
      "✅ sub-019: 200 rows → /Volumes/Passport/fmriprep/derivatives/RSA_stats/pieman/feeling_Gloomy/sub-019_pieman_feeling_Gloomy_parcel_RSA.csv\n",
      "✅ sub-020: 200 rows → /Volumes/Passport/fmriprep/derivatives/RSA_stats/pieman/feeling_Gloomy/sub-020_pieman_feeling_Gloomy_parcel_RSA.csv\n",
      "✅ sub-023: 200 rows → /Volumes/Passport/fmriprep/derivatives/RSA_stats/pieman/feeling_Gloomy/sub-023_pieman_feeling_Gloomy_parcel_RSA.csv\n",
      "✅ sub-024: 200 rows → /Volumes/Passport/fmriprep/derivatives/RSA_stats/pieman/feeling_Gloomy/sub-024_pieman_feeling_Gloomy_parcel_RSA.csv\n",
      "✅ sub-025: 200 rows → /Volumes/Passport/fmriprep/derivatives/RSA_stats/pieman/feeling_Gloomy/sub-025_pieman_feeling_Gloomy_parcel_RSA.csv\n",
      "✅ sub-026: 200 rows → /Volumes/Passport/fmriprep/derivatives/RSA_stats/pieman/feeling_Gloomy/sub-026_pieman_feeling_Gloomy_parcel_RSA.csv\n",
      "✅ sub-027: 200 rows → /Volumes/Passport/fmriprep/derivatives/RSA_stats/pieman/feeling_Gloomy/sub-027_pieman_feeling_Gloomy_parcel_RSA.csv\n",
      "✅ sub-028: 200 rows → /Volumes/Passport/fmriprep/derivatives/RSA_stats/pieman/feeling_Gloomy/sub-028_pieman_feeling_Gloomy_parcel_RSA.csv\n",
      "✅ sub-029: 200 rows → /Volumes/Passport/fmriprep/derivatives/RSA_stats/pieman/feeling_Gloomy/sub-029_pieman_feeling_Gloomy_parcel_RSA.csv\n",
      "✅ sub-030: 200 rows → /Volumes/Passport/fmriprep/derivatives/RSA_stats/pieman/feeling_Gloomy/sub-030_pieman_feeling_Gloomy_parcel_RSA.csv\n",
      "✅ sub-031: 200 rows → /Volumes/Passport/fmriprep/derivatives/RSA_stats/pieman/feeling_Gloomy/sub-031_pieman_feeling_Gloomy_parcel_RSA.csv\n",
      "✅ sub-032: 200 rows → /Volumes/Passport/fmriprep/derivatives/RSA_stats/pieman/feeling_Gloomy/sub-032_pieman_feeling_Gloomy_parcel_RSA.csv\n",
      "✅ sub-033: 200 rows → /Volumes/Passport/fmriprep/derivatives/RSA_stats/pieman/feeling_Gloomy/sub-033_pieman_feeling_Gloomy_parcel_RSA.csv\n",
      "✅ sub-034: 200 rows → /Volumes/Passport/fmriprep/derivatives/RSA_stats/pieman/feeling_Gloomy/sub-034_pieman_feeling_Gloomy_parcel_RSA.csv\n",
      "✅ sub-035: 200 rows → /Volumes/Passport/fmriprep/derivatives/RSA_stats/pieman/feeling_Gloomy/sub-035_pieman_feeling_Gloomy_parcel_RSA.csv\n",
      "✅ sub-036: 200 rows → /Volumes/Passport/fmriprep/derivatives/RSA_stats/pieman/feeling_Gloomy/sub-036_pieman_feeling_Gloomy_parcel_RSA.csv\n",
      "✅ sub-037: 200 rows → /Volumes/Passport/fmriprep/derivatives/RSA_stats/pieman/feeling_Gloomy/sub-037_pieman_feeling_Gloomy_parcel_RSA.csv\n",
      "✅ sub-039: 200 rows → /Volumes/Passport/fmriprep/derivatives/RSA_stats/pieman/feeling_Gloomy/sub-039_pieman_feeling_Gloomy_parcel_RSA.csv\n",
      "✅ sub-040: 200 rows → /Volumes/Passport/fmriprep/derivatives/RSA_stats/pieman/feeling_Gloomy/sub-040_pieman_feeling_Gloomy_parcel_RSA.csv\n",
      "✅ sub-041: 200 rows → /Volumes/Passport/fmriprep/derivatives/RSA_stats/pieman/feeling_Gloomy/sub-041_pieman_feeling_Gloomy_parcel_RSA.csv\n",
      "✅ sub-042: 200 rows → /Volumes/Passport/fmriprep/derivatives/RSA_stats/pieman/feeling_Gloomy/sub-042_pieman_feeling_Gloomy_parcel_RSA.csv\n",
      "✅ sub-043: 200 rows → /Volumes/Passport/fmriprep/derivatives/RSA_stats/pieman/feeling_Gloomy/sub-043_pieman_feeling_Gloomy_parcel_RSA.csv\n",
      "✅ sub-044: 200 rows → /Volumes/Passport/fmriprep/derivatives/RSA_stats/pieman/feeling_Gloomy/sub-044_pieman_feeling_Gloomy_parcel_RSA.csv\n",
      "✅ sub-045: 200 rows → /Volumes/Passport/fmriprep/derivatives/RSA_stats/pieman/feeling_Gloomy/sub-045_pieman_feeling_Gloomy_parcel_RSA.csv\n",
      "✅ sub-046: 200 rows → /Volumes/Passport/fmriprep/derivatives/RSA_stats/pieman/feeling_Gloomy/sub-046_pieman_feeling_Gloomy_parcel_RSA.csv\n",
      "✅ sub-047: 200 rows → /Volumes/Passport/fmriprep/derivatives/RSA_stats/pieman/feeling_Gloomy/sub-047_pieman_feeling_Gloomy_parcel_RSA.csv\n",
      "✅ sub-048: 200 rows → /Volumes/Passport/fmriprep/derivatives/RSA_stats/pieman/feeling_Gloomy/sub-048_pieman_feeling_Gloomy_parcel_RSA.csv\n",
      "✅ sub-049: 200 rows → /Volumes/Passport/fmriprep/derivatives/RSA_stats/pieman/feeling_Gloomy/sub-049_pieman_feeling_Gloomy_parcel_RSA.csv\n",
      "✅ sub-050: 200 rows → /Volumes/Passport/fmriprep/derivatives/RSA_stats/pieman/feeling_Gloomy/sub-050_pieman_feeling_Gloomy_parcel_RSA.csv\n",
      "✅ sub-051: 200 rows → /Volumes/Passport/fmriprep/derivatives/RSA_stats/pieman/feeling_Gloomy/sub-051_pieman_feeling_Gloomy_parcel_RSA.csv\n",
      "✅ sub-052: 200 rows → /Volumes/Passport/fmriprep/derivatives/RSA_stats/pieman/feeling_Gloomy/sub-052_pieman_feeling_Gloomy_parcel_RSA.csv\n",
      "✅ sub-053: 200 rows → /Volumes/Passport/fmriprep/derivatives/RSA_stats/pieman/feeling_Gloomy/sub-053_pieman_feeling_Gloomy_parcel_RSA.csv\n",
      "✅ sub-054: 200 rows → /Volumes/Passport/fmriprep/derivatives/RSA_stats/pieman/feeling_Gloomy/sub-054_pieman_feeling_Gloomy_parcel_RSA.csv\n",
      "✅ sub-055: 200 rows → /Volumes/Passport/fmriprep/derivatives/RSA_stats/pieman/feeling_Gloomy/sub-055_pieman_feeling_Gloomy_parcel_RSA.csv\n",
      "✅ sub-057: 200 rows → /Volumes/Passport/fmriprep/derivatives/RSA_stats/pieman/feeling_Gloomy/sub-057_pieman_feeling_Gloomy_parcel_RSA.csv\n",
      "✅ sub-058: 200 rows → /Volumes/Passport/fmriprep/derivatives/RSA_stats/pieman/feeling_Gloomy/sub-058_pieman_feeling_Gloomy_parcel_RSA.csv\n",
      "✅ sub-059: 200 rows → /Volumes/Passport/fmriprep/derivatives/RSA_stats/pieman/feeling_Gloomy/sub-059_pieman_feeling_Gloomy_parcel_RSA.csv\n",
      "✅ sub-060: 200 rows → /Volumes/Passport/fmriprep/derivatives/RSA_stats/pieman/feeling_Gloomy/sub-060_pieman_feeling_Gloomy_parcel_RSA.csv\n",
      "✅ sub-061: 200 rows → /Volumes/Passport/fmriprep/derivatives/RSA_stats/pieman/feeling_Gloomy/sub-061_pieman_feeling_Gloomy_parcel_RSA.csv\n",
      "✅ sub-062: 200 rows → /Volumes/Passport/fmriprep/derivatives/RSA_stats/pieman/feeling_Gloomy/sub-062_pieman_feeling_Gloomy_parcel_RSA.csv\n",
      "✅ sub-063: 200 rows → /Volumes/Passport/fmriprep/derivatives/RSA_stats/pieman/feeling_Gloomy/sub-063_pieman_feeling_Gloomy_parcel_RSA.csv\n",
      "✅ sub-064: 200 rows → /Volumes/Passport/fmriprep/derivatives/RSA_stats/pieman/feeling_Gloomy/sub-064_pieman_feeling_Gloomy_parcel_RSA.csv\n",
      "✅ sub-065: 200 rows → /Volumes/Passport/fmriprep/derivatives/RSA_stats/pieman/feeling_Gloomy/sub-065_pieman_feeling_Gloomy_parcel_RSA.csv\n",
      "✅ sub-066: 200 rows → /Volumes/Passport/fmriprep/derivatives/RSA_stats/pieman/feeling_Gloomy/sub-066_pieman_feeling_Gloomy_parcel_RSA.csv\n",
      "✅ sub-067: 200 rows → /Volumes/Passport/fmriprep/derivatives/RSA_stats/pieman/feeling_Gloomy/sub-067_pieman_feeling_Gloomy_parcel_RSA.csv\n",
      "✅ sub-070: 200 rows → /Volumes/Passport/fmriprep/derivatives/RSA_stats/pieman/feeling_Gloomy/sub-070_pieman_feeling_Gloomy_parcel_RSA.csv\n",
      "✅ sub-071: 200 rows → /Volumes/Passport/fmriprep/derivatives/RSA_stats/pieman/feeling_Gloomy/sub-071_pieman_feeling_Gloomy_parcel_RSA.csv\n",
      "✅ sub-072: 200 rows → /Volumes/Passport/fmriprep/derivatives/RSA_stats/pieman/feeling_Gloomy/sub-072_pieman_feeling_Gloomy_parcel_RSA.csv\n",
      "✅ sub-073: 200 rows → /Volumes/Passport/fmriprep/derivatives/RSA_stats/pieman/feeling_Gloomy/sub-073_pieman_feeling_Gloomy_parcel_RSA.csv\n",
      "✅ sub-074: 200 rows → /Volumes/Passport/fmriprep/derivatives/RSA_stats/pieman/feeling_Gloomy/sub-074_pieman_feeling_Gloomy_parcel_RSA.csv\n",
      "✅ sub-075: 200 rows → /Volumes/Passport/fmriprep/derivatives/RSA_stats/pieman/feeling_Gloomy/sub-075_pieman_feeling_Gloomy_parcel_RSA.csv\n",
      "✅ sub-076: 200 rows → /Volumes/Passport/fmriprep/derivatives/RSA_stats/pieman/feeling_Gloomy/sub-076_pieman_feeling_Gloomy_parcel_RSA.csv\n",
      "✅ sub-077: 200 rows → /Volumes/Passport/fmriprep/derivatives/RSA_stats/pieman/feeling_Gloomy/sub-077_pieman_feeling_Gloomy_parcel_RSA.csv\n",
      "✅ sub-078: 200 rows → /Volumes/Passport/fmriprep/derivatives/RSA_stats/pieman/feeling_Gloomy/sub-078_pieman_feeling_Gloomy_parcel_RSA.csv\n",
      "✅ sub-079: 200 rows → /Volumes/Passport/fmriprep/derivatives/RSA_stats/pieman/feeling_Gloomy/sub-079_pieman_feeling_Gloomy_parcel_RSA.csv\n",
      "✅ sub-080: 200 rows → /Volumes/Passport/fmriprep/derivatives/RSA_stats/pieman/feeling_Gloomy/sub-080_pieman_feeling_Gloomy_parcel_RSA.csv\n",
      "✅ sub-081: 200 rows → /Volumes/Passport/fmriprep/derivatives/RSA_stats/pieman/feeling_Gloomy/sub-081_pieman_feeling_Gloomy_parcel_RSA.csv\n",
      "✅ sub-082: 200 rows → /Volumes/Passport/fmriprep/derivatives/RSA_stats/pieman/feeling_Gloomy/sub-082_pieman_feeling_Gloomy_parcel_RSA.csv\n",
      "\n",
      "ALL DONE 🎉\n"
     ]
    }
   ],
   "source": [
    "# ----------------------------------------------------------------------\n",
    "# 6. CALL FUNCTION FOR EACH SUBJECT\n",
    "# ----------------------------------------------------------------------\n",
    "for sub in subjects:\n",
    "    run_parcel_rsa_for_subject(sub)\n",
    "\n",
    "print(\"\\nALL DONE 🎉\")"
   ]
  },
  {
   "cell_type": "code",
   "execution_count": 158,
   "metadata": {},
   "outputs": [
    {
     "name": "stdout",
     "output_type": "stream",
     "text": [
      "Best parcel  ➜  162  (R² = 0.000326)\n"
     ]
    }
   ],
   "source": [
    "import pandas as pd\n",
    "rsa_df = pd.read_csv(f'/Volumes/Passport/fmriprep/derivatives/RSA_stats/{STIMULUS_LABEL_SAVE_STRING}/{TRAIT_LABEL_SAVE_STRING}/sub-002_{STIMULUS_LABEL_SAVE_STRING}_{TRAIT_LABEL_SAVE_STRING}_parcel_RSA.csv')\n",
    "\n",
    "# identify parcel with max R²\n",
    "best_row = rsa_df.loc[rsa_df['r2'].idxmax()]\n",
    "best_parcel = int(best_row['parcel'])\n",
    "print(f\"Best parcel  ➜  {best_parcel:03d}  (R² = {best_row['r2']:.6f})\")"
   ]
  },
  {
   "cell_type": "code",
   "execution_count": 159,
   "metadata": {},
   "outputs": [
    {
     "name": "stdout",
     "output_type": "stream",
     "text": [
      "     subject  run  parcel      beta        r2\n",
      "0    sub-002    1       1 -0.000267  0.000015\n",
      "1    sub-002    1       2  0.000239  0.000006\n",
      "2    sub-002    1       3 -0.000121  0.000002\n",
      "3    sub-002    1       4  0.000244  0.000006\n",
      "4    sub-002    1       5 -0.000511  0.000046\n",
      "..       ...  ...     ...       ...       ...\n",
      "195  sub-002    1     196 -0.000872  0.000182\n",
      "196  sub-002    1     197 -0.000568  0.000082\n",
      "197  sub-002    1     198 -0.000869  0.000154\n",
      "198  sub-002    1     199 -0.000673  0.000085\n",
      "199  sub-002    1     200 -0.000699  0.000102\n",
      "\n",
      "[200 rows x 5 columns]\n"
     ]
    }
   ],
   "source": [
    "print(rsa_df)"
   ]
  },
  {
   "cell_type": "code",
   "execution_count": 160,
   "metadata": {},
   "outputs": [
    {
     "data": {
      "text/html": [
       "<div>\n",
       "<style scoped>\n",
       "    .dataframe tbody tr th:only-of-type {\n",
       "        vertical-align: middle;\n",
       "    }\n",
       "\n",
       "    .dataframe tbody tr th {\n",
       "        vertical-align: top;\n",
       "    }\n",
       "\n",
       "    .dataframe thead th {\n",
       "        text-align: right;\n",
       "    }\n",
       "</style>\n",
       "<table border=\"1\" class=\"dataframe\">\n",
       "  <thead>\n",
       "    <tr style=\"text-align: right;\">\n",
       "      <th></th>\n",
       "      <th>subject</th>\n",
       "      <th>run</th>\n",
       "      <th>parcel</th>\n",
       "      <th>beta</th>\n",
       "      <th>r2</th>\n",
       "    </tr>\n",
       "  </thead>\n",
       "  <tbody>\n",
       "    <tr>\n",
       "      <th>0</th>\n",
       "      <td>sub-002</td>\n",
       "      <td>1.0</td>\n",
       "      <td>1</td>\n",
       "      <td>-0.000267</td>\n",
       "      <td>0.000015</td>\n",
       "    </tr>\n",
       "    <tr>\n",
       "      <th>1</th>\n",
       "      <td>sub-002</td>\n",
       "      <td>1.0</td>\n",
       "      <td>2</td>\n",
       "      <td>0.000239</td>\n",
       "      <td>0.000006</td>\n",
       "    </tr>\n",
       "    <tr>\n",
       "      <th>2</th>\n",
       "      <td>sub-002</td>\n",
       "      <td>1.0</td>\n",
       "      <td>3</td>\n",
       "      <td>-0.000121</td>\n",
       "      <td>0.000002</td>\n",
       "    </tr>\n",
       "    <tr>\n",
       "      <th>3</th>\n",
       "      <td>sub-002</td>\n",
       "      <td>1.0</td>\n",
       "      <td>4</td>\n",
       "      <td>0.000244</td>\n",
       "      <td>0.000006</td>\n",
       "    </tr>\n",
       "    <tr>\n",
       "      <th>4</th>\n",
       "      <td>sub-002</td>\n",
       "      <td>1.0</td>\n",
       "      <td>5</td>\n",
       "      <td>-0.000511</td>\n",
       "      <td>0.000046</td>\n",
       "    </tr>\n",
       "    <tr>\n",
       "      <th>...</th>\n",
       "      <td>...</td>\n",
       "      <td>...</td>\n",
       "      <td>...</td>\n",
       "      <td>...</td>\n",
       "      <td>...</td>\n",
       "    </tr>\n",
       "    <tr>\n",
       "      <th>14995</th>\n",
       "      <td>sub-082</td>\n",
       "      <td>NaN</td>\n",
       "      <td>196</td>\n",
       "      <td>-0.002080</td>\n",
       "      <td>0.003557</td>\n",
       "    </tr>\n",
       "    <tr>\n",
       "      <th>14996</th>\n",
       "      <td>sub-082</td>\n",
       "      <td>NaN</td>\n",
       "      <td>197</td>\n",
       "      <td>-0.002024</td>\n",
       "      <td>0.002797</td>\n",
       "    </tr>\n",
       "    <tr>\n",
       "      <th>14997</th>\n",
       "      <td>sub-082</td>\n",
       "      <td>NaN</td>\n",
       "      <td>198</td>\n",
       "      <td>-0.002013</td>\n",
       "      <td>0.002160</td>\n",
       "    </tr>\n",
       "    <tr>\n",
       "      <th>14998</th>\n",
       "      <td>sub-082</td>\n",
       "      <td>NaN</td>\n",
       "      <td>199</td>\n",
       "      <td>-0.002013</td>\n",
       "      <td>0.001928</td>\n",
       "    </tr>\n",
       "    <tr>\n",
       "      <th>14999</th>\n",
       "      <td>sub-082</td>\n",
       "      <td>NaN</td>\n",
       "      <td>200</td>\n",
       "      <td>-0.002036</td>\n",
       "      <td>0.002340</td>\n",
       "    </tr>\n",
       "  </tbody>\n",
       "</table>\n",
       "<p>15000 rows × 5 columns</p>\n",
       "</div>"
      ],
      "text/plain": [
       "       subject  run  parcel      beta        r2\n",
       "0      sub-002  1.0       1 -0.000267  0.000015\n",
       "1      sub-002  1.0       2  0.000239  0.000006\n",
       "2      sub-002  1.0       3 -0.000121  0.000002\n",
       "3      sub-002  1.0       4  0.000244  0.000006\n",
       "4      sub-002  1.0       5 -0.000511  0.000046\n",
       "...        ...  ...     ...       ...       ...\n",
       "14995  sub-082  NaN     196 -0.002080  0.003557\n",
       "14996  sub-082  NaN     197 -0.002024  0.002797\n",
       "14997  sub-082  NaN     198 -0.002013  0.002160\n",
       "14998  sub-082  NaN     199 -0.002013  0.001928\n",
       "14999  sub-082  NaN     200 -0.002036  0.002340\n",
       "\n",
       "[15000 rows x 5 columns]"
      ]
     },
     "execution_count": 160,
     "metadata": {},
     "output_type": "execute_result"
    }
   ],
   "source": [
    "# concatenate all dfs from all subjects into 1 big df\n",
    "all_df = pd.DataFrame()\n",
    "\n",
    "for sub in subjects:\n",
    "    temp_df = pd.read_csv(f'/Volumes/Passport/fmriprep/derivatives/RSA_stats/{STIMULUS_LABEL_SAVE_STRING}/{TRAIT_LABEL_SAVE_STRING}/{sub}_{STIMULUS_LABEL_SAVE_STRING}_{TRAIT_LABEL_SAVE_STRING}_parcel_RSA.csv')\n",
    "    all_df = pd.concat([all_df, temp_df], ignore_index=True)\n",
    "\n",
    "all_df"
   ]
  },
  {
   "cell_type": "code",
   "execution_count": 161,
   "metadata": {},
   "outputs": [
    {
     "data": {
      "text/plain": [
       "75"
      ]
     },
     "execution_count": 161,
     "metadata": {},
     "output_type": "execute_result"
    }
   ],
   "source": [
    "all_df.subject.nunique()"
   ]
  },
  {
   "cell_type": "code",
   "execution_count": 162,
   "metadata": {},
   "outputs": [],
   "source": [
    "t_values = []\n",
    "p_values = []\n",
    "\n",
    "for parcel in range(1,n_rois+1):\n",
    "    parcel_df = all_df[all_df['parcel'] == parcel]\n",
    "    assert len(parcel_df) == 75, f\"There should be 75 subjects data per parcel, there is only {len(parcel_df)}\"\n",
    "\n",
    "    # Perform t-test\n",
    "    t, p = ttest_1samp(parcel_df['beta'], 0, alternative='greater')\n",
    "    t_values.append(t)\n",
    "    p_values.append(p)\n",
    "\n"
   ]
  },
  {
   "cell_type": "code",
   "execution_count": 163,
   "metadata": {},
   "outputs": [
    {
     "data": {
      "text/plain": [
       "1.0"
      ]
     },
     "execution_count": 163,
     "metadata": {},
     "output_type": "execute_result"
    }
   ],
   "source": [
    "np.min(p_values)\n",
    "# np.min(t_values)"
   ]
  },
  {
   "cell_type": "code",
   "execution_count": 164,
   "metadata": {},
   "outputs": [
    {
     "data": {
      "text/plain": [
       "-85.35315605832639"
      ]
     },
     "execution_count": 164,
     "metadata": {},
     "output_type": "execute_result"
    }
   ],
   "source": [
    "np.min(t_values)"
   ]
  },
  {
   "cell_type": "code",
   "execution_count": 165,
   "metadata": {},
   "outputs": [
    {
     "name": "stdout",
     "output_type": "stream",
     "text": [
      "✅ Saved group stats for feeling Gloomy →\n",
      "   /Volumes/Passport/fmriprep/derivatives/RSA_stats/pieman/feeling_Gloomy/group_stats_pieman_feeling_Gloomy.csv\n"
     ]
    }
   ],
   "source": [
    "# 1) build a summary DataFrame\n",
    "summary_df = pd.DataFrame({\n",
    "    \"parcel\": np.arange(1, n_rois + 1),\n",
    "    \"t_value\": t_values,\n",
    "    \"p_value\": p_values\n",
    "})\n",
    "\n",
    "# 2) make sure the trait folder exists\n",
    "output_folder = os.path.join(\n",
    "    deriv_dir,\n",
    "    \"RSA_stats\",\n",
    "    STIMULUS_LABEL_SAVE_STRING,\n",
    "    TRAIT_LABEL_SAVE_STRING\n",
    ")\n",
    "os.makedirs(output_folder, exist_ok=True)\n",
    "\n",
    "# 3) write it out\n",
    "outfile = os.path.join(\n",
    "    output_folder,\n",
    "    f\"group_stats_{STIMULUS_LABEL_SAVE_STRING}_{TRAIT_LABEL_SAVE_STRING}.csv\"\n",
    ")\n",
    "summary_df.to_csv(outfile, index=False)\n",
    "\n",
    "print(f\"✅ Saved group stats for {TRAIT_LABEL} →\\n   {outfile}\")"
   ]
  }
 ],
 "metadata": {
  "kernelspec": {
   "display_name": "base",
   "language": "python",
   "name": "python3"
  },
  "language_info": {
   "codemirror_mode": {
    "name": "ipython",
    "version": 3
   },
   "file_extension": ".py",
   "mimetype": "text/x-python",
   "name": "python",
   "nbconvert_exporter": "python",
   "pygments_lexer": "ipython3",
   "version": "3.12.9"
  }
 },
 "nbformat": 4,
 "nbformat_minor": 2
}
